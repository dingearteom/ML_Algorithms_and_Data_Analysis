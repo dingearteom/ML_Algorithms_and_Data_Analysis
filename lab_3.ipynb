{
 "cells": [
  {
   "cell_type": "code",
   "execution_count": 174,
   "metadata": {
    "jupyter": {
     "outputs_hidden": true
    }
   },
   "outputs": [],
   "source": [
    "import pandas as pd\n",
    "import numpy as np\n",
    "from sklearn.preprocessing import StandardScaler\n",
    "from sklearn.svm import SVC\n",
    "from sklearn.model_selection import GridSearchCV\n",
    "from sklearn.model_selection import cross_validate\n",
    "from sklearn.model_selection import train_test_split\n",
    "from sklearn.model_selection import RandomizedSearchCV\n",
    "from sklearn.calibration import CalibratedClassifierCV\n",
    "from sklearn.calibration import calibration_curve\n",
    "from sklearn.metrics import log_loss\n",
    "from sklearn.metrics import precision_score\n",
    "from sklearn.metrics import accuracy_score\n",
    "from sklearn.metrics import recall_score\n",
    "from sklearn.metrics import precision_recall_curve\n",
    "from sklearn.metrics import roc_curve\n",
    "from sklearn.metrics import auc\n",
    "from sklearn.linear_model import LogisticRegression\n",
    "import scipy.sparse as sp\n",
    "\n",
    "from sklearn.ensemble import RandomForestClassifier\n",
    "from sklearn.feature_extraction.text import CountVectorizer\n",
    "from sklearn.feature_extraction.text import HashingVectorizer\n",
    "import time\n",
    "import matplotlib.pyplot as plt"
   ]
  },
  {
   "cell_type": "code",
   "execution_count": null,
   "metadata": {
    "collapsed": true
   },
   "outputs": [],
   "source": []
  },
  {
   "cell_type": "code",
   "execution_count": 2,
   "metadata": {},
   "outputs": [
    {
     "data": {
      "text/html": [
       "<div>\n",
       "<style scoped>\n",
       "    .dataframe tbody tr th:only-of-type {\n",
       "        vertical-align: middle;\n",
       "    }\n",
       "\n",
       "    .dataframe tbody tr th {\n",
       "        vertical-align: top;\n",
       "    }\n",
       "\n",
       "    .dataframe thead th {\n",
       "        text-align: right;\n",
       "    }\n",
       "</style>\n",
       "<table border=\"1\" class=\"dataframe\">\n",
       "  <thead>\n",
       "    <tr style=\"text-align: right;\">\n",
       "      <th></th>\n",
       "      <th>ID</th>\n",
       "      <th>LIMIT_BAL</th>\n",
       "      <th>SEX</th>\n",
       "      <th>EDUCATION</th>\n",
       "      <th>MARRIAGE</th>\n",
       "      <th>AGE</th>\n",
       "      <th>PAY_0</th>\n",
       "      <th>PAY_2</th>\n",
       "      <th>PAY_3</th>\n",
       "      <th>PAY_4</th>\n",
       "      <th>...</th>\n",
       "      <th>BILL_AMT4</th>\n",
       "      <th>BILL_AMT5</th>\n",
       "      <th>BILL_AMT6</th>\n",
       "      <th>PAY_AMT1</th>\n",
       "      <th>PAY_AMT2</th>\n",
       "      <th>PAY_AMT3</th>\n",
       "      <th>PAY_AMT4</th>\n",
       "      <th>PAY_AMT5</th>\n",
       "      <th>PAY_AMT6</th>\n",
       "      <th>default payment next month</th>\n",
       "    </tr>\n",
       "  </thead>\n",
       "  <tbody>\n",
       "    <tr>\n",
       "      <th>0</th>\n",
       "      <td>1</td>\n",
       "      <td>20000</td>\n",
       "      <td>2</td>\n",
       "      <td>2</td>\n",
       "      <td>1</td>\n",
       "      <td>24</td>\n",
       "      <td>2</td>\n",
       "      <td>2</td>\n",
       "      <td>-1</td>\n",
       "      <td>-1</td>\n",
       "      <td>...</td>\n",
       "      <td>0</td>\n",
       "      <td>0</td>\n",
       "      <td>0</td>\n",
       "      <td>0</td>\n",
       "      <td>689</td>\n",
       "      <td>0</td>\n",
       "      <td>0</td>\n",
       "      <td>0</td>\n",
       "      <td>0</td>\n",
       "      <td>1</td>\n",
       "    </tr>\n",
       "    <tr>\n",
       "      <th>1</th>\n",
       "      <td>2</td>\n",
       "      <td>120000</td>\n",
       "      <td>2</td>\n",
       "      <td>2</td>\n",
       "      <td>2</td>\n",
       "      <td>26</td>\n",
       "      <td>-1</td>\n",
       "      <td>2</td>\n",
       "      <td>0</td>\n",
       "      <td>0</td>\n",
       "      <td>...</td>\n",
       "      <td>3272</td>\n",
       "      <td>3455</td>\n",
       "      <td>3261</td>\n",
       "      <td>0</td>\n",
       "      <td>1000</td>\n",
       "      <td>1000</td>\n",
       "      <td>1000</td>\n",
       "      <td>0</td>\n",
       "      <td>2000</td>\n",
       "      <td>1</td>\n",
       "    </tr>\n",
       "    <tr>\n",
       "      <th>2</th>\n",
       "      <td>3</td>\n",
       "      <td>90000</td>\n",
       "      <td>2</td>\n",
       "      <td>2</td>\n",
       "      <td>2</td>\n",
       "      <td>34</td>\n",
       "      <td>0</td>\n",
       "      <td>0</td>\n",
       "      <td>0</td>\n",
       "      <td>0</td>\n",
       "      <td>...</td>\n",
       "      <td>14331</td>\n",
       "      <td>14948</td>\n",
       "      <td>15549</td>\n",
       "      <td>1518</td>\n",
       "      <td>1500</td>\n",
       "      <td>1000</td>\n",
       "      <td>1000</td>\n",
       "      <td>1000</td>\n",
       "      <td>5000</td>\n",
       "      <td>0</td>\n",
       "    </tr>\n",
       "    <tr>\n",
       "      <th>3</th>\n",
       "      <td>4</td>\n",
       "      <td>50000</td>\n",
       "      <td>2</td>\n",
       "      <td>2</td>\n",
       "      <td>1</td>\n",
       "      <td>37</td>\n",
       "      <td>0</td>\n",
       "      <td>0</td>\n",
       "      <td>0</td>\n",
       "      <td>0</td>\n",
       "      <td>...</td>\n",
       "      <td>28314</td>\n",
       "      <td>28959</td>\n",
       "      <td>29547</td>\n",
       "      <td>2000</td>\n",
       "      <td>2019</td>\n",
       "      <td>1200</td>\n",
       "      <td>1100</td>\n",
       "      <td>1069</td>\n",
       "      <td>1000</td>\n",
       "      <td>0</td>\n",
       "    </tr>\n",
       "    <tr>\n",
       "      <th>4</th>\n",
       "      <td>5</td>\n",
       "      <td>50000</td>\n",
       "      <td>1</td>\n",
       "      <td>2</td>\n",
       "      <td>1</td>\n",
       "      <td>57</td>\n",
       "      <td>-1</td>\n",
       "      <td>0</td>\n",
       "      <td>-1</td>\n",
       "      <td>0</td>\n",
       "      <td>...</td>\n",
       "      <td>20940</td>\n",
       "      <td>19146</td>\n",
       "      <td>19131</td>\n",
       "      <td>2000</td>\n",
       "      <td>36681</td>\n",
       "      <td>10000</td>\n",
       "      <td>9000</td>\n",
       "      <td>689</td>\n",
       "      <td>679</td>\n",
       "      <td>0</td>\n",
       "    </tr>\n",
       "  </tbody>\n",
       "</table>\n",
       "<p>5 rows × 25 columns</p>\n",
       "</div>"
      ],
      "text/plain": [
       "   ID  LIMIT_BAL  SEX  EDUCATION  MARRIAGE  AGE  PAY_0  PAY_2  PAY_3  PAY_4  \\\n",
       "0   1      20000    2          2         1   24      2      2     -1     -1   \n",
       "1   2     120000    2          2         2   26     -1      2      0      0   \n",
       "2   3      90000    2          2         2   34      0      0      0      0   \n",
       "3   4      50000    2          2         1   37      0      0      0      0   \n",
       "4   5      50000    1          2         1   57     -1      0     -1      0   \n",
       "\n",
       "   ...  BILL_AMT4  BILL_AMT5  BILL_AMT6  PAY_AMT1  PAY_AMT2  PAY_AMT3  \\\n",
       "0  ...          0          0          0         0       689         0   \n",
       "1  ...       3272       3455       3261         0      1000      1000   \n",
       "2  ...      14331      14948      15549      1518      1500      1000   \n",
       "3  ...      28314      28959      29547      2000      2019      1200   \n",
       "4  ...      20940      19146      19131      2000     36681     10000   \n",
       "\n",
       "   PAY_AMT4  PAY_AMT5  PAY_AMT6  default payment next month  \n",
       "0         0         0         0                           1  \n",
       "1      1000         0      2000                           1  \n",
       "2      1000      1000      5000                           0  \n",
       "3      1100      1069      1000                           0  \n",
       "4      9000       689       679                           0  \n",
       "\n",
       "[5 rows x 25 columns]"
      ]
     },
     "execution_count": 2,
     "metadata": {},
     "output_type": "execute_result"
    }
   ],
   "source": [
    "data = pd.read_csv(\"/home/artem/Desktop/programming/Shad_ML/Data/lab3/default of credit card clients.csv\")\n",
    "data.head()"
   ]
  },
  {
   "cell_type": "code",
   "execution_count": 3,
   "metadata": {},
   "outputs": [
    {
     "data": {
      "text/html": [
       "<div>\n",
       "<style scoped>\n",
       "    .dataframe tbody tr th:only-of-type {\n",
       "        vertical-align: middle;\n",
       "    }\n",
       "\n",
       "    .dataframe tbody tr th {\n",
       "        vertical-align: top;\n",
       "    }\n",
       "\n",
       "    .dataframe thead th {\n",
       "        text-align: right;\n",
       "    }\n",
       "</style>\n",
       "<table border=\"1\" class=\"dataframe\">\n",
       "  <thead>\n",
       "    <tr style=\"text-align: right;\">\n",
       "      <th></th>\n",
       "      <th>LIMIT_BAL</th>\n",
       "      <th>SEX</th>\n",
       "      <th>EDUCATION</th>\n",
       "      <th>MARRIAGE</th>\n",
       "      <th>AGE</th>\n",
       "      <th>PAY_0</th>\n",
       "      <th>PAY_2</th>\n",
       "      <th>PAY_3</th>\n",
       "      <th>PAY_4</th>\n",
       "      <th>PAY_5</th>\n",
       "      <th>...</th>\n",
       "      <th>BILL_AMT4</th>\n",
       "      <th>BILL_AMT5</th>\n",
       "      <th>BILL_AMT6</th>\n",
       "      <th>PAY_AMT1</th>\n",
       "      <th>PAY_AMT2</th>\n",
       "      <th>PAY_AMT3</th>\n",
       "      <th>PAY_AMT4</th>\n",
       "      <th>PAY_AMT5</th>\n",
       "      <th>PAY_AMT6</th>\n",
       "      <th>default payment next month</th>\n",
       "    </tr>\n",
       "  </thead>\n",
       "  <tbody>\n",
       "    <tr>\n",
       "      <th>0</th>\n",
       "      <td>20000</td>\n",
       "      <td>2</td>\n",
       "      <td>2</td>\n",
       "      <td>1</td>\n",
       "      <td>24</td>\n",
       "      <td>2</td>\n",
       "      <td>2</td>\n",
       "      <td>-1</td>\n",
       "      <td>-1</td>\n",
       "      <td>-2</td>\n",
       "      <td>...</td>\n",
       "      <td>0</td>\n",
       "      <td>0</td>\n",
       "      <td>0</td>\n",
       "      <td>0</td>\n",
       "      <td>689</td>\n",
       "      <td>0</td>\n",
       "      <td>0</td>\n",
       "      <td>0</td>\n",
       "      <td>0</td>\n",
       "      <td>1</td>\n",
       "    </tr>\n",
       "    <tr>\n",
       "      <th>1</th>\n",
       "      <td>120000</td>\n",
       "      <td>2</td>\n",
       "      <td>2</td>\n",
       "      <td>2</td>\n",
       "      <td>26</td>\n",
       "      <td>-1</td>\n",
       "      <td>2</td>\n",
       "      <td>0</td>\n",
       "      <td>0</td>\n",
       "      <td>0</td>\n",
       "      <td>...</td>\n",
       "      <td>3272</td>\n",
       "      <td>3455</td>\n",
       "      <td>3261</td>\n",
       "      <td>0</td>\n",
       "      <td>1000</td>\n",
       "      <td>1000</td>\n",
       "      <td>1000</td>\n",
       "      <td>0</td>\n",
       "      <td>2000</td>\n",
       "      <td>1</td>\n",
       "    </tr>\n",
       "    <tr>\n",
       "      <th>2</th>\n",
       "      <td>90000</td>\n",
       "      <td>2</td>\n",
       "      <td>2</td>\n",
       "      <td>2</td>\n",
       "      <td>34</td>\n",
       "      <td>0</td>\n",
       "      <td>0</td>\n",
       "      <td>0</td>\n",
       "      <td>0</td>\n",
       "      <td>0</td>\n",
       "      <td>...</td>\n",
       "      <td>14331</td>\n",
       "      <td>14948</td>\n",
       "      <td>15549</td>\n",
       "      <td>1518</td>\n",
       "      <td>1500</td>\n",
       "      <td>1000</td>\n",
       "      <td>1000</td>\n",
       "      <td>1000</td>\n",
       "      <td>5000</td>\n",
       "      <td>0</td>\n",
       "    </tr>\n",
       "    <tr>\n",
       "      <th>3</th>\n",
       "      <td>50000</td>\n",
       "      <td>2</td>\n",
       "      <td>2</td>\n",
       "      <td>1</td>\n",
       "      <td>37</td>\n",
       "      <td>0</td>\n",
       "      <td>0</td>\n",
       "      <td>0</td>\n",
       "      <td>0</td>\n",
       "      <td>0</td>\n",
       "      <td>...</td>\n",
       "      <td>28314</td>\n",
       "      <td>28959</td>\n",
       "      <td>29547</td>\n",
       "      <td>2000</td>\n",
       "      <td>2019</td>\n",
       "      <td>1200</td>\n",
       "      <td>1100</td>\n",
       "      <td>1069</td>\n",
       "      <td>1000</td>\n",
       "      <td>0</td>\n",
       "    </tr>\n",
       "    <tr>\n",
       "      <th>4</th>\n",
       "      <td>50000</td>\n",
       "      <td>1</td>\n",
       "      <td>2</td>\n",
       "      <td>1</td>\n",
       "      <td>57</td>\n",
       "      <td>-1</td>\n",
       "      <td>0</td>\n",
       "      <td>-1</td>\n",
       "      <td>0</td>\n",
       "      <td>0</td>\n",
       "      <td>...</td>\n",
       "      <td>20940</td>\n",
       "      <td>19146</td>\n",
       "      <td>19131</td>\n",
       "      <td>2000</td>\n",
       "      <td>36681</td>\n",
       "      <td>10000</td>\n",
       "      <td>9000</td>\n",
       "      <td>689</td>\n",
       "      <td>679</td>\n",
       "      <td>0</td>\n",
       "    </tr>\n",
       "  </tbody>\n",
       "</table>\n",
       "<p>5 rows × 24 columns</p>\n",
       "</div>"
      ],
      "text/plain": [
       "   LIMIT_BAL  SEX  EDUCATION  MARRIAGE  AGE  PAY_0  PAY_2  PAY_3  PAY_4  \\\n",
       "0      20000    2          2         1   24      2      2     -1     -1   \n",
       "1     120000    2          2         2   26     -1      2      0      0   \n",
       "2      90000    2          2         2   34      0      0      0      0   \n",
       "3      50000    2          2         1   37      0      0      0      0   \n",
       "4      50000    1          2         1   57     -1      0     -1      0   \n",
       "\n",
       "   PAY_5  ...  BILL_AMT4  BILL_AMT5  BILL_AMT6  PAY_AMT1  PAY_AMT2  PAY_AMT3  \\\n",
       "0     -2  ...          0          0          0         0       689         0   \n",
       "1      0  ...       3272       3455       3261         0      1000      1000   \n",
       "2      0  ...      14331      14948      15549      1518      1500      1000   \n",
       "3      0  ...      28314      28959      29547      2000      2019      1200   \n",
       "4      0  ...      20940      19146      19131      2000     36681     10000   \n",
       "\n",
       "   PAY_AMT4  PAY_AMT5  PAY_AMT6  default payment next month  \n",
       "0         0         0         0                           1  \n",
       "1      1000         0      2000                           1  \n",
       "2      1000      1000      5000                           0  \n",
       "3      1100      1069      1000                           0  \n",
       "4      9000       689       679                           0  \n",
       "\n",
       "[5 rows x 24 columns]"
      ]
     },
     "execution_count": 3,
     "metadata": {},
     "output_type": "execute_result"
    }
   ],
   "source": [
    "data = data.drop(['ID'], axis=1)\n",
    "data.head()"
   ]
  },
  {
   "cell_type": "code",
   "execution_count": 4,
   "metadata": {},
   "outputs": [
    {
     "data": {
      "text/plain": [
       "24000.0"
      ]
     },
     "execution_count": 4,
     "metadata": {},
     "output_type": "execute_result"
    }
   ],
   "source": [
    "data.shape\n",
    "(30000 / 5)*4"
   ]
  },
  {
   "cell_type": "code",
   "execution_count": 5,
   "metadata": {},
   "outputs": [],
   "source": [
    "x_train = data.iloc[:24000, :].drop(['default payment next month'], axis=1)\n",
    "y_train = data['default payment next month'][:24000]"
   ]
  },
  {
   "cell_type": "code",
   "execution_count": 6,
   "metadata": {},
   "outputs": [],
   "source": [
    "x_test = data.iloc[24001:, :].drop(['default payment next month'], axis=1)\n",
    "y_test = data['default payment next month'][24001:] # just in case"
   ]
  },
  {
   "cell_type": "code",
   "execution_count": 7,
   "metadata": {},
   "outputs": [
    {
     "data": {
      "text/html": [
       "<div>\n",
       "<style scoped>\n",
       "    .dataframe tbody tr th:only-of-type {\n",
       "        vertical-align: middle;\n",
       "    }\n",
       "\n",
       "    .dataframe tbody tr th {\n",
       "        vertical-align: top;\n",
       "    }\n",
       "\n",
       "    .dataframe thead th {\n",
       "        text-align: right;\n",
       "    }\n",
       "</style>\n",
       "<table border=\"1\" class=\"dataframe\">\n",
       "  <thead>\n",
       "    <tr style=\"text-align: right;\">\n",
       "      <th></th>\n",
       "      <th>LIMIT_BAL</th>\n",
       "      <th>SEX</th>\n",
       "      <th>EDUCATION</th>\n",
       "      <th>MARRIAGE</th>\n",
       "      <th>AGE</th>\n",
       "      <th>PAY_0</th>\n",
       "      <th>PAY_2</th>\n",
       "      <th>PAY_3</th>\n",
       "      <th>PAY_4</th>\n",
       "      <th>PAY_5</th>\n",
       "      <th>...</th>\n",
       "      <th>BILL_AMT3</th>\n",
       "      <th>BILL_AMT4</th>\n",
       "      <th>BILL_AMT5</th>\n",
       "      <th>BILL_AMT6</th>\n",
       "      <th>PAY_AMT1</th>\n",
       "      <th>PAY_AMT2</th>\n",
       "      <th>PAY_AMT3</th>\n",
       "      <th>PAY_AMT4</th>\n",
       "      <th>PAY_AMT5</th>\n",
       "      <th>PAY_AMT6</th>\n",
       "    </tr>\n",
       "  </thead>\n",
       "  <tbody>\n",
       "    <tr>\n",
       "      <th>0</th>\n",
       "      <td>-1.126775</td>\n",
       "      <td>0.769235</td>\n",
       "      <td>0.195622</td>\n",
       "      <td>-1.067388</td>\n",
       "      <td>-1.227552</td>\n",
       "      <td>1.783088</td>\n",
       "      <td>1.768766</td>\n",
       "      <td>-0.702030</td>\n",
       "      <td>-0.675796</td>\n",
       "      <td>-1.536614</td>\n",
       "      <td>...</td>\n",
       "      <td>-0.669840</td>\n",
       "      <td>-0.671771</td>\n",
       "      <td>-0.662880</td>\n",
       "      <td>-0.651915</td>\n",
       "      <td>-0.367853</td>\n",
       "      <td>-0.246499</td>\n",
       "      <td>-0.308741</td>\n",
       "      <td>-0.318719</td>\n",
       "      <td>-0.313259</td>\n",
       "      <td>-0.294350</td>\n",
       "    </tr>\n",
       "    <tr>\n",
       "      <th>1</th>\n",
       "      <td>-0.352338</td>\n",
       "      <td>0.769235</td>\n",
       "      <td>0.195622</td>\n",
       "      <td>0.848068</td>\n",
       "      <td>-1.011822</td>\n",
       "      <td>-0.887372</td>\n",
       "      <td>1.768766</td>\n",
       "      <td>0.128529</td>\n",
       "      <td>0.181451</td>\n",
       "      <td>0.222448</td>\n",
       "      <td>...</td>\n",
       "      <td>-0.640614</td>\n",
       "      <td>-0.619892</td>\n",
       "      <td>-0.605625</td>\n",
       "      <td>-0.596788</td>\n",
       "      <td>-0.367853</td>\n",
       "      <td>-0.231544</td>\n",
       "      <td>-0.246611</td>\n",
       "      <td>-0.251528</td>\n",
       "      <td>-0.313259</td>\n",
       "      <td>-0.180907</td>\n",
       "    </tr>\n",
       "    <tr>\n",
       "      <th>2</th>\n",
       "      <td>-0.584669</td>\n",
       "      <td>0.769235</td>\n",
       "      <td>0.195622</td>\n",
       "      <td>0.848068</td>\n",
       "      <td>-0.148903</td>\n",
       "      <td>0.002782</td>\n",
       "      <td>0.102869</td>\n",
       "      <td>0.128529</td>\n",
       "      <td>0.181451</td>\n",
       "      <td>0.222448</td>\n",
       "      <td>...</td>\n",
       "      <td>-0.481110</td>\n",
       "      <td>-0.444545</td>\n",
       "      <td>-0.415166</td>\n",
       "      <td>-0.389061</td>\n",
       "      <td>-0.267112</td>\n",
       "      <td>-0.207502</td>\n",
       "      <td>-0.246611</td>\n",
       "      <td>-0.251528</td>\n",
       "      <td>-0.247771</td>\n",
       "      <td>-0.010743</td>\n",
       "    </tr>\n",
       "    <tr>\n",
       "      <th>3</th>\n",
       "      <td>-0.894444</td>\n",
       "      <td>0.769235</td>\n",
       "      <td>0.195622</td>\n",
       "      <td>-1.067388</td>\n",
       "      <td>0.174692</td>\n",
       "      <td>0.002782</td>\n",
       "      <td>0.102869</td>\n",
       "      <td>0.128529</td>\n",
       "      <td>0.181451</td>\n",
       "      <td>0.222448</td>\n",
       "      <td>...</td>\n",
       "      <td>0.042878</td>\n",
       "      <td>-0.222837</td>\n",
       "      <td>-0.182980</td>\n",
       "      <td>-0.152426</td>\n",
       "      <td>-0.235124</td>\n",
       "      <td>-0.182546</td>\n",
       "      <td>-0.234185</td>\n",
       "      <td>-0.244809</td>\n",
       "      <td>-0.243252</td>\n",
       "      <td>-0.237629</td>\n",
       "    </tr>\n",
       "    <tr>\n",
       "      <th>4</th>\n",
       "      <td>-0.894444</td>\n",
       "      <td>-1.299992</td>\n",
       "      <td>0.195622</td>\n",
       "      <td>-1.067388</td>\n",
       "      <td>2.331990</td>\n",
       "      <td>-0.887372</td>\n",
       "      <td>0.102869</td>\n",
       "      <td>-0.702030</td>\n",
       "      <td>0.181451</td>\n",
       "      <td>0.222448</td>\n",
       "      <td>...</td>\n",
       "      <td>-0.154446</td>\n",
       "      <td>-0.339756</td>\n",
       "      <td>-0.345598</td>\n",
       "      <td>-0.328508</td>\n",
       "      <td>-0.235124</td>\n",
       "      <td>1.484169</td>\n",
       "      <td>0.312560</td>\n",
       "      <td>0.286000</td>\n",
       "      <td>-0.268138</td>\n",
       "      <td>-0.255837</td>\n",
       "    </tr>\n",
       "  </tbody>\n",
       "</table>\n",
       "<p>5 rows × 23 columns</p>\n",
       "</div>"
      ],
      "text/plain": [
       "   LIMIT_BAL       SEX  EDUCATION  MARRIAGE       AGE     PAY_0     PAY_2  \\\n",
       "0  -1.126775  0.769235   0.195622 -1.067388 -1.227552  1.783088  1.768766   \n",
       "1  -0.352338  0.769235   0.195622  0.848068 -1.011822 -0.887372  1.768766   \n",
       "2  -0.584669  0.769235   0.195622  0.848068 -0.148903  0.002782  0.102869   \n",
       "3  -0.894444  0.769235   0.195622 -1.067388  0.174692  0.002782  0.102869   \n",
       "4  -0.894444 -1.299992   0.195622 -1.067388  2.331990 -0.887372  0.102869   \n",
       "\n",
       "      PAY_3     PAY_4     PAY_5  ...  BILL_AMT3  BILL_AMT4  BILL_AMT5  \\\n",
       "0 -0.702030 -0.675796 -1.536614  ...  -0.669840  -0.671771  -0.662880   \n",
       "1  0.128529  0.181451  0.222448  ...  -0.640614  -0.619892  -0.605625   \n",
       "2  0.128529  0.181451  0.222448  ...  -0.481110  -0.444545  -0.415166   \n",
       "3  0.128529  0.181451  0.222448  ...   0.042878  -0.222837  -0.182980   \n",
       "4 -0.702030  0.181451  0.222448  ...  -0.154446  -0.339756  -0.345598   \n",
       "\n",
       "   BILL_AMT6  PAY_AMT1  PAY_AMT2  PAY_AMT3  PAY_AMT4  PAY_AMT5  PAY_AMT6  \n",
       "0  -0.651915 -0.367853 -0.246499 -0.308741 -0.318719 -0.313259 -0.294350  \n",
       "1  -0.596788 -0.367853 -0.231544 -0.246611 -0.251528 -0.313259 -0.180907  \n",
       "2  -0.389061 -0.267112 -0.207502 -0.246611 -0.251528 -0.247771 -0.010743  \n",
       "3  -0.152426 -0.235124 -0.182546 -0.234185 -0.244809 -0.243252 -0.237629  \n",
       "4  -0.328508 -0.235124  1.484169  0.312560  0.286000 -0.268138 -0.255837  \n",
       "\n",
       "[5 rows x 23 columns]"
      ]
     },
     "execution_count": 7,
     "metadata": {},
     "output_type": "execute_result"
    }
   ],
   "source": [
    "scaler = StandardScaler()\n",
    "x_train = pd.DataFrame(scaler.fit_transform(x_train), columns=x_train.columns)\n",
    "x_train.head()"
   ]
  },
  {
   "cell_type": "code",
   "execution_count": 8,
   "metadata": {},
   "outputs": [
    {
     "data": {
      "text/html": [
       "<div>\n",
       "<style scoped>\n",
       "    .dataframe tbody tr th:only-of-type {\n",
       "        vertical-align: middle;\n",
       "    }\n",
       "\n",
       "    .dataframe tbody tr th {\n",
       "        vertical-align: top;\n",
       "    }\n",
       "\n",
       "    .dataframe thead th {\n",
       "        text-align: right;\n",
       "    }\n",
       "</style>\n",
       "<table border=\"1\" class=\"dataframe\">\n",
       "  <thead>\n",
       "    <tr style=\"text-align: right;\">\n",
       "      <th></th>\n",
       "      <th>LIMIT_BAL</th>\n",
       "      <th>SEX</th>\n",
       "      <th>EDUCATION</th>\n",
       "      <th>MARRIAGE</th>\n",
       "      <th>AGE</th>\n",
       "      <th>PAY_0</th>\n",
       "      <th>PAY_2</th>\n",
       "      <th>PAY_3</th>\n",
       "      <th>PAY_4</th>\n",
       "      <th>PAY_5</th>\n",
       "      <th>...</th>\n",
       "      <th>BILL_AMT3</th>\n",
       "      <th>BILL_AMT4</th>\n",
       "      <th>BILL_AMT5</th>\n",
       "      <th>BILL_AMT6</th>\n",
       "      <th>PAY_AMT1</th>\n",
       "      <th>PAY_AMT2</th>\n",
       "      <th>PAY_AMT3</th>\n",
       "      <th>PAY_AMT4</th>\n",
       "      <th>PAY_AMT5</th>\n",
       "      <th>PAY_AMT6</th>\n",
       "    </tr>\n",
       "  </thead>\n",
       "  <tbody>\n",
       "    <tr>\n",
       "      <th>0</th>\n",
       "      <td>-0.875377</td>\n",
       "      <td>-1.011569</td>\n",
       "      <td>0.149404</td>\n",
       "      <td>0.901654</td>\n",
       "      <td>-1.102200</td>\n",
       "      <td>0.063506</td>\n",
       "      <td>0.148171</td>\n",
       "      <td>0.181734</td>\n",
       "      <td>0.217763</td>\n",
       "      <td>0.286101</td>\n",
       "      <td>...</td>\n",
       "      <td>0.106025</td>\n",
       "      <td>0.128815</td>\n",
       "      <td>-0.233362</td>\n",
       "      <td>-0.184261</td>\n",
       "      <td>-0.179589</td>\n",
       "      <td>-0.132267</td>\n",
       "      <td>-0.185656</td>\n",
       "      <td>-0.170958</td>\n",
       "      <td>-0.121723</td>\n",
       "      <td>-0.228857</td>\n",
       "    </tr>\n",
       "    <tr>\n",
       "      <th>1</th>\n",
       "      <td>1.702414</td>\n",
       "      <td>-1.011569</td>\n",
       "      <td>0.149404</td>\n",
       "      <td>0.901654</td>\n",
       "      <td>-0.990954</td>\n",
       "      <td>0.063506</td>\n",
       "      <td>0.148171</td>\n",
       "      <td>0.181734</td>\n",
       "      <td>0.217763</td>\n",
       "      <td>0.286101</td>\n",
       "      <td>...</td>\n",
       "      <td>-0.517056</td>\n",
       "      <td>-0.522839</td>\n",
       "      <td>-0.332799</td>\n",
       "      <td>-0.500115</td>\n",
       "      <td>-0.169414</td>\n",
       "      <td>0.120516</td>\n",
       "      <td>-0.212690</td>\n",
       "      <td>-0.219424</td>\n",
       "      <td>-0.284352</td>\n",
       "      <td>-0.237628</td>\n",
       "    </tr>\n",
       "    <tr>\n",
       "      <th>2</th>\n",
       "      <td>-1.178646</td>\n",
       "      <td>-1.011569</td>\n",
       "      <td>3.763417</td>\n",
       "      <td>0.901654</td>\n",
       "      <td>-0.990954</td>\n",
       "      <td>4.514116</td>\n",
       "      <td>3.531152</td>\n",
       "      <td>2.753007</td>\n",
       "      <td>1.914339</td>\n",
       "      <td>2.077669</td>\n",
       "      <td>...</td>\n",
       "      <td>-0.395413</td>\n",
       "      <td>-0.393003</td>\n",
       "      <td>-0.342773</td>\n",
       "      <td>-0.331650</td>\n",
       "      <td>-0.285616</td>\n",
       "      <td>-0.208711</td>\n",
       "      <td>-0.276165</td>\n",
       "      <td>-0.230525</td>\n",
       "      <td>-0.317662</td>\n",
       "      <td>-0.289875</td>\n",
       "    </tr>\n",
       "    <tr>\n",
       "      <th>3</th>\n",
       "      <td>-0.951194</td>\n",
       "      <td>-1.011569</td>\n",
       "      <td>1.354075</td>\n",
       "      <td>0.901654</td>\n",
       "      <td>-0.990954</td>\n",
       "      <td>0.063506</td>\n",
       "      <td>0.148171</td>\n",
       "      <td>-1.532449</td>\n",
       "      <td>-1.478812</td>\n",
       "      <td>-0.609682</td>\n",
       "      <td>...</td>\n",
       "      <td>-0.672603</td>\n",
       "      <td>-0.678470</td>\n",
       "      <td>-0.663142</td>\n",
       "      <td>-0.654344</td>\n",
       "      <td>-0.285616</td>\n",
       "      <td>-0.205422</td>\n",
       "      <td>-0.276165</td>\n",
       "      <td>-0.275472</td>\n",
       "      <td>-0.304600</td>\n",
       "      <td>-0.284427</td>\n",
       "    </tr>\n",
       "    <tr>\n",
       "      <th>4</th>\n",
       "      <td>-0.496290</td>\n",
       "      <td>-1.011569</td>\n",
       "      <td>0.149404</td>\n",
       "      <td>0.901654</td>\n",
       "      <td>-0.990954</td>\n",
       "      <td>0.063506</td>\n",
       "      <td>0.148171</td>\n",
       "      <td>0.181734</td>\n",
       "      <td>0.217763</td>\n",
       "      <td>0.286101</td>\n",
       "      <td>...</td>\n",
       "      <td>0.752526</td>\n",
       "      <td>0.873703</td>\n",
       "      <td>1.029860</td>\n",
       "      <td>1.121079</td>\n",
       "      <td>-0.030074</td>\n",
       "      <td>-0.011352</td>\n",
       "      <td>-0.011132</td>\n",
       "      <td>-0.062654</td>\n",
       "      <td>0.008903</td>\n",
       "      <td>-0.071952</td>\n",
       "    </tr>\n",
       "  </tbody>\n",
       "</table>\n",
       "<p>5 rows × 23 columns</p>\n",
       "</div>"
      ],
      "text/plain": [
       "   LIMIT_BAL       SEX  EDUCATION  MARRIAGE       AGE     PAY_0     PAY_2  \\\n",
       "0  -0.875377 -1.011569   0.149404  0.901654 -1.102200  0.063506  0.148171   \n",
       "1   1.702414 -1.011569   0.149404  0.901654 -0.990954  0.063506  0.148171   \n",
       "2  -1.178646 -1.011569   3.763417  0.901654 -0.990954  4.514116  3.531152   \n",
       "3  -0.951194 -1.011569   1.354075  0.901654 -0.990954  0.063506  0.148171   \n",
       "4  -0.496290 -1.011569   0.149404  0.901654 -0.990954  0.063506  0.148171   \n",
       "\n",
       "      PAY_3     PAY_4     PAY_5  ...  BILL_AMT3  BILL_AMT4  BILL_AMT5  \\\n",
       "0  0.181734  0.217763  0.286101  ...   0.106025   0.128815  -0.233362   \n",
       "1  0.181734  0.217763  0.286101  ...  -0.517056  -0.522839  -0.332799   \n",
       "2  2.753007  1.914339  2.077669  ...  -0.395413  -0.393003  -0.342773   \n",
       "3 -1.532449 -1.478812 -0.609682  ...  -0.672603  -0.678470  -0.663142   \n",
       "4  0.181734  0.217763  0.286101  ...   0.752526   0.873703   1.029860   \n",
       "\n",
       "   BILL_AMT6  PAY_AMT1  PAY_AMT2  PAY_AMT3  PAY_AMT4  PAY_AMT5  PAY_AMT6  \n",
       "0  -0.184261 -0.179589 -0.132267 -0.185656 -0.170958 -0.121723 -0.228857  \n",
       "1  -0.500115 -0.169414  0.120516 -0.212690 -0.219424 -0.284352 -0.237628  \n",
       "2  -0.331650 -0.285616 -0.208711 -0.276165 -0.230525 -0.317662 -0.289875  \n",
       "3  -0.654344 -0.285616 -0.205422 -0.276165 -0.275472 -0.304600 -0.284427  \n",
       "4   1.121079 -0.030074 -0.011352 -0.011132 -0.062654  0.008903 -0.071952  \n",
       "\n",
       "[5 rows x 23 columns]"
      ]
     },
     "execution_count": 8,
     "metadata": {},
     "output_type": "execute_result"
    }
   ],
   "source": [
    "scaler = StandardScaler()\n",
    "x_test = pd.DataFrame(scaler.fit_transform(x_test), columns=x_test.columns)\n",
    "x_test.head()"
   ]
  },
  {
   "cell_type": "code",
   "execution_count": 9,
   "metadata": {},
   "outputs": [
    {
     "ename": "KeyboardInterrupt",
     "evalue": "",
     "output_type": "error",
     "traceback": [
      "\u001b[0;31m---------------------------------------------------------------------------\u001b[0m",
      "\u001b[0;31mKeyboardInterrupt\u001b[0m                         Traceback (most recent call last)",
      "\u001b[0;32m<ipython-input-9-8ce1235d0d06>\u001b[0m in \u001b[0;36m<module>\u001b[0;34m\u001b[0m\n\u001b[1;32m      6\u001b[0m     \u001b[0mclf\u001b[0m \u001b[0;34m=\u001b[0m \u001b[0mGridSearchCV\u001b[0m\u001b[0;34m(\u001b[0m\u001b[0msvc\u001b[0m\u001b[0;34m,\u001b[0m \u001b[0mn_jobs\u001b[0m\u001b[0;34m=\u001b[0m\u001b[0;34m-\u001b[0m\u001b[0;36m1\u001b[0m\u001b[0;34m,\u001b[0m \u001b[0mparam_grid\u001b[0m\u001b[0;34m=\u001b[0m\u001b[0;34m{\u001b[0m\u001b[0;34m'C'\u001b[0m\u001b[0;34m:\u001b[0m \u001b[0mnp\u001b[0m\u001b[0;34m.\u001b[0m\u001b[0mlogspace\u001b[0m\u001b[0;34m(\u001b[0m\u001b[0;34m-\u001b[0m\u001b[0;36m5\u001b[0m\u001b[0;34m,\u001b[0m \u001b[0;36m2\u001b[0m\u001b[0;34m,\u001b[0m \u001b[0mnum\u001b[0m\u001b[0;34m=\u001b[0m\u001b[0mnum\u001b[0m\u001b[0;34m)\u001b[0m\u001b[0;34m,\u001b[0m \u001b[0;34m'max_iter'\u001b[0m\u001b[0;34m:\u001b[0m \u001b[0mnp\u001b[0m\u001b[0;34m.\u001b[0m\u001b[0mlogspace\u001b[0m\u001b[0;34m(\u001b[0m\u001b[0;36m3\u001b[0m\u001b[0;34m,\u001b[0m \u001b[0;36m4\u001b[0m\u001b[0;34m,\u001b[0m \u001b[0mnum\u001b[0m\u001b[0;34m=\u001b[0m\u001b[0mnum\u001b[0m\u001b[0;34m)\u001b[0m\u001b[0;34m}\u001b[0m\u001b[0;34m,\u001b[0m \u001b[0mscoring\u001b[0m\u001b[0;34m=\u001b[0m\u001b[0;34m'roc_auc'\u001b[0m\u001b[0;34m)\u001b[0m\u001b[0;34m\u001b[0m\u001b[0;34m\u001b[0m\u001b[0m\n\u001b[1;32m      7\u001b[0m     \u001b[0mt\u001b[0m \u001b[0;34m=\u001b[0m \u001b[0mtime\u001b[0m\u001b[0;34m.\u001b[0m\u001b[0mtime\u001b[0m\u001b[0;34m(\u001b[0m\u001b[0;34m)\u001b[0m\u001b[0;34m\u001b[0m\u001b[0;34m\u001b[0m\u001b[0m\n\u001b[0;32m----> 8\u001b[0;31m     \u001b[0mclf\u001b[0m\u001b[0;34m.\u001b[0m\u001b[0mfit\u001b[0m\u001b[0;34m(\u001b[0m\u001b[0mx_train\u001b[0m\u001b[0;34m,\u001b[0m \u001b[0my_train\u001b[0m\u001b[0;34m)\u001b[0m\u001b[0;34m\u001b[0m\u001b[0;34m\u001b[0m\u001b[0m\n\u001b[0m\u001b[1;32m      9\u001b[0m     \u001b[0mprint\u001b[0m\u001b[0;34m(\u001b[0m\u001b[0;34m\"num: \"\u001b[0m\u001b[0;34m,\u001b[0m \u001b[0mnum\u001b[0m\u001b[0;34m)\u001b[0m\u001b[0;34m\u001b[0m\u001b[0;34m\u001b[0m\u001b[0m\n\u001b[1;32m     10\u001b[0m     \u001b[0mprint\u001b[0m\u001b[0;34m(\u001b[0m\u001b[0;34m\"time: \"\u001b[0m\u001b[0;34m,\u001b[0m \u001b[0mtime\u001b[0m\u001b[0;34m.\u001b[0m\u001b[0mtime\u001b[0m\u001b[0;34m(\u001b[0m\u001b[0;34m)\u001b[0m \u001b[0;34m-\u001b[0m \u001b[0mt\u001b[0m\u001b[0;34m)\u001b[0m\u001b[0;34m\u001b[0m\u001b[0;34m\u001b[0m\u001b[0m\n",
      "\u001b[0;32m~/anaconda3/lib/python3.7/site-packages/sklearn/model_selection/_search.py\u001b[0m in \u001b[0;36mfit\u001b[0;34m(self, X, y, groups, **fit_params)\u001b[0m\n\u001b[1;32m    737\u001b[0m             \u001b[0mrefit_start_time\u001b[0m \u001b[0;34m=\u001b[0m \u001b[0mtime\u001b[0m\u001b[0;34m.\u001b[0m\u001b[0mtime\u001b[0m\u001b[0;34m(\u001b[0m\u001b[0;34m)\u001b[0m\u001b[0;34m\u001b[0m\u001b[0;34m\u001b[0m\u001b[0m\n\u001b[1;32m    738\u001b[0m             \u001b[0;32mif\u001b[0m \u001b[0my\u001b[0m \u001b[0;32mis\u001b[0m \u001b[0;32mnot\u001b[0m \u001b[0;32mNone\u001b[0m\u001b[0;34m:\u001b[0m\u001b[0;34m\u001b[0m\u001b[0;34m\u001b[0m\u001b[0m\n\u001b[0;32m--> 739\u001b[0;31m                 \u001b[0mself\u001b[0m\u001b[0;34m.\u001b[0m\u001b[0mbest_estimator_\u001b[0m\u001b[0;34m.\u001b[0m\u001b[0mfit\u001b[0m\u001b[0;34m(\u001b[0m\u001b[0mX\u001b[0m\u001b[0;34m,\u001b[0m \u001b[0my\u001b[0m\u001b[0;34m,\u001b[0m \u001b[0;34m**\u001b[0m\u001b[0mfit_params\u001b[0m\u001b[0;34m)\u001b[0m\u001b[0;34m\u001b[0m\u001b[0;34m\u001b[0m\u001b[0m\n\u001b[0m\u001b[1;32m    740\u001b[0m             \u001b[0;32melse\u001b[0m\u001b[0;34m:\u001b[0m\u001b[0;34m\u001b[0m\u001b[0;34m\u001b[0m\u001b[0m\n\u001b[1;32m    741\u001b[0m                 \u001b[0mself\u001b[0m\u001b[0;34m.\u001b[0m\u001b[0mbest_estimator_\u001b[0m\u001b[0;34m.\u001b[0m\u001b[0mfit\u001b[0m\u001b[0;34m(\u001b[0m\u001b[0mX\u001b[0m\u001b[0;34m,\u001b[0m \u001b[0;34m**\u001b[0m\u001b[0mfit_params\u001b[0m\u001b[0;34m)\u001b[0m\u001b[0;34m\u001b[0m\u001b[0;34m\u001b[0m\u001b[0m\n",
      "\u001b[0;32m~/anaconda3/lib/python3.7/site-packages/sklearn/svm/_base.py\u001b[0m in \u001b[0;36mfit\u001b[0;34m(self, X, y, sample_weight)\u001b[0m\n\u001b[1;32m    197\u001b[0m \u001b[0;34m\u001b[0m\u001b[0m\n\u001b[1;32m    198\u001b[0m         \u001b[0mseed\u001b[0m \u001b[0;34m=\u001b[0m \u001b[0mrnd\u001b[0m\u001b[0;34m.\u001b[0m\u001b[0mrandint\u001b[0m\u001b[0;34m(\u001b[0m\u001b[0mnp\u001b[0m\u001b[0;34m.\u001b[0m\u001b[0miinfo\u001b[0m\u001b[0;34m(\u001b[0m\u001b[0;34m'i'\u001b[0m\u001b[0;34m)\u001b[0m\u001b[0;34m.\u001b[0m\u001b[0mmax\u001b[0m\u001b[0;34m)\u001b[0m\u001b[0;34m\u001b[0m\u001b[0;34m\u001b[0m\u001b[0m\n\u001b[0;32m--> 199\u001b[0;31m         \u001b[0mfit\u001b[0m\u001b[0;34m(\u001b[0m\u001b[0mX\u001b[0m\u001b[0;34m,\u001b[0m \u001b[0my\u001b[0m\u001b[0;34m,\u001b[0m \u001b[0msample_weight\u001b[0m\u001b[0;34m,\u001b[0m \u001b[0msolver_type\u001b[0m\u001b[0;34m,\u001b[0m \u001b[0mkernel\u001b[0m\u001b[0;34m,\u001b[0m \u001b[0mrandom_seed\u001b[0m\u001b[0;34m=\u001b[0m\u001b[0mseed\u001b[0m\u001b[0;34m)\u001b[0m\u001b[0;34m\u001b[0m\u001b[0;34m\u001b[0m\u001b[0m\n\u001b[0m\u001b[1;32m    200\u001b[0m         \u001b[0;31m# see comment on the other call to np.iinfo in this file\u001b[0m\u001b[0;34m\u001b[0m\u001b[0;34m\u001b[0m\u001b[0;34m\u001b[0m\u001b[0m\n\u001b[1;32m    201\u001b[0m \u001b[0;34m\u001b[0m\u001b[0m\n",
      "\u001b[0;32m~/anaconda3/lib/python3.7/site-packages/sklearn/svm/_base.py\u001b[0m in \u001b[0;36m_dense_fit\u001b[0;34m(self, X, y, sample_weight, solver_type, kernel, random_seed)\u001b[0m\n\u001b[1;32m    256\u001b[0m                 \u001b[0mcache_size\u001b[0m\u001b[0;34m=\u001b[0m\u001b[0mself\u001b[0m\u001b[0;34m.\u001b[0m\u001b[0mcache_size\u001b[0m\u001b[0;34m,\u001b[0m \u001b[0mcoef0\u001b[0m\u001b[0;34m=\u001b[0m\u001b[0mself\u001b[0m\u001b[0;34m.\u001b[0m\u001b[0mcoef0\u001b[0m\u001b[0;34m,\u001b[0m\u001b[0;34m\u001b[0m\u001b[0;34m\u001b[0m\u001b[0m\n\u001b[1;32m    257\u001b[0m                 \u001b[0mgamma\u001b[0m\u001b[0;34m=\u001b[0m\u001b[0mself\u001b[0m\u001b[0;34m.\u001b[0m\u001b[0m_gamma\u001b[0m\u001b[0;34m,\u001b[0m \u001b[0mepsilon\u001b[0m\u001b[0;34m=\u001b[0m\u001b[0mself\u001b[0m\u001b[0;34m.\u001b[0m\u001b[0mepsilon\u001b[0m\u001b[0;34m,\u001b[0m\u001b[0;34m\u001b[0m\u001b[0;34m\u001b[0m\u001b[0m\n\u001b[0;32m--> 258\u001b[0;31m                 max_iter=self.max_iter, random_seed=random_seed)\n\u001b[0m\u001b[1;32m    259\u001b[0m \u001b[0;34m\u001b[0m\u001b[0m\n\u001b[1;32m    260\u001b[0m         \u001b[0mself\u001b[0m\u001b[0;34m.\u001b[0m\u001b[0m_warn_from_fit_status\u001b[0m\u001b[0;34m(\u001b[0m\u001b[0;34m)\u001b[0m\u001b[0;34m\u001b[0m\u001b[0;34m\u001b[0m\u001b[0m\n",
      "\u001b[0;31mKeyboardInterrupt\u001b[0m: "
     ]
    }
   ],
   "source": [
    "best_params = []\n",
    "best_score = []\n",
    "\n",
    "for num in range(2, 7):\n",
    "    svc = SVC(kernel='linear')\n",
    "    clf = GridSearchCV(svc, n_jobs=-1, param_grid={'C': np.logspace(-5, 2, num=num), 'max_iter': np.logspace(3, 4, num=num)}, scoring='roc_auc')\n",
    "    t = time.time()\n",
    "    clf.fit(x_train, y_train)\n",
    "    print(\"num: \", num)\n",
    "    print(\"time: \", time.time() - t)\n",
    "    best_params.append(clf.best_params_)\n",
    "    best_score.append(clf.best_score_)\n",
    "    "
   ]
  },
  {
   "cell_type": "code",
   "execution_count": 99,
   "metadata": {},
   "outputs": [],
   "source": [
    "a = np.logspace(3, 4, num=8)"
   ]
  },
  {
   "cell_type": "code",
   "execution_count": 105,
   "metadata": {},
   "outputs": [
    {
     "data": {
      "text/plain": [
       "[1000, 1389, 1930, 2682, 3727, 5179, 7196, 10000]"
      ]
     },
     "execution_count": 105,
     "metadata": {},
     "output_type": "execute_result"
    }
   ],
   "source": []
  },
  {
   "cell_type": "code",
   "execution_count": 124,
   "metadata": {
    "scrolled": true
   },
   "outputs": [
    {
     "name": "stderr",
     "output_type": "stream",
     "text": [
      "/home/artem/anaconda3/lib/python3.7/site-packages/sklearn/svm/_base.py:231: ConvergenceWarning: Solver terminated early (max_iter=6309).  Consider pre-processing your data with StandardScaler or MinMaxScaler.\n",
      "  % self.max_iter, ConvergenceWarning)\n"
     ]
    },
    {
     "name": "stdout",
     "output_type": "stream",
     "text": [
      "n:  2\n",
      "time:  36.55054211616516\n"
     ]
    },
    {
     "name": "stderr",
     "output_type": "stream",
     "text": [
      "/home/artem/anaconda3/lib/python3.7/site-packages/sklearn/svm/_base.py:231: ConvergenceWarning: Solver terminated early (max_iter=1584).  Consider pre-processing your data with StandardScaler or MinMaxScaler.\n",
      "  % self.max_iter, ConvergenceWarning)\n"
     ]
    },
    {
     "name": "stdout",
     "output_type": "stream",
     "text": [
      "n:  3\n",
      "time:  64.44296765327454\n"
     ]
    },
    {
     "name": "stderr",
     "output_type": "stream",
     "text": [
      "/home/artem/anaconda3/lib/python3.7/site-packages/sklearn/svm/_base.py:231: ConvergenceWarning: Solver terminated early (max_iter=1584).  Consider pre-processing your data with StandardScaler or MinMaxScaler.\n",
      "  % self.max_iter, ConvergenceWarning)\n"
     ]
    },
    {
     "name": "stdout",
     "output_type": "stream",
     "text": [
      "n:  4\n",
      "time:  125.90017676353455\n"
     ]
    },
    {
     "name": "stderr",
     "output_type": "stream",
     "text": [
      "/home/artem/anaconda3/lib/python3.7/site-packages/sklearn/svm/_base.py:231: ConvergenceWarning: Solver terminated early (max_iter=1584).  Consider pre-processing your data with StandardScaler or MinMaxScaler.\n",
      "  % self.max_iter, ConvergenceWarning)\n"
     ]
    },
    {
     "name": "stdout",
     "output_type": "stream",
     "text": [
      "n:  5\n",
      "time:  169.223313331604\n",
      "n:  6\n",
      "time:  271.0389037132263\n"
     ]
    },
    {
     "name": "stderr",
     "output_type": "stream",
     "text": [
      "/home/artem/anaconda3/lib/python3.7/site-packages/sklearn/svm/_base.py:231: ConvergenceWarning: Solver terminated early (max_iter=1584).  Consider pre-processing your data with StandardScaler or MinMaxScaler.\n",
      "  % self.max_iter, ConvergenceWarning)\n"
     ]
    }
   ],
   "source": [
    "best_params_randomized = []\n",
    "best_score_randomized = []\n",
    "\n",
    "for n in range(2, 7):\n",
    "    num = 6\n",
    "    svc = SVC(kernel='linear')\n",
    "    clf = RandomizedSearchCV(svc, n_iter= n ** 2, n_jobs=-1, param_distributions={'C': np.logspace(-5, 2, num=num), 'max_iter': list(map(int, np.logspace(3, 4, num=num)))}, scoring='roc_auc')\n",
    "    t = time.time()\n",
    "    clf.fit(x_train, y_train)\n",
    "    print(\"n: \", n)\n",
    "    print(\"time: \", time.time() - t)\n",
    "    best_params_randomized.append(clf.best_params_)\n",
    "    best_score_randomized.append(clf.best_score_)\n"
   ]
  },
  {
   "cell_type": "code",
   "execution_count": 126,
   "metadata": {},
   "outputs": [
    {
     "data": {
      "text/plain": [
       "[{'C': 1e-05, 'max_iter': 10000.0},\n",
       " {'C': 0.03162277660168379, 'max_iter': 10000.0},\n",
       " {'C': 0.0021544346900318843, 'max_iter': 4641.588833612777},\n",
       " {'C': 0.03162277660168379, 'max_iter': 5623.413251903491},\n",
       " {'C': 0.00630957344480193, 'max_iter': 1584.893192461114}]"
      ]
     },
     "execution_count": 126,
     "metadata": {},
     "output_type": "execute_result"
    }
   ],
   "source": [
    "best_params"
   ]
  },
  {
   "cell_type": "code",
   "execution_count": 127,
   "metadata": {},
   "outputs": [
    {
     "data": {
      "text/plain": [
       "[{'max_iter': 6309, 'C': 0.00025118864315095795},\n",
       " {'max_iter': 1584, 'C': 0.00025118864315095795},\n",
       " {'max_iter': 1584, 'C': 0.00630957344480193},\n",
       " {'max_iter': 1584, 'C': 0.00630957344480193},\n",
       " {'max_iter': 1584, 'C': 0.00630957344480193}]"
      ]
     },
     "execution_count": 127,
     "metadata": {},
     "output_type": "execute_result"
    }
   ],
   "source": [
    "best_params_randomized"
   ]
  },
  {
   "cell_type": "code",
   "execution_count": 134,
   "metadata": {},
   "outputs": [
    {
     "data": {
      "text/plain": [
       "[0.6964761937604893,\n",
       " 0.7115319047490531,\n",
       " 0.7155363788207282,\n",
       " 0.7155363788207282,\n",
       " 0.7155363788207282]"
      ]
     },
     "execution_count": 134,
     "metadata": {},
     "output_type": "execute_result"
    }
   ],
   "source": [
    "best_score_randomized"
   ]
  },
  {
   "cell_type": "code",
   "execution_count": 131,
   "metadata": {},
   "outputs": [],
   "source": [
    "best_score_max_iter_fixed = []\n",
    "for i in range(len(best_params)):\n",
    "    clf = SVC(kernel='linear', C=best_params[i]['C'], max_iter=10000)\n",
    "    scores = cross_validate(clf, x_train, y_train, n_jobs=-1, scoring='roc_auc')\n",
    "    best_score_max_iter_fixed.append(sum(scores['test_score']) / 5)"
   ]
  },
  {
   "cell_type": "code",
   "execution_count": 136,
   "metadata": {},
   "outputs": [],
   "source": [
    "best_score_C_fixed = []\n",
    "for i in range(len(best_params)):\n",
    "    clf = SVC(kernel='linear', C=1, max_iter=best_params[i]['max_iter'])\n",
    "    scores = cross_validate(clf, x_train, y_train, n_jobs=-1, scoring='roc_auc')\n",
    "    best_score_C_fixed.append(sum(scores['test_score']) / 5)"
   ]
  },
  {
   "cell_type": "code",
   "execution_count": 138,
   "metadata": {},
   "outputs": [
    {
     "data": {
      "text/plain": [
       "Text(0, 0.5, 'best_score')"
      ]
     },
     "execution_count": 138,
     "metadata": {},
     "output_type": "execute_result"
    },
    {
     "data": {
      "image/png": "[encoded data removed]",
      "text/plain": [
       "<Figure size 720x576 with 1 Axes>"
      ]
     },
     "metadata": {
      "needs_background": "light"
     },
     "output_type": "display_data"
    }
   ],
   "source": [
    "plt.figure(figsize=(10, 8))\n",
    "line_brute_force, = plt.plot([i**2 for i in range(2, 7)], best_score, color='cyan')\n",
    "line_random, = plt.plot([i**2 for i in range(2, 7)], best_score_randomized, color='red')\n",
    "plt.legend([line_brute_force, line_random], ['brute force', 'random'])\n",
    "plt.xlabel('budget')\n",
    "plt.ylabel('best_score')"
   ]
  },
  {
   "cell_type": "markdown",
   "metadata": {},
   "source": [
    "На этом графике изображено две кривые:\n",
    "* красная кривая: кривая best_scorов при рандомном выборе гиперпараметров при фиксированном budget\n",
    "* голубая кривая: кривая best_scorов при полном переборе по сетке"
   ]
  },
  {
   "cell_type": "code",
   "execution_count": 139,
   "metadata": {},
   "outputs": [
    {
     "data": {
      "text/plain": [
       "Text(0, 0.5, 'best_score')"
      ]
     },
     "execution_count": 139,
     "metadata": {},
     "output_type": "execute_result"
    },
    {
     "data": {
      "image/png": "[encoded data removed]",
      "text/plain": [
       "<Figure size 720x576 with 1 Axes>"
      ]
     },
     "metadata": {
      "needs_background": "light"
     },
     "output_type": "display_data"
    }
   ],
   "source": [
    "plt.figure(figsize=(10, 8))\n",
    "line_brute_force, = plt.plot([i**2 for i in range(2, 7)], best_score, color='cyan')\n",
    "line_brute_force_max_iter_fixed, = plt.plot([i**2 for i in range(2, 7)], best_score_max_iter_fixed, color='blue')\n",
    "line_brute_force_C_fixed, = plt.plot([i**2 for i in range(2, 7)], best_score_C_fixed, color='indigo')\n",
    "plt.legend([line_brute_force, line_brute_force_max_iter_fixed, line_brute_force_C_fixed], ['brute force', 'brute_force_max_iter_fixed', 'brute_force_C_fixed'])\n",
    "plt.xlabel('budget')\n",
    "plt.ylabel('best_score')"
   ]
  },
  {
   "cell_type": "markdown",
   "metadata": {},
   "source": [
    "На этом графике изображено три кривые:\n",
    "* Голубая: кривая best_score при полном переборе по сетке с заданным budget\n",
    "* Синяя: кривая scorов при параметре C таком же как у голубой кривой, а max_iter=10000\n",
    "* Цвета индиго: кривая scorов при параметре С=1, а параметр max_iter такой же как у голубой кривой.\n",
    "\n",
    "Этот график показывает, что оба параметра C и max_iter важны, при большом max_iter может случиться переобучение, из-за чего качество пострадает. Параметр C очень важен, так как от него зависит ширина разделяющей полосы в алгоритме SVM, то есть количество опорных обьектов с помощью которых мы будем давать ответы. \n",
    "Видно также, что в то время как при неаккуратном подборе параметра max_iter мы не сильно теряем в точности, в то время как значение С очень сильно влияет на качество классификация. То есть параметр C важнее."
   ]
  },
  {
   "cell_type": "markdown",
   "metadata": {
    "collapsed": true,
    "jupyter": {
     "outputs_hidden": true
    }
   },
   "source": [
    "##### Ответ:\n",
    "* Лучший score равен 0.715, достигается при параметрах 'max_iter': 1584, 'C': 0.00630957344480193. С важнее и второй график это иллюстрирует.(см. комментарий к графику)\n",
    "* Случайный поиск выигрывает при правильном подборе интервалов. В данном случае у нас на первой картинке видно, что красная кривая всегда лежит выше голубой. Однако, это не всегда так. Я убедился в этом когда выставлял параметры, как вы советовали. Мне видимо не подошел интервал (0.1, 1) для C, так как я нормализовал данные. В моем случае оптимальное С порядка 0.006. Если же выставить интервал, где оптимального С нет, то есть на этом интервале оптимальным будет один из концов, то нет никакой разнице, применять рандомный подбор или полный перебор. Ровно этот результат я и получил на том графике(которого однако здесь нигде нет), там красная и голубая кривая много раз пересекали друг друга.\n",
    "* При удачном же подборе интервалов, когда оптимальное решение будет лежать где-то внутри паралеллепипеда рандомный перебор дает лучшие результаты внезависимоти от buget. В budget=36 кривые совпали лишь потому, что там рандом скатывается до полного перебора, так как я выбрал рандом по сетке 6x6 параметров.\n"
   ]
  },
  {
   "cell_type": "code",
   "execution_count": 115,
   "metadata": {},
   "outputs": [],
   "source": [
    "best_C = 0.00630957344480193\n",
    "best_max_iter = 1584"
   ]
  },
  {
   "cell_type": "code",
   "execution_count": 116,
   "metadata": {},
   "outputs": [],
   "source": [
    "def sigmoid(x):\n",
    "    return 1 / (1 + np.exp(-x))"
   ]
  },
  {
   "cell_type": "code",
   "execution_count": 117,
   "metadata": {},
   "outputs": [],
   "source": [
    "class SVC_prob(SVC):\n",
    "    def decision_function(self, X):\n",
    "        arr = super(SVC_prob, self).decision_function(X)\n",
    "        for i in range(len(arr)):\n",
    "            arr[i] = sigmoid(arr[i])\n",
    "        return arr"
   ]
  },
  {
   "cell_type": "code",
   "execution_count": 118,
   "metadata": {
    "jupyter": {
     "outputs_hidden": true
    }
   },
   "outputs": [
    {
     "name": "stderr",
     "output_type": "stream",
     "text": [
      "/home/artem/anaconda3/lib/python3.7/site-packages/sklearn/svm/_base.py:231: ConvergenceWarning: Solver terminated early (max_iter=1584).  Consider pre-processing your data with StandardScaler or MinMaxScaler.\n",
      "  % self.max_iter, ConvergenceWarning)\n",
      "/home/artem/anaconda3/lib/python3.7/site-packages/sklearn/svm/_base.py:231: ConvergenceWarning: Solver terminated early (max_iter=1584).  Consider pre-processing your data with StandardScaler or MinMaxScaler.\n",
      "  % self.max_iter, ConvergenceWarning)\n",
      "/home/artem/anaconda3/lib/python3.7/site-packages/sklearn/svm/_base.py:231: ConvergenceWarning: Solver terminated early (max_iter=1584).  Consider pre-processing your data with StandardScaler or MinMaxScaler.\n",
      "  % self.max_iter, ConvergenceWarning)\n",
      "/home/artem/anaconda3/lib/python3.7/site-packages/sklearn/svm/_base.py:231: ConvergenceWarning: Solver terminated early (max_iter=1584).  Consider pre-processing your data with StandardScaler or MinMaxScaler.\n",
      "  % self.max_iter, ConvergenceWarning)\n",
      "/home/artem/anaconda3/lib/python3.7/site-packages/sklearn/svm/_base.py:231: ConvergenceWarning: Solver terminated early (max_iter=1584).  Consider pre-processing your data with StandardScaler or MinMaxScaler.\n",
      "  % self.max_iter, ConvergenceWarning)\n",
      "/home/artem/anaconda3/lib/python3.7/site-packages/sklearn/svm/_base.py:231: ConvergenceWarning: Solver terminated early (max_iter=1584).  Consider pre-processing your data with StandardScaler or MinMaxScaler.\n",
      "  % self.max_iter, ConvergenceWarning)\n",
      "/home/artem/anaconda3/lib/python3.7/site-packages/sklearn/svm/_base.py:231: ConvergenceWarning: Solver terminated early (max_iter=1584).  Consider pre-processing your data with StandardScaler or MinMaxScaler.\n",
      "  % self.max_iter, ConvergenceWarning)\n",
      "/home/artem/anaconda3/lib/python3.7/site-packages/sklearn/svm/_base.py:231: ConvergenceWarning: Solver terminated early (max_iter=1584).  Consider pre-processing your data with StandardScaler or MinMaxScaler.\n",
      "  % self.max_iter, ConvergenceWarning)\n",
      "/home/artem/anaconda3/lib/python3.7/site-packages/sklearn/svm/_base.py:231: ConvergenceWarning: Solver terminated early (max_iter=1584).  Consider pre-processing your data with StandardScaler or MinMaxScaler.\n",
      "  % self.max_iter, ConvergenceWarning)\n",
      "/home/artem/anaconda3/lib/python3.7/site-packages/sklearn/svm/_base.py:231: ConvergenceWarning: Solver terminated early (max_iter=1584).  Consider pre-processing your data with StandardScaler or MinMaxScaler.\n",
      "  % self.max_iter, ConvergenceWarning)\n"
     ]
    }
   ],
   "source": [
    "\n",
    "prob_pos = {}\n",
    "\n",
    "for s in ['sigmoid', 'isotonic']:\n",
    "    svm = SVC_prob(kernel='linear', C=best_C, max_iter=best_max_iter)\n",
    "    clf = CalibratedClassifierCV(svm, method=s)\n",
    "    clf.fit(x_train, y_train)\n",
    "    prob_pos[s] = clf.predict_proba(x_train)[:, 1]\n",
    "    prob_pos[s + 'test'] = clf.predict_proba(x_test)[:, 1]"
   ]
  },
  {
   "cell_type": "code",
   "execution_count": 119,
   "metadata": {},
   "outputs": [],
   "source": [
    "x_train_model, x_train_cal, y_train_model, y_train_cal = train_test_split(x_train, y_train)"
   ]
  },
  {
   "cell_type": "code",
   "execution_count": 121,
   "metadata": {},
   "outputs": [
    {
     "name": "stderr",
     "output_type": "stream",
     "text": [
      "/home/artem/anaconda3/lib/python3.7/site-packages/sklearn/svm/_base.py:231: ConvergenceWarning: Solver terminated early (max_iter=1584).  Consider pre-processing your data with StandardScaler or MinMaxScaler.\n",
      "  % self.max_iter, ConvergenceWarning)\n"
     ]
    }
   ],
   "source": [
    "svm = SVC_prob(kernel='linear', C=best_C, max_iter=best_max_iter)\n",
    "svm.fit(x_train_model, y_train_model)\n",
    "clf = CalibratedClassifierCV(svm, method='isotonic', cv='prefit') \n",
    "clf.fit(x_train_cal, y_train_cal)\n",
    "prob_pos['isotonic_without_cv'] = clf.predict_proba(x_train)[:, 1]\n",
    "prob_pos['isotonic_without_cv_test'] = clf.predict_proba(x_test)[:, 1]"
   ]
  },
  {
   "cell_type": "code",
   "execution_count": 122,
   "metadata": {},
   "outputs": [
    {
     "name": "stderr",
     "output_type": "stream",
     "text": [
      "/home/artem/anaconda3/lib/python3.7/site-packages/sklearn/svm/_base.py:231: ConvergenceWarning: Solver terminated early (max_iter=1584).  Consider pre-processing your data with StandardScaler or MinMaxScaler.\n",
      "  % self.max_iter, ConvergenceWarning)\n"
     ]
    }
   ],
   "source": [
    "svm = SVC_prob(kernel='linear', C=best_C, max_iter=best_max_iter)\n",
    "svm.fit(x_train, y_train)\n",
    "prob_pos['without'] = svm.decision_function(x_train)"
   ]
  },
  {
   "cell_type": "code",
   "execution_count": 123,
   "metadata": {},
   "outputs": [],
   "source": [
    "fraction_of_positives = {}\n",
    "mean_predicted_value = {}"
   ]
  },
  {
   "cell_type": "code",
   "execution_count": 124,
   "metadata": {},
   "outputs": [],
   "source": [
    "for s in ['sigmoid', 'isotonic', 'without', 'isotonic_without_cv']:\n",
    "    fraction_of_positives[s], mean_predicted_value[s] = calibration_curve(y_train, prob_pos[s], n_bins=10)"
   ]
  },
  {
   "cell_type": "code",
   "execution_count": 125,
   "metadata": {},
   "outputs": [
    {
     "data": {
      "text/plain": [
       "([<matplotlib.axis.YTick at 0x7f62d2696c90>,\n",
       "  <matplotlib.axis.YTick at 0x7f62d2696510>,\n",
       "  <matplotlib.axis.YTick at 0x7f62d2980e90>,\n",
       "  <matplotlib.axis.YTick at 0x7f62d266ee90>,\n",
       "  <matplotlib.axis.YTick at 0x7f62d2675510>,\n",
       "  <matplotlib.axis.YTick at 0x7f62d2675b50>,\n",
       "  <matplotlib.axis.YTick at 0x7f62d25fd290>,\n",
       "  <matplotlib.axis.YTick at 0x7f62d25fd850>,\n",
       "  <matplotlib.axis.YTick at 0x7f62d25fde90>,\n",
       "  <matplotlib.axis.YTick at 0x7f62d25fd7d0>],\n",
       " <a list of 10 Text yticklabel objects>)"
      ]
     },
     "execution_count": 125,
     "metadata": {},
     "output_type": "execute_result"
    },
    {
     "data": {
      "image/png": "[encoded data removed]",
      "text/plain": [
       "<Figure size 432x288 with 1 Axes>"
      ]
     },
     "metadata": {
      "needs_background": "light"
     },
     "output_type": "display_data"
    }
   ],
   "source": [
    "colors = ['green', 'blue', 'red']\n",
    "k = 0\n",
    "line = {}\n",
    "\n",
    "for s in ['sigmoid', 'isotonic', 'without']:\n",
    "    line[s],  = plt.plot(mean_predicted_value[s], fraction_of_positives[s], \"s-\", label=s, c=colors[k])\n",
    "    k += 1\n",
    "plt.legend((line['sigmoid'], line['isotonic'], line['without']), ('sigmoid', 'isotonic', 'without'))\n",
    "plt.plot([0, 1], [0, 1], \"k:\", label=\"Perfectly calibrated\")\n",
    "\n",
    "plt.xticks([i / 10 for i in range(1, 11)])\n",
    "plt.yticks([i / 10 for i in range(1, 11)])\n"
   ]
  },
  {
   "cell_type": "markdown",
   "metadata": {},
   "source": [
    "##### График проверяющий, влияет ли кросс-валидация в калибровке на качество"
   ]
  },
  {
   "cell_type": "code",
   "execution_count": 126,
   "metadata": {},
   "outputs": [
    {
     "data": {
      "text/plain": [
       "([<matplotlib.axis.YTick at 0x7f62d2631390>,\n",
       "  <matplotlib.axis.YTick at 0x7f62d262aa50>,\n",
       "  <matplotlib.axis.YTick at 0x7f62d262c9d0>,\n",
       "  <matplotlib.axis.YTick at 0x7f62d25e75d0>,\n",
       "  <matplotlib.axis.YTick at 0x7f62d25f5ad0>,\n",
       "  <matplotlib.axis.YTick at 0x7f62d257e250>,\n",
       "  <matplotlib.axis.YTick at 0x7f62d257e8d0>,\n",
       "  <matplotlib.axis.YTick at 0x7f62d257ef10>,\n",
       "  <matplotlib.axis.YTick at 0x7f62d2583590>,\n",
       "  <matplotlib.axis.YTick at 0x7f62d2583bd0>],\n",
       " <a list of 10 Text yticklabel objects>)"
      ]
     },
     "execution_count": 126,
     "metadata": {},
     "output_type": "execute_result"
    },
    {
     "data": {
      "image/png": "[encoded data removed]",
      "text/plain": [
       "<Figure size 432x288 with 1 Axes>"
      ]
     },
     "metadata": {
      "needs_background": "light"
     },
     "output_type": "display_data"
    }
   ],
   "source": [
    "colors = ['green', 'blue']\n",
    "k = 0\n",
    "line = {}\n",
    "\n",
    "for s in ['isotonic', 'isotonic_without_cv']:\n",
    "    line[s],  = plt.plot(mean_predicted_value[s], fraction_of_positives[s], \"s-\", label=s, c=colors[k])\n",
    "    k += 1\n",
    "plt.legend((line['isotonic'], line['isotonic_without_cv']), ('isotonic', 'isotonic_without_cv'))\n",
    "plt.plot([0, 1], [0, 1], \"k:\", label=\"Perfectly calibrated\")\n",
    "\n",
    "plt.xticks([i / 10 for i in range(1, 11)])\n",
    "plt.yticks([i / 10 for i in range(1, 11)])"
   ]
  },
  {
   "cell_type": "markdown",
   "metadata": {},
   "source": [
    "##### Сравнение качества калибровки с cv и без cv"
   ]
  },
  {
   "cell_type": "code",
   "execution_count": 131,
   "metadata": {},
   "outputs": [
    {
     "name": "stdout",
     "output_type": "stream",
     "text": [
      "isotonictest: LogLoss =  0.43420732731380335\n",
      "isotonic_without_cv_test: LogLoss =  0.4618395248902578\n"
     ]
    }
   ],
   "source": [
    "for s in ['isotonictest', 'isotonic_without_cv_test']:\n",
    "    print(s + \": LogLoss = \", log_loss(y_test, prob_pos[s]))"
   ]
  },
  {
   "cell_type": "markdown",
   "metadata": {},
   "source": [
    "#### Видно, что качество с cross-validation получается лучше"
   ]
  },
  {
   "cell_type": "code",
   "execution_count": 88,
   "metadata": {},
   "outputs": [
    {
     "name": "stderr",
     "output_type": "stream",
     "text": [
      "/home/artem/anaconda3/lib/python3.7/site-packages/sklearn/svm/_base.py:231: ConvergenceWarning: Solver terminated early (max_iter=1584).  Consider pre-processing your data with StandardScaler or MinMaxScaler.\n",
      "  % self.max_iter, ConvergenceWarning)\n",
      "/home/artem/anaconda3/lib/python3.7/site-packages/sklearn/svm/_base.py:231: ConvergenceWarning: Solver terminated early (max_iter=1584).  Consider pre-processing your data with StandardScaler or MinMaxScaler.\n",
      "  % self.max_iter, ConvergenceWarning)\n",
      "/home/artem/anaconda3/lib/python3.7/site-packages/sklearn/svm/_base.py:231: ConvergenceWarning: Solver terminated early (max_iter=1584).  Consider pre-processing your data with StandardScaler or MinMaxScaler.\n",
      "  % self.max_iter, ConvergenceWarning)\n",
      "/home/artem/anaconda3/lib/python3.7/site-packages/sklearn/svm/_base.py:231: ConvergenceWarning: Solver terminated early (max_iter=1584).  Consider pre-processing your data with StandardScaler or MinMaxScaler.\n",
      "  % self.max_iter, ConvergenceWarning)\n",
      "/home/artem/anaconda3/lib/python3.7/site-packages/sklearn/svm/_base.py:231: ConvergenceWarning: Solver terminated early (max_iter=1584).  Consider pre-processing your data with StandardScaler or MinMaxScaler.\n",
      "  % self.max_iter, ConvergenceWarning)\n",
      "/home/artem/anaconda3/lib/python3.7/site-packages/sklearn/svm/_base.py:231: ConvergenceWarning: Solver terminated early (max_iter=1584).  Consider pre-processing your data with StandardScaler or MinMaxScaler.\n",
      "  % self.max_iter, ConvergenceWarning)\n",
      "/home/artem/anaconda3/lib/python3.7/site-packages/sklearn/svm/_base.py:231: ConvergenceWarning: Solver terminated early (max_iter=1584).  Consider pre-processing your data with StandardScaler or MinMaxScaler.\n",
      "  % self.max_iter, ConvergenceWarning)\n",
      "/home/artem/anaconda3/lib/python3.7/site-packages/sklearn/svm/_base.py:231: ConvergenceWarning: Solver terminated early (max_iter=1584).  Consider pre-processing your data with StandardScaler or MinMaxScaler.\n",
      "  % self.max_iter, ConvergenceWarning)\n",
      "/home/artem/anaconda3/lib/python3.7/site-packages/sklearn/svm/_base.py:231: ConvergenceWarning: Solver terminated early (max_iter=1584).  Consider pre-processing your data with StandardScaler or MinMaxScaler.\n",
      "  % self.max_iter, ConvergenceWarning)\n",
      "/home/artem/anaconda3/lib/python3.7/site-packages/sklearn/svm/_base.py:231: ConvergenceWarning: Solver terminated early (max_iter=1584).  Consider pre-processing your data with StandardScaler or MinMaxScaler.\n",
      "  % self.max_iter, ConvergenceWarning)\n"
     ]
    }
   ],
   "source": [
    "prob_pos_test = {}\n",
    "\n",
    "for s in ['sigmoid', 'isotonic']:\n",
    "    svm = SVC_prob(kernel='linear', C=best_C, max_iter=best_max_iter)\n",
    "    clf = CalibratedClassifierCV(svm, method=s)\n",
    "    clf.fit(x_train, y_train)\n",
    "    prob_pos_test[s] = clf.predict_proba(x_test)[:, 1]"
   ]
  },
  {
   "cell_type": "code",
   "execution_count": 91,
   "metadata": {},
   "outputs": [],
   "source": [
    "prob_pos_test['without'] = svm.decision_function(x_test)"
   ]
  },
  {
   "cell_type": "code",
   "execution_count": 92,
   "metadata": {
    "jupyter": {
     "outputs_hidden": true
    }
   },
   "outputs": [
    {
     "name": "stdout",
     "output_type": "stream",
     "text": [
      "sigmoid: LogLoss =  0.4620193756519521\n",
      "isotonic: LogLoss =  0.43420732731380335\n",
      "without: LogLoss =  1.2442399001352893\n"
     ]
    }
   ],
   "source": [
    "for s in ['sigmoid', 'isotonic', 'without']:\n",
    "    print(s + \": LogLoss = \", log_loss(y_test, prob_pos_test[s]))"
   ]
  },
  {
   "cell_type": "markdown",
   "metadata": {},
   "source": [
    "* Дает ли калибровка прирост качества относительно метрики logloss?\n",
    "* Какой из способов калибровки в данном случае работает лучше?\n",
    "* Какой из подходов (калибровка на отложенной выборке или по кросс-валидации) дает более хороший результат?\n",
    "* Почему калибровка практически не должна повлиять на AUC-ROC?"
   ]
  },
  {
   "cell_type": "markdown",
   "metadata": {},
   "source": [
    "##### Ответ\n",
    "* Да калибровка дает существенный прирост качества, что видно и на графике и по logLoss\n",
    "* лучше всего оказался isotonic, у него log_loss меньше всего и на графике на тренировочных данных он визуально самый хороший(на тренировочных данных log_loss не запускал)\n",
    "* Как видно на графике выше по обучающей выборке и по log_loss на тестовой выборке калибровка без cross-validation работает хуже\n",
    "* потому что ROC-AUC - это среднее число правильно упорядоченных пар обьектов (если мы упорядочим обьекты по decision_function), и это число не меняется, т.к. калибровка - это монотонная функция"
   ]
  },
  {
   "cell_type": "markdown",
   "metadata": {},
   "source": [
    "## Работа с текстовыми данными"
   ]
  },
  {
   "cell_type": "code",
   "execution_count": 62,
   "metadata": {},
   "outputs": [],
   "source": [
    "data_x = pd.read_csv(\"/home/artem/Desktop/programming/Shad_ML/Data/lab3/X_train.csv\")\n",
    "data_y = pd.read_csv(\"/home/artem/Desktop/programming/Shad_ML/Data/lab3/Y_train.csv\")"
   ]
  },
  {
   "cell_type": "code",
   "execution_count": 63,
   "metadata": {},
   "outputs": [],
   "source": [
    "data_x = data_x.iloc[:data_x.shape[0] // 10, :]\n",
    "data_y = data_y.iloc[:data_y.shape[0] // 10, :]"
   ]
  },
  {
   "cell_type": "markdown",
   "metadata": {},
   "source": [
    "##### Комментарий\n",
    "у меня с таким большим datasetом проблемы даже не из за времени, а из за оперативной памяти, хоть я ее и стараюсь чистить по ходу программы\n",
    "Так что я урезал dataset в 10 раз\n"
   ]
  },
  {
   "cell_type": "code",
   "execution_count": 64,
   "metadata": {},
   "outputs": [
    {
     "data": {
      "text/plain": [
       "239386733"
      ]
     },
     "execution_count": 64,
     "metadata": {},
     "output_type": "execute_result"
    }
   ],
   "source": [
    "data_x.__sizeof__()"
   ]
  },
  {
   "cell_type": "code",
   "execution_count": 65,
   "metadata": {},
   "outputs": [],
   "source": [
    "x_train_initial, x_test_initial, y_train, y_test = train_test_split(data_x, data_y, test_size=0.3)"
   ]
  },
  {
   "cell_type": "code",
   "execution_count": 66,
   "metadata": {},
   "outputs": [],
   "source": [
    "data_x = None\n",
    "data_y = None"
   ]
  },
  {
   "cell_type": "code",
   "execution_count": 67,
   "metadata": {},
   "outputs": [],
   "source": [
    "x_train_initial = x_train_initial.drop(['id'], axis=1)\n",
    "x_test_initial = x_test_initial.drop(['id'], axis=1)\n",
    "y_train = y_train.drop(['Id'], axis=1)\n",
    "y_test = y_test.drop(['Id'], axis=1)"
   ]
  },
  {
   "cell_type": "code",
   "execution_count": 68,
   "metadata": {},
   "outputs": [],
   "source": [
    "x_train_initial = x_train_initial.reset_index(drop=True)\n",
    "x_test_initial = x_test_initial.reset_index(drop=True)\n",
    "y_train = y_train.reset_index(drop=True)\n",
    "y_test = y_test.reset_index(drop=True)"
   ]
  },
  {
   "cell_type": "code",
   "execution_count": 69,
   "metadata": {},
   "outputs": [],
   "source": [
    "y_train = pd.DataFrame([1 if (i == 'python') else 0 for i in y_train['Expected']], columns=['label'])"
   ]
  },
  {
   "cell_type": "code",
   "execution_count": 70,
   "metadata": {},
   "outputs": [],
   "source": [
    "y_test = pd.DataFrame([1 if (i == 'python') else 0 for i in y_test['Expected']], columns=['label'])"
   ]
  },
  {
   "cell_type": "code",
   "execution_count": 71,
   "metadata": {},
   "outputs": [
    {
     "data": {
      "text/plain": [
       "660344"
      ]
     },
     "execution_count": 71,
     "metadata": {},
     "output_type": "execute_result"
    }
   ],
   "source": [
    "y_train.__sizeof__()"
   ]
  },
  {
   "cell_type": "code",
   "execution_count": null,
   "metadata": {},
   "outputs": [],
   "source": []
  },
  {
   "cell_type": "code",
   "execution_count": 137,
   "metadata": {},
   "outputs": [],
   "source": [
    "\n",
    "vectorizer = CountVectorizer(stop_words='english')\n",
    "data_title = vectorizer.fit_transform(x_train_initial['title'])"
   ]
  },
  {
   "cell_type": "code",
   "execution_count": 138,
   "metadata": {},
   "outputs": [],
   "source": [
    "vocabulary_title = vectorizer.vocabulary_"
   ]
  },
  {
   "cell_type": "code",
   "execution_count": 139,
   "metadata": {},
   "outputs": [],
   "source": [
    "len_vocabulary_title = len(vocabulary_title)"
   ]
  },
  {
   "cell_type": "code",
   "execution_count": 140,
   "metadata": {},
   "outputs": [
    {
     "data": {
      "text/plain": [
       "32"
      ]
     },
     "execution_count": 140,
     "metadata": {},
     "output_type": "execute_result"
    }
   ],
   "source": [
    "data_title.__sizeof__()"
   ]
  },
  {
   "cell_type": "code",
   "execution_count": 141,
   "metadata": {},
   "outputs": [
    {
     "data": {
      "text/plain": [
       "32360"
      ]
     },
     "execution_count": 141,
     "metadata": {},
     "output_type": "execute_result"
    }
   ],
   "source": [
    "data_title.shape[1]"
   ]
  },
  {
   "cell_type": "code",
   "execution_count": 142,
   "metadata": {},
   "outputs": [],
   "source": [
    "vectorizer = CountVectorizer(stop_words='english')\n",
    "data_body = vectorizer.fit_transform(x_train_initial['body'])"
   ]
  },
  {
   "cell_type": "code",
   "execution_count": 143,
   "metadata": {},
   "outputs": [],
   "source": [
    "vocabulary_body = vectorizer.vocabulary_"
   ]
  },
  {
   "cell_type": "code",
   "execution_count": 144,
   "metadata": {},
   "outputs": [],
   "source": [
    "len_vocabulary_body = len(vocabulary_body)"
   ]
  },
  {
   "cell_type": "code",
   "execution_count": 145,
   "metadata": {},
   "outputs": [
    {
     "data": {
      "text/plain": [
       "560253"
      ]
     },
     "execution_count": 145,
     "metadata": {},
     "output_type": "execute_result"
    }
   ],
   "source": [
    "data_body.shape[1]"
   ]
  },
  {
   "cell_type": "code",
   "execution_count": 146,
   "metadata": {},
   "outputs": [
    {
     "data": {
      "text/plain": [
       "32"
      ]
     },
     "execution_count": 146,
     "metadata": {},
     "output_type": "execute_result"
    }
   ],
   "source": [
    "data_body.__sizeof__()"
   ]
  },
  {
   "cell_type": "code",
   "execution_count": 147,
   "metadata": {},
   "outputs": [],
   "source": [
    "x_train = sp.hstack([data_title, data_body])"
   ]
  },
  {
   "cell_type": "code",
   "execution_count": 148,
   "metadata": {},
   "outputs": [],
   "source": [
    "vectorizer = CountVectorizer(vocabulary=vocabulary_title)\n",
    "data_title = vectorizer.fit_transform(x_test_initial['title'])"
   ]
  },
  {
   "cell_type": "code",
   "execution_count": 149,
   "metadata": {},
   "outputs": [],
   "source": [
    "vectorizer = CountVectorizer(vocabulary=vocabulary_body)\n",
    "data_body = vectorizer.fit_transform(x_test_initial['body'])"
   ]
  },
  {
   "cell_type": "code",
   "execution_count": 150,
   "metadata": {},
   "outputs": [],
   "source": [
    "x_test = sp.hstack([data_title, data_body])"
   ]
  },
  {
   "cell_type": "code",
   "execution_count": null,
   "metadata": {},
   "outputs": [],
   "source": []
  },
  {
   "cell_type": "code",
   "execution_count": 57,
   "metadata": {},
   "outputs": [
    {
     "name": "stdout",
     "output_type": "stream",
     "text": [
      "time:  593.5641753673553\n"
     ]
    }
   ],
   "source": [
    "# 'max_iter': list(map(int, np.logspace(3, 4, num=num)))\n",
    "\n",
    "num = 8\n",
    "logistic_reg = LogisticRegression(penalty='l2', max_iter=10000)\n",
    "clf = GridSearchCV(logistic_reg, param_grid={'C': np.logspace(-2, 1, num=num)}, scoring='accuracy')\n",
    "t = time.time()\n",
    "clf.fit(x_train, y_train['label'])\n",
    "print(\"time: \", time.time() - t)"
   ]
  },
  {
   "cell_type": "code",
   "execution_count": 58,
   "metadata": {},
   "outputs": [
    {
     "data": {
      "text/html": [
       "<div>\n",
       "<style scoped>\n",
       "    .dataframe tbody tr th:only-of-type {\n",
       "        vertical-align: middle;\n",
       "    }\n",
       "\n",
       "    .dataframe tbody tr th {\n",
       "        vertical-align: top;\n",
       "    }\n",
       "\n",
       "    .dataframe thead th {\n",
       "        text-align: right;\n",
       "    }\n",
       "</style>\n",
       "<table border=\"1\" class=\"dataframe\">\n",
       "  <thead>\n",
       "    <tr style=\"text-align: right;\">\n",
       "      <th></th>\n",
       "      <th>mean_fit_time</th>\n",
       "      <th>std_fit_time</th>\n",
       "      <th>mean_score_time</th>\n",
       "      <th>std_score_time</th>\n",
       "      <th>param_C</th>\n",
       "      <th>params</th>\n",
       "      <th>split0_test_score</th>\n",
       "      <th>split1_test_score</th>\n",
       "      <th>split2_test_score</th>\n",
       "      <th>split3_test_score</th>\n",
       "      <th>split4_test_score</th>\n",
       "      <th>mean_test_score</th>\n",
       "      <th>std_test_score</th>\n",
       "      <th>rank_test_score</th>\n",
       "    </tr>\n",
       "  </thead>\n",
       "  <tbody>\n",
       "    <tr>\n",
       "      <th>0</th>\n",
       "      <td>4.378976</td>\n",
       "      <td>0.129132</td>\n",
       "      <td>0.045548</td>\n",
       "      <td>0.000691</td>\n",
       "      <td>0.01</td>\n",
       "      <td>{'C': 0.01}</td>\n",
       "      <td>0.922210</td>\n",
       "      <td>0.923664</td>\n",
       "      <td>0.922993</td>\n",
       "      <td>0.921297</td>\n",
       "      <td>0.920933</td>\n",
       "      <td>0.922219</td>\n",
       "      <td>0.001019</td>\n",
       "      <td>8</td>\n",
       "    </tr>\n",
       "    <tr>\n",
       "      <th>1</th>\n",
       "      <td>6.092676</td>\n",
       "      <td>0.409279</td>\n",
       "      <td>0.045688</td>\n",
       "      <td>0.000741</td>\n",
       "      <td>0.026827</td>\n",
       "      <td>{'C': 0.02682695795279726}</td>\n",
       "      <td>0.923664</td>\n",
       "      <td>0.924512</td>\n",
       "      <td>0.922569</td>\n",
       "      <td>0.922205</td>\n",
       "      <td>0.922145</td>\n",
       "      <td>0.923019</td>\n",
       "      <td>0.000925</td>\n",
       "      <td>7</td>\n",
       "    </tr>\n",
       "    <tr>\n",
       "      <th>2</th>\n",
       "      <td>8.182150</td>\n",
       "      <td>0.571392</td>\n",
       "      <td>0.045875</td>\n",
       "      <td>0.000799</td>\n",
       "      <td>0.0719686</td>\n",
       "      <td>{'C': 0.07196856730011521}</td>\n",
       "      <td>0.924149</td>\n",
       "      <td>0.924331</td>\n",
       "      <td>0.922569</td>\n",
       "      <td>0.922993</td>\n",
       "      <td>0.922387</td>\n",
       "      <td>0.923286</td>\n",
       "      <td>0.000805</td>\n",
       "      <td>6</td>\n",
       "    </tr>\n",
       "    <tr>\n",
       "      <th>3</th>\n",
       "      <td>11.162520</td>\n",
       "      <td>0.376159</td>\n",
       "      <td>0.045952</td>\n",
       "      <td>0.000766</td>\n",
       "      <td>0.19307</td>\n",
       "      <td>{'C': 0.19306977288832497}</td>\n",
       "      <td>0.924088</td>\n",
       "      <td>0.924331</td>\n",
       "      <td>0.923054</td>\n",
       "      <td>0.923296</td>\n",
       "      <td>0.922569</td>\n",
       "      <td>0.923467</td>\n",
       "      <td>0.000654</td>\n",
       "      <td>3</td>\n",
       "    </tr>\n",
       "    <tr>\n",
       "      <th>4</th>\n",
       "      <td>14.497689</td>\n",
       "      <td>1.254041</td>\n",
       "      <td>0.046253</td>\n",
       "      <td>0.000619</td>\n",
       "      <td>0.517947</td>\n",
       "      <td>{'C': 0.517947467923121}</td>\n",
       "      <td>0.923967</td>\n",
       "      <td>0.924149</td>\n",
       "      <td>0.922872</td>\n",
       "      <td>0.923659</td>\n",
       "      <td>0.922448</td>\n",
       "      <td>0.923419</td>\n",
       "      <td>0.000653</td>\n",
       "      <td>5</td>\n",
       "    </tr>\n",
       "    <tr>\n",
       "      <th>5</th>\n",
       "      <td>17.965111</td>\n",
       "      <td>0.830729</td>\n",
       "      <td>0.045330</td>\n",
       "      <td>0.000791</td>\n",
       "      <td>1.3895</td>\n",
       "      <td>{'C': 1.3894954943731375}</td>\n",
       "      <td>0.923906</td>\n",
       "      <td>0.924391</td>\n",
       "      <td>0.922872</td>\n",
       "      <td>0.923599</td>\n",
       "      <td>0.922508</td>\n",
       "      <td>0.923455</td>\n",
       "      <td>0.000684</td>\n",
       "      <td>4</td>\n",
       "    </tr>\n",
       "    <tr>\n",
       "      <th>6</th>\n",
       "      <td>22.596306</td>\n",
       "      <td>1.119758</td>\n",
       "      <td>0.045535</td>\n",
       "      <td>0.001026</td>\n",
       "      <td>3.72759</td>\n",
       "      <td>{'C': 3.727593720314938}</td>\n",
       "      <td>0.923967</td>\n",
       "      <td>0.924270</td>\n",
       "      <td>0.922932</td>\n",
       "      <td>0.923720</td>\n",
       "      <td>0.922569</td>\n",
       "      <td>0.923492</td>\n",
       "      <td>0.000640</td>\n",
       "      <td>1</td>\n",
       "    </tr>\n",
       "    <tr>\n",
       "      <th>7</th>\n",
       "      <td>27.566989</td>\n",
       "      <td>2.766307</td>\n",
       "      <td>0.045550</td>\n",
       "      <td>0.000764</td>\n",
       "      <td>10</td>\n",
       "      <td>{'C': 10.0}</td>\n",
       "      <td>0.923967</td>\n",
       "      <td>0.924209</td>\n",
       "      <td>0.922993</td>\n",
       "      <td>0.923720</td>\n",
       "      <td>0.922508</td>\n",
       "      <td>0.923480</td>\n",
       "      <td>0.000634</td>\n",
       "      <td>2</td>\n",
       "    </tr>\n",
       "  </tbody>\n",
       "</table>\n",
       "</div>"
      ],
      "text/plain": [
       "   mean_fit_time  std_fit_time  mean_score_time  std_score_time    param_C  \\\n",
       "0       4.378976      0.129132         0.045548        0.000691       0.01   \n",
       "1       6.092676      0.409279         0.045688        0.000741   0.026827   \n",
       "2       8.182150      0.571392         0.045875        0.000799  0.0719686   \n",
       "3      11.162520      0.376159         0.045952        0.000766    0.19307   \n",
       "4      14.497689      1.254041         0.046253        0.000619   0.517947   \n",
       "5      17.965111      0.830729         0.045330        0.000791     1.3895   \n",
       "6      22.596306      1.119758         0.045535        0.001026    3.72759   \n",
       "7      27.566989      2.766307         0.045550        0.000764         10   \n",
       "\n",
       "                       params  split0_test_score  split1_test_score  \\\n",
       "0                 {'C': 0.01}           0.922210           0.923664   \n",
       "1  {'C': 0.02682695795279726}           0.923664           0.924512   \n",
       "2  {'C': 0.07196856730011521}           0.924149           0.924331   \n",
       "3  {'C': 0.19306977288832497}           0.924088           0.924331   \n",
       "4    {'C': 0.517947467923121}           0.923967           0.924149   \n",
       "5   {'C': 1.3894954943731375}           0.923906           0.924391   \n",
       "6    {'C': 3.727593720314938}           0.923967           0.924270   \n",
       "7                 {'C': 10.0}           0.923967           0.924209   \n",
       "\n",
       "   split2_test_score  split3_test_score  split4_test_score  mean_test_score  \\\n",
       "0           0.922993           0.921297           0.920933         0.922219   \n",
       "1           0.922569           0.922205           0.922145         0.923019   \n",
       "2           0.922569           0.922993           0.922387         0.923286   \n",
       "3           0.923054           0.923296           0.922569         0.923467   \n",
       "4           0.922872           0.923659           0.922448         0.923419   \n",
       "5           0.922872           0.923599           0.922508         0.923455   \n",
       "6           0.922932           0.923720           0.922569         0.923492   \n",
       "7           0.922993           0.923720           0.922508         0.923480   \n",
       "\n",
       "   std_test_score  rank_test_score  \n",
       "0        0.001019                8  \n",
       "1        0.000925                7  \n",
       "2        0.000805                6  \n",
       "3        0.000654                3  \n",
       "4        0.000653                5  \n",
       "5        0.000684                4  \n",
       "6        0.000640                1  \n",
       "7        0.000634                2  "
      ]
     },
     "execution_count": 58,
     "metadata": {},
     "output_type": "execute_result"
    }
   ],
   "source": [
    "pd.DataFrame(clf.cv_results_)"
   ]
  },
  {
   "cell_type": "markdown",
   "metadata": {},
   "source": [
    "#### best params for logisticregression\n",
    "C_best = 3.73"
   ]
  },
  {
   "cell_type": "code",
   "execution_count": 25,
   "metadata": {},
   "outputs": [
    {
     "ename": "TypeError",
     "evalue": "int() argument must be a string, a bytes-like object or a number, not 'list'",
     "output_type": "error",
     "traceback": [
      "\u001b[0;31m---------------------------------------------------------------------------\u001b[0m",
      "\u001b[0;31mTypeError\u001b[0m                                 Traceback (most recent call last)",
      "\u001b[0;32m<ipython-input-25-00c918a5cd3f>\u001b[0m in \u001b[0;36m<module>\u001b[0;34m\u001b[0m\n\u001b[0;32m----> 1\u001b[0;31m \u001b[0mint\u001b[0m\u001b[0;34m(\u001b[0m\u001b[0;34m[\u001b[0m\u001b[0;36m1.02\u001b[0m\u001b[0;34m,\u001b[0m \u001b[0;36m1.05\u001b[0m\u001b[0;34m]\u001b[0m\u001b[0;34m)\u001b[0m\u001b[0;34m\u001b[0m\u001b[0;34m\u001b[0m\u001b[0m\n\u001b[0m",
      "\u001b[0;31mTypeError\u001b[0m: int() argument must be a string, a bytes-like object or a number, not 'list'"
     ]
    }
   ],
   "source": []
  },
  {
   "cell_type": "code",
   "execution_count": 49,
   "metadata": {},
   "outputs": [
    {
     "ename": "KeyboardInterrupt",
     "evalue": "",
     "output_type": "error",
     "traceback": [
      "\u001b[0;31m---------------------------------------------------------------------------\u001b[0m",
      "\u001b[0;31mKeyboardInterrupt\u001b[0m                         Traceback (most recent call last)",
      "\u001b[0;32m<ipython-input-49-9b17fdaf6cdc>\u001b[0m in \u001b[0;36m<module>\u001b[0;34m\u001b[0m\n\u001b[1;32m      3\u001b[0m \u001b[0mclf\u001b[0m \u001b[0;34m=\u001b[0m \u001b[0mRandomizedSearchCV\u001b[0m\u001b[0;34m(\u001b[0m\u001b[0mRF\u001b[0m\u001b[0;34m,\u001b[0m \u001b[0mn_iter\u001b[0m\u001b[0;34m=\u001b[0m \u001b[0;36m8\u001b[0m\u001b[0;34m,\u001b[0m \u001b[0mparam_distributions\u001b[0m\u001b[0;34m=\u001b[0m\u001b[0;34m{\u001b[0m\u001b[0;34m'n_estimators'\u001b[0m\u001b[0;34m:\u001b[0m \u001b[0mlist\u001b[0m\u001b[0;34m(\u001b[0m\u001b[0mmap\u001b[0m\u001b[0;34m(\u001b[0m\u001b[0mint\u001b[0m\u001b[0;34m,\u001b[0m \u001b[0mnp\u001b[0m\u001b[0;34m.\u001b[0m\u001b[0mlogspace\u001b[0m\u001b[0;34m(\u001b[0m\u001b[0;36m0.5\u001b[0m\u001b[0;34m,\u001b[0m \u001b[0;36m2\u001b[0m\u001b[0;34m,\u001b[0m \u001b[0mnum\u001b[0m\u001b[0;34m=\u001b[0m\u001b[0mnum\u001b[0m\u001b[0;34m)\u001b[0m\u001b[0;34m)\u001b[0m\u001b[0;34m)\u001b[0m\u001b[0;34m,\u001b[0m \u001b[0;34m'max_depth'\u001b[0m\u001b[0;34m:\u001b[0m \u001b[0mlist\u001b[0m\u001b[0;34m(\u001b[0m\u001b[0mmap\u001b[0m\u001b[0;34m(\u001b[0m\u001b[0mint\u001b[0m\u001b[0;34m,\u001b[0m \u001b[0mnp\u001b[0m\u001b[0;34m.\u001b[0m\u001b[0mlogspace\u001b[0m\u001b[0;34m(\u001b[0m\u001b[0;36m1\u001b[0m\u001b[0;34m,\u001b[0m \u001b[0;36m3\u001b[0m\u001b[0;34m,\u001b[0m \u001b[0mnum\u001b[0m\u001b[0;34m=\u001b[0m\u001b[0mnum\u001b[0m\u001b[0;34m)\u001b[0m\u001b[0;34m)\u001b[0m\u001b[0;34m)\u001b[0m\u001b[0;34m}\u001b[0m\u001b[0;34m,\u001b[0m \u001b[0mscoring\u001b[0m\u001b[0;34m=\u001b[0m\u001b[0;34m'accuracy'\u001b[0m\u001b[0;34m)\u001b[0m\u001b[0;34m\u001b[0m\u001b[0;34m\u001b[0m\u001b[0m\n\u001b[1;32m      4\u001b[0m \u001b[0mt\u001b[0m \u001b[0;34m=\u001b[0m \u001b[0mtime\u001b[0m\u001b[0;34m.\u001b[0m\u001b[0mtime\u001b[0m\u001b[0;34m(\u001b[0m\u001b[0;34m)\u001b[0m\u001b[0;34m\u001b[0m\u001b[0;34m\u001b[0m\u001b[0m\n\u001b[0;32m----> 5\u001b[0;31m \u001b[0mclf\u001b[0m\u001b[0;34m.\u001b[0m\u001b[0mfit\u001b[0m\u001b[0;34m(\u001b[0m\u001b[0mx_train\u001b[0m\u001b[0;34m,\u001b[0m \u001b[0my_train\u001b[0m\u001b[0;34m[\u001b[0m\u001b[0;34m'label'\u001b[0m\u001b[0;34m]\u001b[0m\u001b[0;34m)\u001b[0m\u001b[0;34m\u001b[0m\u001b[0;34m\u001b[0m\u001b[0m\n\u001b[0m\u001b[1;32m      6\u001b[0m \u001b[0mprint\u001b[0m\u001b[0;34m(\u001b[0m\u001b[0;34m\"time: \"\u001b[0m\u001b[0;34m,\u001b[0m \u001b[0mtime\u001b[0m\u001b[0;34m.\u001b[0m\u001b[0mtime\u001b[0m\u001b[0;34m(\u001b[0m\u001b[0;34m)\u001b[0m \u001b[0;34m-\u001b[0m \u001b[0mt\u001b[0m\u001b[0;34m)\u001b[0m\u001b[0;34m\u001b[0m\u001b[0;34m\u001b[0m\u001b[0m\n",
      "\u001b[0;32m~/anaconda3/lib/python3.7/site-packages/sklearn/model_selection/_search.py\u001b[0m in \u001b[0;36mfit\u001b[0;34m(self, X, y, groups, **fit_params)\u001b[0m\n\u001b[1;32m    708\u001b[0m                 \u001b[0;32mreturn\u001b[0m \u001b[0mresults\u001b[0m\u001b[0;34m\u001b[0m\u001b[0;34m\u001b[0m\u001b[0m\n\u001b[1;32m    709\u001b[0m \u001b[0;34m\u001b[0m\u001b[0m\n\u001b[0;32m--> 710\u001b[0;31m             \u001b[0mself\u001b[0m\u001b[0;34m.\u001b[0m\u001b[0m_run_search\u001b[0m\u001b[0;34m(\u001b[0m\u001b[0mevaluate_candidates\u001b[0m\u001b[0;34m)\u001b[0m\u001b[0;34m\u001b[0m\u001b[0;34m\u001b[0m\u001b[0m\n\u001b[0m\u001b[1;32m    711\u001b[0m \u001b[0;34m\u001b[0m\u001b[0m\n\u001b[1;32m    712\u001b[0m         \u001b[0;31m# For multi-metric evaluation, store the best_index_, best_params_ and\u001b[0m\u001b[0;34m\u001b[0m\u001b[0;34m\u001b[0m\u001b[0;34m\u001b[0m\u001b[0m\n",
      "\u001b[0;32m~/anaconda3/lib/python3.7/site-packages/sklearn/model_selection/_search.py\u001b[0m in \u001b[0;36m_run_search\u001b[0;34m(self, evaluate_candidates)\u001b[0m\n\u001b[1;32m   1482\u001b[0m         evaluate_candidates(ParameterSampler(\n\u001b[1;32m   1483\u001b[0m             \u001b[0mself\u001b[0m\u001b[0;34m.\u001b[0m\u001b[0mparam_distributions\u001b[0m\u001b[0;34m,\u001b[0m \u001b[0mself\u001b[0m\u001b[0;34m.\u001b[0m\u001b[0mn_iter\u001b[0m\u001b[0;34m,\u001b[0m\u001b[0;34m\u001b[0m\u001b[0;34m\u001b[0m\u001b[0m\n\u001b[0;32m-> 1484\u001b[0;31m             random_state=self.random_state))\n\u001b[0m",
      "\u001b[0;32m~/anaconda3/lib/python3.7/site-packages/sklearn/model_selection/_search.py\u001b[0m in \u001b[0;36mevaluate_candidates\u001b[0;34m(candidate_params)\u001b[0m\n\u001b[1;32m    687\u001b[0m                                \u001b[0;32mfor\u001b[0m \u001b[0mparameters\u001b[0m\u001b[0;34m,\u001b[0m \u001b[0;34m(\u001b[0m\u001b[0mtrain\u001b[0m\u001b[0;34m,\u001b[0m \u001b[0mtest\u001b[0m\u001b[0;34m)\u001b[0m\u001b[0;34m\u001b[0m\u001b[0;34m\u001b[0m\u001b[0m\n\u001b[1;32m    688\u001b[0m                                in product(candidate_params,\n\u001b[0;32m--> 689\u001b[0;31m                                           cv.split(X, y, groups)))\n\u001b[0m\u001b[1;32m    690\u001b[0m \u001b[0;34m\u001b[0m\u001b[0m\n\u001b[1;32m    691\u001b[0m                 \u001b[0;32mif\u001b[0m \u001b[0mlen\u001b[0m\u001b[0;34m(\u001b[0m\u001b[0mout\u001b[0m\u001b[0;34m)\u001b[0m \u001b[0;34m<\u001b[0m \u001b[0;36m1\u001b[0m\u001b[0;34m:\u001b[0m\u001b[0;34m\u001b[0m\u001b[0;34m\u001b[0m\u001b[0m\n",
      "\u001b[0;32m~/anaconda3/lib/python3.7/site-packages/joblib/parallel.py\u001b[0m in \u001b[0;36m__call__\u001b[0;34m(self, iterable)\u001b[0m\n\u001b[1;32m   1005\u001b[0m                 \u001b[0mself\u001b[0m\u001b[0;34m.\u001b[0m\u001b[0m_iterating\u001b[0m \u001b[0;34m=\u001b[0m \u001b[0mself\u001b[0m\u001b[0;34m.\u001b[0m\u001b[0m_original_iterator\u001b[0m \u001b[0;32mis\u001b[0m \u001b[0;32mnot\u001b[0m \u001b[0;32mNone\u001b[0m\u001b[0;34m\u001b[0m\u001b[0;34m\u001b[0m\u001b[0m\n\u001b[1;32m   1006\u001b[0m \u001b[0;34m\u001b[0m\u001b[0m\n\u001b[0;32m-> 1007\u001b[0;31m             \u001b[0;32mwhile\u001b[0m \u001b[0mself\u001b[0m\u001b[0;34m.\u001b[0m\u001b[0mdispatch_one_batch\u001b[0m\u001b[0;34m(\u001b[0m\u001b[0miterator\u001b[0m\u001b[0;34m)\u001b[0m\u001b[0;34m:\u001b[0m\u001b[0;34m\u001b[0m\u001b[0;34m\u001b[0m\u001b[0m\n\u001b[0m\u001b[1;32m   1008\u001b[0m                 \u001b[0;32mpass\u001b[0m\u001b[0;34m\u001b[0m\u001b[0;34m\u001b[0m\u001b[0m\n\u001b[1;32m   1009\u001b[0m \u001b[0;34m\u001b[0m\u001b[0m\n",
      "\u001b[0;32m~/anaconda3/lib/python3.7/site-packages/joblib/parallel.py\u001b[0m in \u001b[0;36mdispatch_one_batch\u001b[0;34m(self, iterator)\u001b[0m\n\u001b[1;32m    833\u001b[0m                 \u001b[0;32mreturn\u001b[0m \u001b[0;32mFalse\u001b[0m\u001b[0;34m\u001b[0m\u001b[0;34m\u001b[0m\u001b[0m\n\u001b[1;32m    834\u001b[0m             \u001b[0;32melse\u001b[0m\u001b[0;34m:\u001b[0m\u001b[0;34m\u001b[0m\u001b[0;34m\u001b[0m\u001b[0m\n\u001b[0;32m--> 835\u001b[0;31m                 \u001b[0mself\u001b[0m\u001b[0;34m.\u001b[0m\u001b[0m_dispatch\u001b[0m\u001b[0;34m(\u001b[0m\u001b[0mtasks\u001b[0m\u001b[0;34m)\u001b[0m\u001b[0;34m\u001b[0m\u001b[0;34m\u001b[0m\u001b[0m\n\u001b[0m\u001b[1;32m    836\u001b[0m                 \u001b[0;32mreturn\u001b[0m \u001b[0;32mTrue\u001b[0m\u001b[0;34m\u001b[0m\u001b[0;34m\u001b[0m\u001b[0m\n\u001b[1;32m    837\u001b[0m \u001b[0;34m\u001b[0m\u001b[0m\n",
      "\u001b[0;32m~/anaconda3/lib/python3.7/site-packages/joblib/parallel.py\u001b[0m in \u001b[0;36m_dispatch\u001b[0;34m(self, batch)\u001b[0m\n\u001b[1;32m    752\u001b[0m         \u001b[0;32mwith\u001b[0m \u001b[0mself\u001b[0m\u001b[0;34m.\u001b[0m\u001b[0m_lock\u001b[0m\u001b[0;34m:\u001b[0m\u001b[0;34m\u001b[0m\u001b[0;34m\u001b[0m\u001b[0m\n\u001b[1;32m    753\u001b[0m             \u001b[0mjob_idx\u001b[0m \u001b[0;34m=\u001b[0m \u001b[0mlen\u001b[0m\u001b[0;34m(\u001b[0m\u001b[0mself\u001b[0m\u001b[0;34m.\u001b[0m\u001b[0m_jobs\u001b[0m\u001b[0;34m)\u001b[0m\u001b[0;34m\u001b[0m\u001b[0;34m\u001b[0m\u001b[0m\n\u001b[0;32m--> 754\u001b[0;31m             \u001b[0mjob\u001b[0m \u001b[0;34m=\u001b[0m \u001b[0mself\u001b[0m\u001b[0;34m.\u001b[0m\u001b[0m_backend\u001b[0m\u001b[0;34m.\u001b[0m\u001b[0mapply_async\u001b[0m\u001b[0;34m(\u001b[0m\u001b[0mbatch\u001b[0m\u001b[0;34m,\u001b[0m \u001b[0mcallback\u001b[0m\u001b[0;34m=\u001b[0m\u001b[0mcb\u001b[0m\u001b[0;34m)\u001b[0m\u001b[0;34m\u001b[0m\u001b[0;34m\u001b[0m\u001b[0m\n\u001b[0m\u001b[1;32m    755\u001b[0m             \u001b[0;31m# A job can complete so quickly than its callback is\u001b[0m\u001b[0;34m\u001b[0m\u001b[0;34m\u001b[0m\u001b[0;34m\u001b[0m\u001b[0m\n\u001b[1;32m    756\u001b[0m             \u001b[0;31m# called before we get here, causing self._jobs to\u001b[0m\u001b[0;34m\u001b[0m\u001b[0;34m\u001b[0m\u001b[0;34m\u001b[0m\u001b[0m\n",
      "\u001b[0;32m~/anaconda3/lib/python3.7/site-packages/joblib/_parallel_backends.py\u001b[0m in \u001b[0;36mapply_async\u001b[0;34m(self, func, callback)\u001b[0m\n\u001b[1;32m    207\u001b[0m     \u001b[0;32mdef\u001b[0m \u001b[0mapply_async\u001b[0m\u001b[0;34m(\u001b[0m\u001b[0mself\u001b[0m\u001b[0;34m,\u001b[0m \u001b[0mfunc\u001b[0m\u001b[0;34m,\u001b[0m \u001b[0mcallback\u001b[0m\u001b[0;34m=\u001b[0m\u001b[0;32mNone\u001b[0m\u001b[0;34m)\u001b[0m\u001b[0;34m:\u001b[0m\u001b[0;34m\u001b[0m\u001b[0;34m\u001b[0m\u001b[0m\n\u001b[1;32m    208\u001b[0m         \u001b[0;34m\"\"\"Schedule a func to be run\"\"\"\u001b[0m\u001b[0;34m\u001b[0m\u001b[0;34m\u001b[0m\u001b[0m\n\u001b[0;32m--> 209\u001b[0;31m         \u001b[0mresult\u001b[0m \u001b[0;34m=\u001b[0m \u001b[0mImmediateResult\u001b[0m\u001b[0;34m(\u001b[0m\u001b[0mfunc\u001b[0m\u001b[0;34m)\u001b[0m\u001b[0;34m\u001b[0m\u001b[0;34m\u001b[0m\u001b[0m\n\u001b[0m\u001b[1;32m    210\u001b[0m         \u001b[0;32mif\u001b[0m \u001b[0mcallback\u001b[0m\u001b[0;34m:\u001b[0m\u001b[0;34m\u001b[0m\u001b[0;34m\u001b[0m\u001b[0m\n\u001b[1;32m    211\u001b[0m             \u001b[0mcallback\u001b[0m\u001b[0;34m(\u001b[0m\u001b[0mresult\u001b[0m\u001b[0;34m)\u001b[0m\u001b[0;34m\u001b[0m\u001b[0;34m\u001b[0m\u001b[0m\n",
      "\u001b[0;32m~/anaconda3/lib/python3.7/site-packages/joblib/_parallel_backends.py\u001b[0m in \u001b[0;36m__init__\u001b[0;34m(self, batch)\u001b[0m\n\u001b[1;32m    588\u001b[0m         \u001b[0;31m# Don't delay the application, to avoid keeping the input\u001b[0m\u001b[0;34m\u001b[0m\u001b[0;34m\u001b[0m\u001b[0;34m\u001b[0m\u001b[0m\n\u001b[1;32m    589\u001b[0m         \u001b[0;31m# arguments in memory\u001b[0m\u001b[0;34m\u001b[0m\u001b[0;34m\u001b[0m\u001b[0;34m\u001b[0m\u001b[0m\n\u001b[0;32m--> 590\u001b[0;31m         \u001b[0mself\u001b[0m\u001b[0;34m.\u001b[0m\u001b[0mresults\u001b[0m \u001b[0;34m=\u001b[0m \u001b[0mbatch\u001b[0m\u001b[0;34m(\u001b[0m\u001b[0;34m)\u001b[0m\u001b[0;34m\u001b[0m\u001b[0;34m\u001b[0m\u001b[0m\n\u001b[0m\u001b[1;32m    591\u001b[0m \u001b[0;34m\u001b[0m\u001b[0m\n\u001b[1;32m    592\u001b[0m     \u001b[0;32mdef\u001b[0m \u001b[0mget\u001b[0m\u001b[0;34m(\u001b[0m\u001b[0mself\u001b[0m\u001b[0;34m)\u001b[0m\u001b[0;34m:\u001b[0m\u001b[0;34m\u001b[0m\u001b[0;34m\u001b[0m\u001b[0m\n",
      "\u001b[0;32m~/anaconda3/lib/python3.7/site-packages/joblib/parallel.py\u001b[0m in \u001b[0;36m__call__\u001b[0;34m(self)\u001b[0m\n\u001b[1;32m    254\u001b[0m         \u001b[0;32mwith\u001b[0m \u001b[0mparallel_backend\u001b[0m\u001b[0;34m(\u001b[0m\u001b[0mself\u001b[0m\u001b[0;34m.\u001b[0m\u001b[0m_backend\u001b[0m\u001b[0;34m,\u001b[0m \u001b[0mn_jobs\u001b[0m\u001b[0;34m=\u001b[0m\u001b[0mself\u001b[0m\u001b[0;34m.\u001b[0m\u001b[0m_n_jobs\u001b[0m\u001b[0;34m)\u001b[0m\u001b[0;34m:\u001b[0m\u001b[0;34m\u001b[0m\u001b[0;34m\u001b[0m\u001b[0m\n\u001b[1;32m    255\u001b[0m             return [func(*args, **kwargs)\n\u001b[0;32m--> 256\u001b[0;31m                     for func, args, kwargs in self.items]\n\u001b[0m\u001b[1;32m    257\u001b[0m \u001b[0;34m\u001b[0m\u001b[0m\n\u001b[1;32m    258\u001b[0m     \u001b[0;32mdef\u001b[0m \u001b[0m__len__\u001b[0m\u001b[0;34m(\u001b[0m\u001b[0mself\u001b[0m\u001b[0;34m)\u001b[0m\u001b[0;34m:\u001b[0m\u001b[0;34m\u001b[0m\u001b[0;34m\u001b[0m\u001b[0m\n",
      "\u001b[0;32m~/anaconda3/lib/python3.7/site-packages/joblib/parallel.py\u001b[0m in \u001b[0;36m<listcomp>\u001b[0;34m(.0)\u001b[0m\n\u001b[1;32m    254\u001b[0m         \u001b[0;32mwith\u001b[0m \u001b[0mparallel_backend\u001b[0m\u001b[0;34m(\u001b[0m\u001b[0mself\u001b[0m\u001b[0;34m.\u001b[0m\u001b[0m_backend\u001b[0m\u001b[0;34m,\u001b[0m \u001b[0mn_jobs\u001b[0m\u001b[0;34m=\u001b[0m\u001b[0mself\u001b[0m\u001b[0;34m.\u001b[0m\u001b[0m_n_jobs\u001b[0m\u001b[0;34m)\u001b[0m\u001b[0;34m:\u001b[0m\u001b[0;34m\u001b[0m\u001b[0;34m\u001b[0m\u001b[0m\n\u001b[1;32m    255\u001b[0m             return [func(*args, **kwargs)\n\u001b[0;32m--> 256\u001b[0;31m                     for func, args, kwargs in self.items]\n\u001b[0m\u001b[1;32m    257\u001b[0m \u001b[0;34m\u001b[0m\u001b[0m\n\u001b[1;32m    258\u001b[0m     \u001b[0;32mdef\u001b[0m \u001b[0m__len__\u001b[0m\u001b[0;34m(\u001b[0m\u001b[0mself\u001b[0m\u001b[0;34m)\u001b[0m\u001b[0;34m:\u001b[0m\u001b[0;34m\u001b[0m\u001b[0;34m\u001b[0m\u001b[0m\n",
      "\u001b[0;32m~/anaconda3/lib/python3.7/site-packages/sklearn/model_selection/_validation.py\u001b[0m in \u001b[0;36m_fit_and_score\u001b[0;34m(estimator, X, y, scorer, train, test, verbose, parameters, fit_params, return_train_score, return_parameters, return_n_test_samples, return_times, return_estimator, error_score)\u001b[0m\n\u001b[1;32m    513\u001b[0m             \u001b[0mestimator\u001b[0m\u001b[0;34m.\u001b[0m\u001b[0mfit\u001b[0m\u001b[0;34m(\u001b[0m\u001b[0mX_train\u001b[0m\u001b[0;34m,\u001b[0m \u001b[0;34m**\u001b[0m\u001b[0mfit_params\u001b[0m\u001b[0;34m)\u001b[0m\u001b[0;34m\u001b[0m\u001b[0;34m\u001b[0m\u001b[0m\n\u001b[1;32m    514\u001b[0m         \u001b[0;32melse\u001b[0m\u001b[0;34m:\u001b[0m\u001b[0;34m\u001b[0m\u001b[0;34m\u001b[0m\u001b[0m\n\u001b[0;32m--> 515\u001b[0;31m             \u001b[0mestimator\u001b[0m\u001b[0;34m.\u001b[0m\u001b[0mfit\u001b[0m\u001b[0;34m(\u001b[0m\u001b[0mX_train\u001b[0m\u001b[0;34m,\u001b[0m \u001b[0my_train\u001b[0m\u001b[0;34m,\u001b[0m \u001b[0;34m**\u001b[0m\u001b[0mfit_params\u001b[0m\u001b[0;34m)\u001b[0m\u001b[0;34m\u001b[0m\u001b[0;34m\u001b[0m\u001b[0m\n\u001b[0m\u001b[1;32m    516\u001b[0m \u001b[0;34m\u001b[0m\u001b[0m\n\u001b[1;32m    517\u001b[0m     \u001b[0;32mexcept\u001b[0m \u001b[0mException\u001b[0m \u001b[0;32mas\u001b[0m \u001b[0me\u001b[0m\u001b[0;34m:\u001b[0m\u001b[0;34m\u001b[0m\u001b[0;34m\u001b[0m\u001b[0m\n",
      "\u001b[0;32m~/anaconda3/lib/python3.7/site-packages/sklearn/ensemble/_forest.py\u001b[0m in \u001b[0;36mfit\u001b[0;34m(self, X, y, sample_weight)\u001b[0m\n\u001b[1;32m    381\u001b[0m                     \u001b[0mverbose\u001b[0m\u001b[0;34m=\u001b[0m\u001b[0mself\u001b[0m\u001b[0;34m.\u001b[0m\u001b[0mverbose\u001b[0m\u001b[0;34m,\u001b[0m \u001b[0mclass_weight\u001b[0m\u001b[0;34m=\u001b[0m\u001b[0mself\u001b[0m\u001b[0;34m.\u001b[0m\u001b[0mclass_weight\u001b[0m\u001b[0;34m,\u001b[0m\u001b[0;34m\u001b[0m\u001b[0;34m\u001b[0m\u001b[0m\n\u001b[1;32m    382\u001b[0m                     n_samples_bootstrap=n_samples_bootstrap)\n\u001b[0;32m--> 383\u001b[0;31m                 for i, t in enumerate(trees))\n\u001b[0m\u001b[1;32m    384\u001b[0m \u001b[0;34m\u001b[0m\u001b[0m\n\u001b[1;32m    385\u001b[0m             \u001b[0;31m# Collect newly grown trees\u001b[0m\u001b[0;34m\u001b[0m\u001b[0;34m\u001b[0m\u001b[0;34m\u001b[0m\u001b[0m\n",
      "\u001b[0;32m~/anaconda3/lib/python3.7/site-packages/joblib/parallel.py\u001b[0m in \u001b[0;36m__call__\u001b[0;34m(self, iterable)\u001b[0m\n\u001b[1;32m   1005\u001b[0m                 \u001b[0mself\u001b[0m\u001b[0;34m.\u001b[0m\u001b[0m_iterating\u001b[0m \u001b[0;34m=\u001b[0m \u001b[0mself\u001b[0m\u001b[0;34m.\u001b[0m\u001b[0m_original_iterator\u001b[0m \u001b[0;32mis\u001b[0m \u001b[0;32mnot\u001b[0m \u001b[0;32mNone\u001b[0m\u001b[0;34m\u001b[0m\u001b[0;34m\u001b[0m\u001b[0m\n\u001b[1;32m   1006\u001b[0m \u001b[0;34m\u001b[0m\u001b[0m\n\u001b[0;32m-> 1007\u001b[0;31m             \u001b[0;32mwhile\u001b[0m \u001b[0mself\u001b[0m\u001b[0;34m.\u001b[0m\u001b[0mdispatch_one_batch\u001b[0m\u001b[0;34m(\u001b[0m\u001b[0miterator\u001b[0m\u001b[0;34m)\u001b[0m\u001b[0;34m:\u001b[0m\u001b[0;34m\u001b[0m\u001b[0;34m\u001b[0m\u001b[0m\n\u001b[0m\u001b[1;32m   1008\u001b[0m                 \u001b[0;32mpass\u001b[0m\u001b[0;34m\u001b[0m\u001b[0;34m\u001b[0m\u001b[0m\n\u001b[1;32m   1009\u001b[0m \u001b[0;34m\u001b[0m\u001b[0m\n",
      "\u001b[0;32m~/anaconda3/lib/python3.7/site-packages/joblib/parallel.py\u001b[0m in \u001b[0;36mdispatch_one_batch\u001b[0;34m(self, iterator)\u001b[0m\n\u001b[1;32m    833\u001b[0m                 \u001b[0;32mreturn\u001b[0m \u001b[0;32mFalse\u001b[0m\u001b[0;34m\u001b[0m\u001b[0;34m\u001b[0m\u001b[0m\n\u001b[1;32m    834\u001b[0m             \u001b[0;32melse\u001b[0m\u001b[0;34m:\u001b[0m\u001b[0;34m\u001b[0m\u001b[0;34m\u001b[0m\u001b[0m\n\u001b[0;32m--> 835\u001b[0;31m                 \u001b[0mself\u001b[0m\u001b[0;34m.\u001b[0m\u001b[0m_dispatch\u001b[0m\u001b[0;34m(\u001b[0m\u001b[0mtasks\u001b[0m\u001b[0;34m)\u001b[0m\u001b[0;34m\u001b[0m\u001b[0;34m\u001b[0m\u001b[0m\n\u001b[0m\u001b[1;32m    836\u001b[0m                 \u001b[0;32mreturn\u001b[0m \u001b[0;32mTrue\u001b[0m\u001b[0;34m\u001b[0m\u001b[0;34m\u001b[0m\u001b[0m\n\u001b[1;32m    837\u001b[0m \u001b[0;34m\u001b[0m\u001b[0m\n",
      "\u001b[0;32m~/anaconda3/lib/python3.7/site-packages/joblib/parallel.py\u001b[0m in \u001b[0;36m_dispatch\u001b[0;34m(self, batch)\u001b[0m\n\u001b[1;32m    752\u001b[0m         \u001b[0;32mwith\u001b[0m \u001b[0mself\u001b[0m\u001b[0;34m.\u001b[0m\u001b[0m_lock\u001b[0m\u001b[0;34m:\u001b[0m\u001b[0;34m\u001b[0m\u001b[0;34m\u001b[0m\u001b[0m\n\u001b[1;32m    753\u001b[0m             \u001b[0mjob_idx\u001b[0m \u001b[0;34m=\u001b[0m \u001b[0mlen\u001b[0m\u001b[0;34m(\u001b[0m\u001b[0mself\u001b[0m\u001b[0;34m.\u001b[0m\u001b[0m_jobs\u001b[0m\u001b[0;34m)\u001b[0m\u001b[0;34m\u001b[0m\u001b[0;34m\u001b[0m\u001b[0m\n\u001b[0;32m--> 754\u001b[0;31m             \u001b[0mjob\u001b[0m \u001b[0;34m=\u001b[0m \u001b[0mself\u001b[0m\u001b[0;34m.\u001b[0m\u001b[0m_backend\u001b[0m\u001b[0;34m.\u001b[0m\u001b[0mapply_async\u001b[0m\u001b[0;34m(\u001b[0m\u001b[0mbatch\u001b[0m\u001b[0;34m,\u001b[0m \u001b[0mcallback\u001b[0m\u001b[0;34m=\u001b[0m\u001b[0mcb\u001b[0m\u001b[0;34m)\u001b[0m\u001b[0;34m\u001b[0m\u001b[0;34m\u001b[0m\u001b[0m\n\u001b[0m\u001b[1;32m    755\u001b[0m             \u001b[0;31m# A job can complete so quickly than its callback is\u001b[0m\u001b[0;34m\u001b[0m\u001b[0;34m\u001b[0m\u001b[0;34m\u001b[0m\u001b[0m\n\u001b[1;32m    756\u001b[0m             \u001b[0;31m# called before we get here, causing self._jobs to\u001b[0m\u001b[0;34m\u001b[0m\u001b[0;34m\u001b[0m\u001b[0;34m\u001b[0m\u001b[0m\n",
      "\u001b[0;32m~/anaconda3/lib/python3.7/site-packages/joblib/_parallel_backends.py\u001b[0m in \u001b[0;36mapply_async\u001b[0;34m(self, func, callback)\u001b[0m\n\u001b[1;32m    207\u001b[0m     \u001b[0;32mdef\u001b[0m \u001b[0mapply_async\u001b[0m\u001b[0;34m(\u001b[0m\u001b[0mself\u001b[0m\u001b[0;34m,\u001b[0m \u001b[0mfunc\u001b[0m\u001b[0;34m,\u001b[0m \u001b[0mcallback\u001b[0m\u001b[0;34m=\u001b[0m\u001b[0;32mNone\u001b[0m\u001b[0;34m)\u001b[0m\u001b[0;34m:\u001b[0m\u001b[0;34m\u001b[0m\u001b[0;34m\u001b[0m\u001b[0m\n\u001b[1;32m    208\u001b[0m         \u001b[0;34m\"\"\"Schedule a func to be run\"\"\"\u001b[0m\u001b[0;34m\u001b[0m\u001b[0;34m\u001b[0m\u001b[0m\n\u001b[0;32m--> 209\u001b[0;31m         \u001b[0mresult\u001b[0m \u001b[0;34m=\u001b[0m \u001b[0mImmediateResult\u001b[0m\u001b[0;34m(\u001b[0m\u001b[0mfunc\u001b[0m\u001b[0;34m)\u001b[0m\u001b[0;34m\u001b[0m\u001b[0;34m\u001b[0m\u001b[0m\n\u001b[0m\u001b[1;32m    210\u001b[0m         \u001b[0;32mif\u001b[0m \u001b[0mcallback\u001b[0m\u001b[0;34m:\u001b[0m\u001b[0;34m\u001b[0m\u001b[0;34m\u001b[0m\u001b[0m\n\u001b[1;32m    211\u001b[0m             \u001b[0mcallback\u001b[0m\u001b[0;34m(\u001b[0m\u001b[0mresult\u001b[0m\u001b[0;34m)\u001b[0m\u001b[0;34m\u001b[0m\u001b[0;34m\u001b[0m\u001b[0m\n",
      "\u001b[0;32m~/anaconda3/lib/python3.7/site-packages/joblib/_parallel_backends.py\u001b[0m in \u001b[0;36m__init__\u001b[0;34m(self, batch)\u001b[0m\n\u001b[1;32m    588\u001b[0m         \u001b[0;31m# Don't delay the application, to avoid keeping the input\u001b[0m\u001b[0;34m\u001b[0m\u001b[0;34m\u001b[0m\u001b[0;34m\u001b[0m\u001b[0m\n\u001b[1;32m    589\u001b[0m         \u001b[0;31m# arguments in memory\u001b[0m\u001b[0;34m\u001b[0m\u001b[0;34m\u001b[0m\u001b[0;34m\u001b[0m\u001b[0m\n\u001b[0;32m--> 590\u001b[0;31m         \u001b[0mself\u001b[0m\u001b[0;34m.\u001b[0m\u001b[0mresults\u001b[0m \u001b[0;34m=\u001b[0m \u001b[0mbatch\u001b[0m\u001b[0;34m(\u001b[0m\u001b[0;34m)\u001b[0m\u001b[0;34m\u001b[0m\u001b[0;34m\u001b[0m\u001b[0m\n\u001b[0m\u001b[1;32m    591\u001b[0m \u001b[0;34m\u001b[0m\u001b[0m\n\u001b[1;32m    592\u001b[0m     \u001b[0;32mdef\u001b[0m \u001b[0mget\u001b[0m\u001b[0;34m(\u001b[0m\u001b[0mself\u001b[0m\u001b[0;34m)\u001b[0m\u001b[0;34m:\u001b[0m\u001b[0;34m\u001b[0m\u001b[0;34m\u001b[0m\u001b[0m\n",
      "\u001b[0;32m~/anaconda3/lib/python3.7/site-packages/joblib/parallel.py\u001b[0m in \u001b[0;36m__call__\u001b[0;34m(self)\u001b[0m\n\u001b[1;32m    254\u001b[0m         \u001b[0;32mwith\u001b[0m \u001b[0mparallel_backend\u001b[0m\u001b[0;34m(\u001b[0m\u001b[0mself\u001b[0m\u001b[0;34m.\u001b[0m\u001b[0m_backend\u001b[0m\u001b[0;34m,\u001b[0m \u001b[0mn_jobs\u001b[0m\u001b[0;34m=\u001b[0m\u001b[0mself\u001b[0m\u001b[0;34m.\u001b[0m\u001b[0m_n_jobs\u001b[0m\u001b[0;34m)\u001b[0m\u001b[0;34m:\u001b[0m\u001b[0;34m\u001b[0m\u001b[0;34m\u001b[0m\u001b[0m\n\u001b[1;32m    255\u001b[0m             return [func(*args, **kwargs)\n\u001b[0;32m--> 256\u001b[0;31m                     for func, args, kwargs in self.items]\n\u001b[0m\u001b[1;32m    257\u001b[0m \u001b[0;34m\u001b[0m\u001b[0m\n\u001b[1;32m    258\u001b[0m     \u001b[0;32mdef\u001b[0m \u001b[0m__len__\u001b[0m\u001b[0;34m(\u001b[0m\u001b[0mself\u001b[0m\u001b[0;34m)\u001b[0m\u001b[0;34m:\u001b[0m\u001b[0;34m\u001b[0m\u001b[0;34m\u001b[0m\u001b[0m\n",
      "\u001b[0;32m~/anaconda3/lib/python3.7/site-packages/joblib/parallel.py\u001b[0m in \u001b[0;36m<listcomp>\u001b[0;34m(.0)\u001b[0m\n\u001b[1;32m    254\u001b[0m         \u001b[0;32mwith\u001b[0m \u001b[0mparallel_backend\u001b[0m\u001b[0;34m(\u001b[0m\u001b[0mself\u001b[0m\u001b[0;34m.\u001b[0m\u001b[0m_backend\u001b[0m\u001b[0;34m,\u001b[0m \u001b[0mn_jobs\u001b[0m\u001b[0;34m=\u001b[0m\u001b[0mself\u001b[0m\u001b[0;34m.\u001b[0m\u001b[0m_n_jobs\u001b[0m\u001b[0;34m)\u001b[0m\u001b[0;34m:\u001b[0m\u001b[0;34m\u001b[0m\u001b[0;34m\u001b[0m\u001b[0m\n\u001b[1;32m    255\u001b[0m             return [func(*args, **kwargs)\n\u001b[0;32m--> 256\u001b[0;31m                     for func, args, kwargs in self.items]\n\u001b[0m\u001b[1;32m    257\u001b[0m \u001b[0;34m\u001b[0m\u001b[0m\n\u001b[1;32m    258\u001b[0m     \u001b[0;32mdef\u001b[0m \u001b[0m__len__\u001b[0m\u001b[0;34m(\u001b[0m\u001b[0mself\u001b[0m\u001b[0;34m)\u001b[0m\u001b[0;34m:\u001b[0m\u001b[0;34m\u001b[0m\u001b[0;34m\u001b[0m\u001b[0m\n",
      "\u001b[0;32m~/anaconda3/lib/python3.7/site-packages/sklearn/ensemble/_forest.py\u001b[0m in \u001b[0;36m_parallel_build_trees\u001b[0;34m(tree, forest, X, y, sample_weight, tree_idx, n_trees, verbose, class_weight, n_samples_bootstrap)\u001b[0m\n\u001b[1;32m    163\u001b[0m             \u001b[0mcurr_sample_weight\u001b[0m \u001b[0;34m*=\u001b[0m \u001b[0mcompute_sample_weight\u001b[0m\u001b[0;34m(\u001b[0m\u001b[0;34m'balanced'\u001b[0m\u001b[0;34m,\u001b[0m \u001b[0my\u001b[0m\u001b[0;34m,\u001b[0m \u001b[0mindices\u001b[0m\u001b[0;34m)\u001b[0m\u001b[0;34m\u001b[0m\u001b[0;34m\u001b[0m\u001b[0m\n\u001b[1;32m    164\u001b[0m \u001b[0;34m\u001b[0m\u001b[0m\n\u001b[0;32m--> 165\u001b[0;31m         \u001b[0mtree\u001b[0m\u001b[0;34m.\u001b[0m\u001b[0mfit\u001b[0m\u001b[0;34m(\u001b[0m\u001b[0mX\u001b[0m\u001b[0;34m,\u001b[0m \u001b[0my\u001b[0m\u001b[0;34m,\u001b[0m \u001b[0msample_weight\u001b[0m\u001b[0;34m=\u001b[0m\u001b[0mcurr_sample_weight\u001b[0m\u001b[0;34m,\u001b[0m \u001b[0mcheck_input\u001b[0m\u001b[0;34m=\u001b[0m\u001b[0;32mFalse\u001b[0m\u001b[0;34m)\u001b[0m\u001b[0;34m\u001b[0m\u001b[0;34m\u001b[0m\u001b[0m\n\u001b[0m\u001b[1;32m    166\u001b[0m     \u001b[0;32melse\u001b[0m\u001b[0;34m:\u001b[0m\u001b[0;34m\u001b[0m\u001b[0;34m\u001b[0m\u001b[0m\n\u001b[1;32m    167\u001b[0m         \u001b[0mtree\u001b[0m\u001b[0;34m.\u001b[0m\u001b[0mfit\u001b[0m\u001b[0;34m(\u001b[0m\u001b[0mX\u001b[0m\u001b[0;34m,\u001b[0m \u001b[0my\u001b[0m\u001b[0;34m,\u001b[0m \u001b[0msample_weight\u001b[0m\u001b[0;34m=\u001b[0m\u001b[0msample_weight\u001b[0m\u001b[0;34m,\u001b[0m \u001b[0mcheck_input\u001b[0m\u001b[0;34m=\u001b[0m\u001b[0;32mFalse\u001b[0m\u001b[0;34m)\u001b[0m\u001b[0;34m\u001b[0m\u001b[0;34m\u001b[0m\u001b[0m\n",
      "\u001b[0;32m~/anaconda3/lib/python3.7/site-packages/sklearn/tree/_classes.py\u001b[0m in \u001b[0;36mfit\u001b[0;34m(self, X, y, sample_weight, check_input, X_idx_sorted)\u001b[0m\n\u001b[1;32m    875\u001b[0m             \u001b[0msample_weight\u001b[0m\u001b[0;34m=\u001b[0m\u001b[0msample_weight\u001b[0m\u001b[0;34m,\u001b[0m\u001b[0;34m\u001b[0m\u001b[0;34m\u001b[0m\u001b[0m\n\u001b[1;32m    876\u001b[0m             \u001b[0mcheck_input\u001b[0m\u001b[0;34m=\u001b[0m\u001b[0mcheck_input\u001b[0m\u001b[0;34m,\u001b[0m\u001b[0;34m\u001b[0m\u001b[0;34m\u001b[0m\u001b[0m\n\u001b[0;32m--> 877\u001b[0;31m             X_idx_sorted=X_idx_sorted)\n\u001b[0m\u001b[1;32m    878\u001b[0m         \u001b[0;32mreturn\u001b[0m \u001b[0mself\u001b[0m\u001b[0;34m\u001b[0m\u001b[0;34m\u001b[0m\u001b[0m\n\u001b[1;32m    879\u001b[0m \u001b[0;34m\u001b[0m\u001b[0m\n",
      "\u001b[0;32m~/anaconda3/lib/python3.7/site-packages/sklearn/tree/_classes.py\u001b[0m in \u001b[0;36mfit\u001b[0;34m(self, X, y, sample_weight, check_input, X_idx_sorted)\u001b[0m\n\u001b[1;32m    365\u001b[0m                                            min_impurity_split)\n\u001b[1;32m    366\u001b[0m \u001b[0;34m\u001b[0m\u001b[0m\n\u001b[0;32m--> 367\u001b[0;31m         \u001b[0mbuilder\u001b[0m\u001b[0;34m.\u001b[0m\u001b[0mbuild\u001b[0m\u001b[0;34m(\u001b[0m\u001b[0mself\u001b[0m\u001b[0;34m.\u001b[0m\u001b[0mtree_\u001b[0m\u001b[0;34m,\u001b[0m \u001b[0mX\u001b[0m\u001b[0;34m,\u001b[0m \u001b[0my\u001b[0m\u001b[0;34m,\u001b[0m \u001b[0msample_weight\u001b[0m\u001b[0;34m,\u001b[0m \u001b[0mX_idx_sorted\u001b[0m\u001b[0;34m)\u001b[0m\u001b[0;34m\u001b[0m\u001b[0;34m\u001b[0m\u001b[0m\n\u001b[0m\u001b[1;32m    368\u001b[0m \u001b[0;34m\u001b[0m\u001b[0m\n\u001b[1;32m    369\u001b[0m         \u001b[0;32mif\u001b[0m \u001b[0mself\u001b[0m\u001b[0;34m.\u001b[0m\u001b[0mn_outputs_\u001b[0m \u001b[0;34m==\u001b[0m \u001b[0;36m1\u001b[0m \u001b[0;32mand\u001b[0m \u001b[0mis_classifier\u001b[0m\u001b[0;34m(\u001b[0m\u001b[0mself\u001b[0m\u001b[0;34m)\u001b[0m\u001b[0;34m:\u001b[0m\u001b[0;34m\u001b[0m\u001b[0;34m\u001b[0m\u001b[0m\n",
      "\u001b[0;31mKeyboardInterrupt\u001b[0m: "
     ]
    }
   ],
   "source": [
    "num = 6\n",
    "RF = RandomForestClassifier()\n",
    "clf = RandomizedSearchCV(RF, n_iter= 8, param_distributions={'n_estimators': list(map(int, np.logspace(0.5, 2, num=num))), 'max_depth': list(map(int, np.logspace(1, 3, num=num)))}, scoring='accuracy')\n",
    "t = time.time()\n",
    "clf.fit(x_train, y_train['label'])\n",
    "print(\"time: \", time.time() - t)"
   ]
  },
  {
   "cell_type": "code",
   "execution_count": 60,
   "metadata": {},
   "outputs": [
    {
     "data": {
      "text/html": [
       "<div>\n",
       "<style scoped>\n",
       "    .dataframe tbody tr th:only-of-type {\n",
       "        vertical-align: middle;\n",
       "    }\n",
       "\n",
       "    .dataframe tbody tr th {\n",
       "        vertical-align: top;\n",
       "    }\n",
       "\n",
       "    .dataframe thead th {\n",
       "        text-align: right;\n",
       "    }\n",
       "</style>\n",
       "<table border=\"1\" class=\"dataframe\">\n",
       "  <thead>\n",
       "    <tr style=\"text-align: right;\">\n",
       "      <th></th>\n",
       "      <th>mean_fit_time</th>\n",
       "      <th>std_fit_time</th>\n",
       "      <th>mean_score_time</th>\n",
       "      <th>std_score_time</th>\n",
       "      <th>param_n_estimators</th>\n",
       "      <th>param_max_depth</th>\n",
       "      <th>params</th>\n",
       "      <th>split0_test_score</th>\n",
       "      <th>split1_test_score</th>\n",
       "      <th>split2_test_score</th>\n",
       "      <th>split3_test_score</th>\n",
       "      <th>split4_test_score</th>\n",
       "      <th>mean_test_score</th>\n",
       "      <th>std_test_score</th>\n",
       "      <th>rank_test_score</th>\n",
       "    </tr>\n",
       "  </thead>\n",
       "  <tbody>\n",
       "    <tr>\n",
       "      <th>0</th>\n",
       "      <td>10.790122</td>\n",
       "      <td>0.086281</td>\n",
       "      <td>0.235149</td>\n",
       "      <td>0.001698</td>\n",
       "      <td>50</td>\n",
       "      <td>1000</td>\n",
       "      <td>{'n_estimators': 50, 'max_depth': 1000}</td>\n",
       "      <td>0.924936</td>\n",
       "      <td>0.925239</td>\n",
       "      <td>0.927416</td>\n",
       "      <td>0.923902</td>\n",
       "      <td>0.923902</td>\n",
       "      <td>0.925079</td>\n",
       "      <td>0.001287</td>\n",
       "      <td>7</td>\n",
       "    </tr>\n",
       "    <tr>\n",
       "      <th>1</th>\n",
       "      <td>16.526401</td>\n",
       "      <td>0.079720</td>\n",
       "      <td>0.351363</td>\n",
       "      <td>0.001296</td>\n",
       "      <td>79</td>\n",
       "      <td>1000</td>\n",
       "      <td>{'n_estimators': 79, 'max_depth': 1000}</td>\n",
       "      <td>0.925845</td>\n",
       "      <td>0.926875</td>\n",
       "      <td>0.926749</td>\n",
       "      <td>0.927052</td>\n",
       "      <td>0.925235</td>\n",
       "      <td>0.926351</td>\n",
       "      <td>0.000697</td>\n",
       "      <td>2</td>\n",
       "    </tr>\n",
       "    <tr>\n",
       "      <th>2</th>\n",
       "      <td>7.318712</td>\n",
       "      <td>0.031978</td>\n",
       "      <td>0.163906</td>\n",
       "      <td>0.001072</td>\n",
       "      <td>50</td>\n",
       "      <td>25</td>\n",
       "      <td>{'n_estimators': 50, 'max_depth': 25}</td>\n",
       "      <td>0.925360</td>\n",
       "      <td>0.926451</td>\n",
       "      <td>0.926507</td>\n",
       "      <td>0.925477</td>\n",
       "      <td>0.924750</td>\n",
       "      <td>0.925709</td>\n",
       "      <td>0.000676</td>\n",
       "      <td>6</td>\n",
       "    </tr>\n",
       "    <tr>\n",
       "      <th>3</th>\n",
       "      <td>9.257576</td>\n",
       "      <td>0.388972</td>\n",
       "      <td>0.201173</td>\n",
       "      <td>0.002759</td>\n",
       "      <td>63</td>\n",
       "      <td>25</td>\n",
       "      <td>{'n_estimators': 63, 'max_depth': 25}</td>\n",
       "      <td>0.923604</td>\n",
       "      <td>0.924815</td>\n",
       "      <td>0.926628</td>\n",
       "      <td>0.923659</td>\n",
       "      <td>0.923478</td>\n",
       "      <td>0.924437</td>\n",
       "      <td>0.001197</td>\n",
       "      <td>8</td>\n",
       "    </tr>\n",
       "    <tr>\n",
       "      <th>4</th>\n",
       "      <td>19.877904</td>\n",
       "      <td>0.033465</td>\n",
       "      <td>0.422877</td>\n",
       "      <td>0.001297</td>\n",
       "      <td>100</td>\n",
       "      <td>63</td>\n",
       "      <td>{'n_estimators': 100, 'max_depth': 63}</td>\n",
       "      <td>0.926027</td>\n",
       "      <td>0.927663</td>\n",
       "      <td>0.928567</td>\n",
       "      <td>0.925235</td>\n",
       "      <td>0.923962</td>\n",
       "      <td>0.926291</td>\n",
       "      <td>0.001653</td>\n",
       "      <td>3</td>\n",
       "    </tr>\n",
       "    <tr>\n",
       "      <th>5</th>\n",
       "      <td>16.633268</td>\n",
       "      <td>0.042538</td>\n",
       "      <td>0.357658</td>\n",
       "      <td>0.001582</td>\n",
       "      <td>79</td>\n",
       "      <td>398</td>\n",
       "      <td>{'n_estimators': 79, 'max_depth': 398}</td>\n",
       "      <td>0.925360</td>\n",
       "      <td>0.925300</td>\n",
       "      <td>0.928749</td>\n",
       "      <td>0.925719</td>\n",
       "      <td>0.925295</td>\n",
       "      <td>0.926085</td>\n",
       "      <td>0.001341</td>\n",
       "      <td>4</td>\n",
       "    </tr>\n",
       "    <tr>\n",
       "      <th>6</th>\n",
       "      <td>16.634118</td>\n",
       "      <td>0.042297</td>\n",
       "      <td>0.358111</td>\n",
       "      <td>0.002030</td>\n",
       "      <td>79</td>\n",
       "      <td>158</td>\n",
       "      <td>{'n_estimators': 79, 'max_depth': 158}</td>\n",
       "      <td>0.927844</td>\n",
       "      <td>0.925482</td>\n",
       "      <td>0.927416</td>\n",
       "      <td>0.924568</td>\n",
       "      <td>0.924689</td>\n",
       "      <td>0.926000</td>\n",
       "      <td>0.001374</td>\n",
       "      <td>5</td>\n",
       "    </tr>\n",
       "    <tr>\n",
       "      <th>7</th>\n",
       "      <td>15.821741</td>\n",
       "      <td>0.037124</td>\n",
       "      <td>0.337717</td>\n",
       "      <td>0.002977</td>\n",
       "      <td>79</td>\n",
       "      <td>63</td>\n",
       "      <td>{'n_estimators': 79, 'max_depth': 63}</td>\n",
       "      <td>0.927360</td>\n",
       "      <td>0.926693</td>\n",
       "      <td>0.927779</td>\n",
       "      <td>0.926871</td>\n",
       "      <td>0.926144</td>\n",
       "      <td>0.926969</td>\n",
       "      <td>0.000562</td>\n",
       "      <td>1</td>\n",
       "    </tr>\n",
       "  </tbody>\n",
       "</table>\n",
       "</div>"
      ],
      "text/plain": [
       "   mean_fit_time  std_fit_time  mean_score_time  std_score_time  \\\n",
       "0      10.790122      0.086281         0.235149        0.001698   \n",
       "1      16.526401      0.079720         0.351363        0.001296   \n",
       "2       7.318712      0.031978         0.163906        0.001072   \n",
       "3       9.257576      0.388972         0.201173        0.002759   \n",
       "4      19.877904      0.033465         0.422877        0.001297   \n",
       "5      16.633268      0.042538         0.357658        0.001582   \n",
       "6      16.634118      0.042297         0.358111        0.002030   \n",
       "7      15.821741      0.037124         0.337717        0.002977   \n",
       "\n",
       "  param_n_estimators param_max_depth                                   params  \\\n",
       "0                 50            1000  {'n_estimators': 50, 'max_depth': 1000}   \n",
       "1                 79            1000  {'n_estimators': 79, 'max_depth': 1000}   \n",
       "2                 50              25    {'n_estimators': 50, 'max_depth': 25}   \n",
       "3                 63              25    {'n_estimators': 63, 'max_depth': 25}   \n",
       "4                100              63   {'n_estimators': 100, 'max_depth': 63}   \n",
       "5                 79             398   {'n_estimators': 79, 'max_depth': 398}   \n",
       "6                 79             158   {'n_estimators': 79, 'max_depth': 158}   \n",
       "7                 79              63    {'n_estimators': 79, 'max_depth': 63}   \n",
       "\n",
       "   split0_test_score  split1_test_score  split2_test_score  split3_test_score  \\\n",
       "0           0.924936           0.925239           0.927416           0.923902   \n",
       "1           0.925845           0.926875           0.926749           0.927052   \n",
       "2           0.925360           0.926451           0.926507           0.925477   \n",
       "3           0.923604           0.924815           0.926628           0.923659   \n",
       "4           0.926027           0.927663           0.928567           0.925235   \n",
       "5           0.925360           0.925300           0.928749           0.925719   \n",
       "6           0.927844           0.925482           0.927416           0.924568   \n",
       "7           0.927360           0.926693           0.927779           0.926871   \n",
       "\n",
       "   split4_test_score  mean_test_score  std_test_score  rank_test_score  \n",
       "0           0.923902         0.925079        0.001287                7  \n",
       "1           0.925235         0.926351        0.000697                2  \n",
       "2           0.924750         0.925709        0.000676                6  \n",
       "3           0.923478         0.924437        0.001197                8  \n",
       "4           0.923962         0.926291        0.001653                3  \n",
       "5           0.925295         0.926085        0.001341                4  \n",
       "6           0.924689         0.926000        0.001374                5  \n",
       "7           0.926144         0.926969        0.000562                1  "
      ]
     },
     "execution_count": 60,
     "metadata": {},
     "output_type": "execute_result"
    }
   ],
   "source": [
    "pd.DataFrame(clf.cv_results_)"
   ]
  },
  {
   "cell_type": "markdown",
   "metadata": {},
   "source": [
    "###### best_params RandomForest\n",
    "n_estimators: 79\n",
    "max_depth: 63"
   ]
  },
  {
   "cell_type": "code",
   "execution_count": 28,
   "metadata": {},
   "outputs": [
    {
     "name": "stdout",
     "output_type": "stream",
     "text": [
      "time:  101.74727058410645\n"
     ]
    }
   ],
   "source": [
    "logistic = LogisticRegression(penalty='l2', C=3.73, max_iter=10000)\n",
    "t = time.time()\n",
    "logistic.fit(x_train, y_train['label'])\n",
    "print(\"time: \", time.time() - t)"
   ]
  },
  {
   "cell_type": "code",
   "execution_count": 29,
   "metadata": {},
   "outputs": [
    {
     "name": "stdout",
     "output_type": "stream",
     "text": [
      "accuracy_log:  0.9270568278201866\n",
      "precision_log:  0.5655117483074472\n",
      "recall_log:  0.48814025438294945\n"
     ]
    }
   ],
   "source": [
    "y_log = logistic.predict(x_test)\n",
    "print(\"accuracy_log: \", accuracy_score(y_test['label'], y_log))\n",
    "print(\"precision_log: \", precision_score(y_test['label'], y_log))\n",
    "print(\"recall_log: \", recall_score(y_test['label'], y_log))"
   ]
  },
  {
   "cell_type": "code",
   "execution_count": 41,
   "metadata": {},
   "outputs": [
    {
     "data": {
      "text/plain": [
       "0    32461\n",
       "1     2909\n",
       "Name: label, dtype: int64"
      ]
     },
     "execution_count": 41,
     "metadata": {},
     "output_type": "execute_result"
    }
   ],
   "source": [
    "y_test['label'].value_counts()"
   ]
  },
  {
   "cell_type": "code",
   "execution_count": 42,
   "metadata": {},
   "outputs": [
    {
     "data": {
      "text/plain": [
       "0.08224484026010744"
      ]
     },
     "execution_count": 42,
     "metadata": {},
     "output_type": "execute_result"
    }
   ],
   "source": [
    "2909 / y_test.shape[0]"
   ]
  },
  {
   "cell_type": "code",
   "execution_count": 43,
   "metadata": {},
   "outputs": [
    {
     "data": {
      "text/plain": [
       "0.15055200000000002"
      ]
     },
     "execution_count": 43,
     "metadata": {},
     "output_type": "execute_result"
    }
   ],
   "source": [
    "2 * 0.082 * (1 - 0.082)"
   ]
  },
  {
   "cell_type": "code",
   "execution_count": 151,
   "metadata": {},
   "outputs": [
    {
     "name": "stdout",
     "output_type": "stream",
     "text": [
      "time:  5.621752738952637\n"
     ]
    }
   ],
   "source": [
    "RF = RandomForestClassifier(n_estimators=10, max_depth=63)\n",
    "t = time.time()\n",
    "RF.fit(x_train, y_train['label'])\n",
    "print(\"time: \", time.time() - t)"
   ]
  },
  {
   "cell_type": "code",
   "execution_count": 152,
   "metadata": {},
   "outputs": [
    {
     "name": "stdout",
     "output_type": "stream",
     "text": [
      "accuracy_log:  0.9180378852134577\n",
      "precision_log:  0.7403846153846154\n",
      "recall_log:  0.02611054594777891\n"
     ]
    }
   ],
   "source": [
    "y_RF = RF.predict(x_test)\n",
    "print(\"accuracy_log: \", accuracy_score(y_test['label'], y_RF))\n",
    "print(\"precision_log: \", precision_score(y_test['label'], y_RF))\n",
    "print(\"recall_log: \", recall_score(y_test['label'], y_RF))"
   ]
  },
  {
   "cell_type": "code",
   "execution_count": null,
   "metadata": {},
   "outputs": [],
   "source": []
  },
  {
   "cell_type": "code",
   "execution_count": 153,
   "metadata": {},
   "outputs": [],
   "source": [
    "vocabulary = [\"\" for i in range(len(vocabulary_body) + len(vocabulary_title))]\n",
    "for w in vocabulary_title:\n",
    "    vocabulary[vocabulary_title[w]] = w\n",
    "for w in vocabulary_body:\n",
    "    vocabulary[vocabulary_body[w] + len(vocabulary_title)] = w"
   ]
  },
  {
   "cell_type": "markdown",
   "metadata": {},
   "source": [
    "##### Резюме\n",
    "* в CountVectorizer можно увеличивать минимальную частоту слова по документам, считая, что слова, которые встречаются очень редко не достаточно информативны, также можно уменьшать максимальную частоту, считая что очень частые слова тоже несут мало информации\n",
    "* Качество Logistic_Regression: \n",
    "    accuracy: 0.9270568278201866\n",
    "    precision: 0.5655117483074472\n",
    "    recall: 0.48814025438294945\n",
    "* Качество RandomForest:\n",
    "    accuracy: 0.9191970596550749\n",
    "    precision: 0.7256637168141593\n",
    "    recall: 0.028188380886902717\n",
    "* В нашем случае, если мы ничего больше не делаем с RandomForest качество оказывается очень плохим, recall= 0.009, это почти что просто всегда отвечать класс \"0\", это происходит наверно потому, что каждое отдельное дерево имеет recall < 0.5  и тогда голосование деревьев выдает с очень большой вероятностью ответ 0. Тогда общий recall будет маленький. Тогда придется брать мало деревьев, чтобы recall был хоть сколько то большим, но тогда это практически просто DecisionTree."
   ]
  },
  {
   "cell_type": "code",
   "execution_count": null,
   "metadata": {},
   "outputs": [],
   "source": []
  },
  {
   "cell_type": "code",
   "execution_count": 55,
   "metadata": {
    "jupyter": {
     "outputs_hidden": true
    }
   },
   "outputs": [],
   "source": [
    "precision_log, recall_log, thresholds_log = precision_recall_curve(y_test['label'], logistic.predict_proba(x_test)[:, 1])"
   ]
  },
  {
   "cell_type": "code",
   "execution_count": 56,
   "metadata": {},
   "outputs": [],
   "source": [
    "precision_RF, recall_RF, thresholds_RF= precision_recall_curve(y_test['label'], RF.predict_proba(x_test)[:, 1])"
   ]
  },
  {
   "cell_type": "code",
   "execution_count": 57,
   "metadata": {},
   "outputs": [
    {
     "name": "stdout",
     "output_type": "stream",
     "text": [
      "AUC_log:  0.4995614062723821\n",
      "AUC_RF:  0.4561028501136266\n"
     ]
    },
    {
     "data": {
      "image/png": "[encoded data removed]",
      "text/plain": [
       "<Figure size 432x288 with 1 Axes>"
      ]
     },
     "metadata": {
      "needs_background": "light"
     },
     "output_type": "display_data"
    }
   ],
   "source": [
    "line1, = plt.plot(recall_log, precision_log, c='blue')\n",
    "line2, = plt.plot(recall_RF, precision_RF, c='red')\n",
    "plt.xlabel('recall')\n",
    "plt.ylabel('precision')\n",
    "plt.yticks([i / 20 for i in range(0, 21)])\n",
    "plt.grid(b=True)\n",
    "plt.legend((line1, line2), ('log_regression', 'RandomForest'))\n",
    "plt.title('Precision_Recall_Curve')\n",
    "print('AUC_log: ', auc(recall_log, precision_log))\n",
    "print('AUC_RF: ', auc(recall_RF, precision_RF))"
   ]
  },
  {
   "cell_type": "code",
   "execution_count": null,
   "metadata": {},
   "outputs": [],
   "source": []
  },
  {
   "cell_type": "code",
   "execution_count": 58,
   "metadata": {},
   "outputs": [],
   "source": [
    "fpr_log, tpr_log, thresholds_log = roc_curve(y_test['label'], logistic.predict_proba(x_test)[:, 1])"
   ]
  },
  {
   "cell_type": "code",
   "execution_count": 59,
   "metadata": {},
   "outputs": [],
   "source": [
    "fpr_RF, tpr_RF, thresholds_RF= roc_curve(y_test['label'], RF.predict_proba(x_test)[:, 1])"
   ]
  },
  {
   "cell_type": "code",
   "execution_count": 60,
   "metadata": {},
   "outputs": [
    {
     "name": "stdout",
     "output_type": "stream",
     "text": [
      "AUC_log:  0.9126906170578928\n",
      "AUC_RF:  0.9005130243342809\n"
     ]
    },
    {
     "data": {
      "image/png": "[encoded data removed]",
      "text/plain": [
       "<Figure size 432x288 with 1 Axes>"
      ]
     },
     "metadata": {
      "needs_background": "light"
     },
     "output_type": "display_data"
    }
   ],
   "source": [
    "line1, = plt.plot(fpr_log, tpr_log, c='blue')\n",
    "line2, = plt.plot(fpr_RF, tpr_RF, c='red')\n",
    "plt.xlabel('FPR')\n",
    "plt.ylabel('TPR')\n",
    "plt.yticks([i / 20 for i in range(0, 21)])\n",
    "plt.grid(b=True)\n",
    "plt.legend((line1, line2), ('log_regression', 'RandomForest'))\n",
    "plt.title('ROC_Curve')\n",
    "print('AUC_log: ', auc(fpr_log, tpr_log))\n",
    "print('AUC_RF: ', auc(fpr_RF, tpr_RF))"
   ]
  },
  {
   "cell_type": "markdown",
   "metadata": {},
   "source": [
    "#### Резюме\n",
    "* опять по обоим графикам видно, что RandomForest классифицирует хуже"
   ]
  },
  {
   "cell_type": "code",
   "execution_count": null,
   "metadata": {},
   "outputs": [],
   "source": []
  },
  {
   "cell_type": "code",
   "execution_count": null,
   "metadata": {},
   "outputs": [],
   "source": []
  },
  {
   "cell_type": "code",
   "execution_count": null,
   "metadata": {},
   "outputs": [],
   "source": []
  },
  {
   "cell_type": "code",
   "execution_count": null,
   "metadata": {},
   "outputs": [],
   "source": []
  },
  {
   "cell_type": "code",
   "execution_count": 183,
   "metadata": {
    "jupyter": {
     "outputs_hidden": true
    }
   },
   "outputs": [],
   "source": [
    "vectorizer = CountVectorizer(stop_words='english', min_df = 0.0002)\n",
    "data_title = vectorizer.fit_transform(x_train_initial['title'])\n",
    "vocabulary_title = vectorizer.vocabulary_"
   ]
  },
  {
   "cell_type": "code",
   "execution_count": 184,
   "metadata": {},
   "outputs": [
    {
     "data": {
      "text/plain": [
       "3223"
      ]
     },
     "execution_count": 184,
     "metadata": {},
     "output_type": "execute_result"
    }
   ],
   "source": [
    "data_title.shape[1]"
   ]
  },
  {
   "cell_type": "code",
   "execution_count": 185,
   "metadata": {},
   "outputs": [],
   "source": [
    "vectorizer = CountVectorizer(stop_words='english', min_df = 0.0003)\n",
    "data_body = vectorizer.fit_transform(x_train_initial['body'])\n",
    "vocabulary_body = vectorizer.vocabulary_"
   ]
  },
  {
   "cell_type": "code",
   "execution_count": 186,
   "metadata": {},
   "outputs": [
    {
     "data": {
      "text/plain": [
       "13067"
      ]
     },
     "execution_count": 186,
     "metadata": {},
     "output_type": "execute_result"
    }
   ],
   "source": [
    "data_body.shape[1]"
   ]
  },
  {
   "cell_type": "code",
   "execution_count": 187,
   "metadata": {},
   "outputs": [
    {
     "data": {
      "text/plain": [
       "32"
      ]
     },
     "execution_count": 187,
     "metadata": {},
     "output_type": "execute_result"
    }
   ],
   "source": [
    "data_body.__sizeof__()"
   ]
  },
  {
   "cell_type": "code",
   "execution_count": 188,
   "metadata": {},
   "outputs": [],
   "source": [
    "x_train = sp.hstack([data_title, data_body])\n"
   ]
  },
  {
   "cell_type": "code",
   "execution_count": 189,
   "metadata": {},
   "outputs": [],
   "source": [
    "vectorizer = CountVectorizer(vocabulary=vocabulary_title)\n",
    "data_title = vectorizer.fit_transform(x_test_initial['title'])\n",
    "vectorizer = CountVectorizer(vocabulary=vocabulary_body)\n",
    "data_body = vectorizer.fit_transform(x_test_initial['body'])\n",
    "x_test = sp.hstack([data_title, data_body])"
   ]
  },
  {
   "cell_type": "code",
   "execution_count": 190,
   "metadata": {},
   "outputs": [
    {
     "data": {
      "text/plain": [
       "LogisticRegression(C=3.73, class_weight=None, dual=False, fit_intercept=True,\n",
       "                   intercept_scaling=1, l1_ratio=None, max_iter=10000,\n",
       "                   multi_class='auto', n_jobs=None, penalty='l2',\n",
       "                   random_state=None, solver='lbfgs', tol=0.0001, verbose=0,\n",
       "                   warm_start=False)"
      ]
     },
     "execution_count": 190,
     "metadata": {},
     "output_type": "execute_result"
    }
   ],
   "source": [
    "logistic = LogisticRegression(C=3.73, max_iter=10000)\n",
    "logistic.fit(x_train, y_train['label'])\n"
   ]
  },
  {
   "cell_type": "code",
   "execution_count": 191,
   "metadata": {},
   "outputs": [],
   "source": [
    "fpr_log_top, tpr_log_top, thresholds_log_top = roc_curve(y_test['label'], logistic.predict_proba(x_test)[:, 1])"
   ]
  },
  {
   "cell_type": "code",
   "execution_count": null,
   "metadata": {},
   "outputs": [],
   "source": []
  },
  {
   "cell_type": "code",
   "execution_count": 192,
   "metadata": {},
   "outputs": [],
   "source": [
    "imp = RF.feature_importances_"
   ]
  },
  {
   "cell_type": "code",
   "execution_count": 193,
   "metadata": {},
   "outputs": [],
   "source": [
    "arr = [(imp[i], i) for i in range(len(RF.feature_importances_))]"
   ]
  },
  {
   "cell_type": "code",
   "execution_count": 194,
   "metadata": {},
   "outputs": [],
   "source": [
    "vocabulary_tree_title = []\n",
    "vocabulary_tree_body = []"
   ]
  },
  {
   "cell_type": "code",
   "execution_count": 195,
   "metadata": {},
   "outputs": [
    {
     "data": {
      "text/plain": [
       "592613"
      ]
     },
     "execution_count": 195,
     "metadata": {},
     "output_type": "execute_result"
    }
   ],
   "source": [
    "len(vocabulary)"
   ]
  },
  {
   "cell_type": "code",
   "execution_count": null,
   "metadata": {},
   "outputs": [],
   "source": []
  },
  {
   "cell_type": "code",
   "execution_count": 196,
   "metadata": {},
   "outputs": [],
   "source": [
    "for ind in range(len(arr) - 1, len(arr) - 15001, -1):\n",
    "    p = arr[ind]\n",
    "    i = p[1]\n",
    "    if (i < len_vocabulary_title):\n",
    "        vocabulary_tree_title.append(vocabulary[i])\n",
    "    else:\n",
    "        vocabulary_tree_body.append(vocabulary[i])"
   ]
  },
  {
   "cell_type": "code",
   "execution_count": 197,
   "metadata": {},
   "outputs": [
    {
     "data": {
      "text/plain": [
       "32360"
      ]
     },
     "execution_count": 197,
     "metadata": {},
     "output_type": "execute_result"
    }
   ],
   "source": [
    "len_vocabulary_title"
   ]
  },
  {
   "cell_type": "code",
   "execution_count": 198,
   "metadata": {},
   "outputs": [
    {
     "data": {
      "text/plain": [
       "['ｐゴシック',\n",
       " 'ｎｋ',\n",
       " 'ｍｓ',\n",
       " 'ｌｉｖｅ',\n",
       " 'ﬂoating',\n",
       " '확인하십시오',\n",
       " '화면으로',\n",
       " '형성',\n",
       " '현재',\n",
       " '헬스',\n",
       " '핵심인',\n",
       " '해줍니다',\n",
       " '해당',\n",
       " '해결해야',\n",
       " '해결할',\n",
       " '함수입니다',\n",
       " '한국어',\n",
       " '한국',\n",
       " '하차',\n",
       " '하는거',\n",
       " '하나요',\n",
       " '하나',\n",
       " '피하기',\n",
       " '프로그램',\n",
       " '표준오차',\n",
       " '폐기완료',\n",
       " '폐기예정',\n",
       " '페이지에서',\n",
       " '페이지',\n",
       " '파일명',\n",
       " '트루라는',\n",
       " '통신장애',\n",
       " '토탈',\n",
       " '토론의',\n",
       " '태블릿',\n",
       " '태그들을',\n",
       " '태권도',\n",
       " '타블렛',\n",
       " '키보드',\n",
       " '클릭이',\n",
       " '클릭되었으면',\n",
       " '클릭',\n",
       " '클래스',\n",
       " '코인에',\n",
       " '코드',\n",
       " '커뮤니티',\n",
       " '카테고리',\n",
       " '추정치',\n",
       " '추가시킬',\n",
       " '추가',\n",
       " '최소값',\n",
       " '최상단',\n",
       " '총알',\n",
       " '체크박스',\n",
       " '처방의명',\n",
       " '처방의료기관명',\n",
       " '찾았다는',\n",
       " '찾아서',\n",
       " '창업부서소개',\n",
       " '창업보육',\n",
       " '창업멘토단',\n",
       " '진행상황',\n",
       " '지폐',\n",
       " '지원',\n",
       " '중요한가요',\n",
       " '중요하다면',\n",
       " '주소',\n",
       " '종각',\n",
       " '정의',\n",
       " '접근',\n",
       " '전체',\n",
       " '전에',\n",
       " '저장소에서',\n",
       " '저장소가',\n",
       " '저장되지',\n",
       " '저장',\n",
       " '자체가',\n",
       " '있는지',\n",
       " '있나요',\n",
       " '입력했는데요',\n",
       " '입니다',\n",
       " '임시',\n",
       " '읽을',\n",
       " '일치하는',\n",
       " '일수',\n",
       " '인사말',\n",
       " '이전',\n",
       " '이미지를',\n",
       " '요가',\n",
       " '외부에서',\n",
       " '올바른',\n",
       " '오류가',\n",
       " '역번호',\n",
       " '역명',\n",
       " '여친에',\n",
       " '여보세요',\n",
       " '여기서',\n",
       " '에러가',\n",
       " '없습니다',\n",
       " '어떻게',\n",
       " '약제비',\n",
       " '암호화',\n",
       " '않습니다',\n",
       " '안되있으면',\n",
       " '안녕하세요',\n",
       " '실행된',\n",
       " '시청',\n",
       " '승차',\n",
       " '스타트업',\n",
       " '스크린샷',\n",
       " '수정',\n",
       " '수신기',\n",
       " '수량',\n",
       " '소개',\n",
       " '셀프',\n",
       " '성별',\n",
       " '설정',\n",
       " '선택해주세요',\n",
       " '서울역',\n",
       " '생년월일',\n",
       " '삭제',\n",
       " '사항',\n",
       " '사이즈',\n",
       " '사용가능한',\n",
       " '사용',\n",
       " '복호화',\n",
       " '보여주는',\n",
       " '백업장비',\n",
       " '발생했네요',\n",
       " '발레',\n",
       " '받은',\n",
       " '받았어요',\n",
       " '받았습니다',\n",
       " '반복',\n",
       " '미팅',\n",
       " '미사용',\n",
       " '문제가',\n",
       " '모바일',\n",
       " '모든',\n",
       " '모니터',\n",
       " '맥북',\n",
       " '맞는',\n",
       " '마이페이지',\n",
       " '마우스',\n",
       " '리모트',\n",
       " '리더',\n",
       " '로그인',\n",
       " '로그아웃',\n",
       " '떴어요',\n",
       " '들어갈',\n",
       " '되는',\n",
       " '동전들',\n",
       " '동전',\n",
       " '대해서',\n",
       " '다음과',\n",
       " '다운받고',\n",
       " '다운로드',\n",
       " '다운',\n",
       " '노트북',\n",
       " '네트워크장비',\n",
       " '내용은',\n",
       " '납니다',\n",
       " '날짜',\n",
       " '나이',\n",
       " '나가시겠습니까',\n",
       " '금액에',\n",
       " '금액',\n",
       " '그리고',\n",
       " '그런데',\n",
       " '권한이',\n",
       " '구현',\n",
       " '구분',\n",
       " '과정에서',\n",
       " '고객명',\n",
       " '고객',\n",
       " '계산',\n",
       " '결과값오나요',\n",
       " '건의',\n",
       " '개수',\n",
       " '같이',\n",
       " '같은',\n",
       " '강남구',\n",
       " '가짓수',\n",
       " '가능한',\n",
       " '龙牌之谜',\n",
       " '鼠胆英雄',\n",
       " '黑凤凰',\n",
       " '鹿晗',\n",
       " '魅族',\n",
       " '高草丛中',\n",
       " '高级查询',\n",
       " '骡子',\n",
       " '飞驰人生',\n",
       " '风中有朵雨做的云',\n",
       " '预订的新船',\n",
       " '预编译对象',\n",
       " '项目文件',\n",
       " '顶点数',\n",
       " '顶层',\n",
       " '音乐人',\n",
       " '需要目标发行版',\n",
       " '雑貨の設計',\n",
       " '雑貨',\n",
       " '雉螻',\n",
       " '集成mybatis',\n",
       " '随之而来的是关于许多城市房价疯涨的报道',\n",
       " '陸地測量部',\n",
       " '陸地測',\n",
       " '陈粒',\n",
       " '阿拉丁',\n",
       " '阿丽塔',\n",
       " '閉じる',\n",
       " '银河补习班',\n",
       " '铤而走险',\n",
       " '重複',\n",
       " '重庆',\n",
       " '酷派',\n",
       " '配置运行插件',\n",
       " '配置',\n",
       " '邮件营销',\n",
       " '選べる',\n",
       " '速度与激情',\n",
       " '通过跟踪器的名字创建跟踪器',\n",
       " '选择框',\n",
       " '送我上青云',\n",
       " '追加ボタンの設定',\n",
       " '连接服务端',\n",
       " '这篇论文是什么时候发表的',\n",
       " '这篇论文',\n",
       " '这个功能将被修改的',\n",
       " '这个元素附加源和附加javadoc',\n",
       " '这个api允许修改',\n",
       " '返回的四个值x',\n",
       " '返回列表',\n",
       " '返信済',\n",
       " '近一年是否有欺诈与假货店铺处罚',\n",
       " '运行时间',\n",
       " '运维组件',\n",
       " '输入参数',\n",
       " '转换geojson',\n",
       " '輸出檔案位置',\n",
       " '輸出',\n",
       " '越南',\n",
       " '超过阈值',\n",
       " '货主名称',\n",
       " '資優班',\n",
       " '谍影行动',\n",
       " '调查组成员功能使用next',\n",
       " '读成字符串',\n",
       " '读取第一帧',\n",
       " '读取服务器端数据',\n",
       " '请重新提交',\n",
       " '请求本地服务数据异常',\n",
       " '请参阅contentdatastore使用这个api实现共同opperations的例子',\n",
       " '该方法将删除任何现有的本地资源或抛出ioexception如果远程数据存储',\n",
       " '设置编码格式',\n",
       " '设置加载的视频文件路径',\n",
       " '设置全局状态',\n",
       " '设置wgs84格式',\n",
       " '设置featuretype数据存储',\n",
       " '计时点2',\n",
       " '计时点1',\n",
       " '請問大家還有甚麼方式能在android',\n",
       " '詳しくはこちらからご確認ください',\n",
       " '触覚に訴えるプロダクト',\n",
       " '触覚に訴える',\n",
       " '表示したいurl',\n",
       " '行目',\n",
       " '蜘蛛侠',\n",
       " '蔡依林',\n",
       " '菜鸟金融客户授信初审报告',\n",
       " '菜单角色',\n",
       " '获取后续帧中对象的更新位置',\n",
       " '英雄远征',\n",
       " '自己创建数据库所设置的密码',\n",
       " '自定义的apiview',\n",
       " '联盟广告',\n",
       " '联想',\n",
       " '而导致失败的',\n",
       " '美林的结论是',\n",
       " '缘起',\n",
       " '编写和基于过滤器的修改',\n",
       " '给出服务端的ip地址',\n",
       " '绘制跟踪的对象',\n",
       " '终局之战',\n",
       " '繁體中文',\n",
       " '緊張感のある空間をつくる',\n",
       " '結束',\n",
       " '終わりの時間',\n",
       " '系统',\n",
       " '类似的api',\n",
       " '简体中文',\n",
       " '第一卫士',\n",
       " '窶從ew',\n",
       " '窶彗s',\n",
       " '窶弑',\n",
       " '窶廡窶',\n",
       " '程式碼',\n",
       " '程式以返回碼',\n",
       " '科展',\n",
       " '私らしく',\n",
       " '私たちと一緒にプラント工事に従事する協力会社を募集しています',\n",
       " '神奇动物',\n",
       " '確定用語集',\n",
       " '直到完成选择所有对象',\n",
       " '監視システム',\n",
       " '白蛇',\n",
       " '登録する',\n",
       " '登录',\n",
       " '疾速备战',\n",
       " '疯狂的外星人',\n",
       " '画期的な椅子になっています',\n",
       " '电流i',\n",
       " '由自由广场向华盛顿特区国会山行进',\n",
       " '田馥甄',\n",
       " '用户中心',\n",
       " '用户不存在',\n",
       " '用户',\n",
       " '生活に刺激を求めている人',\n",
       " '生成配置属性信息',\n",
       " '生成测试数据',\n",
       " '生成失败',\n",
       " '理数',\n",
       " '現在',\n",
       " '玩具总动员4',\n",
       " '状態',\n",
       " '特别行动',\n",
       " '物理',\n",
       " '版本中',\n",
       " '片面は固く',\n",
       " '爱宠大机密2',\n",
       " '無数の紙を渦状に丸めた形状によって',\n",
       " '烈火英雄',\n",
       " '火焰值',\n",
       " '火焰',\n",
       " '源发行版',\n",
       " '清空服务器地址结构体',\n",
       " '添加属性类型',\n",
       " '添加属性值和坐标',\n",
       " '添加创建的路径',\n",
       " '深夜食堂',\n",
       " '海王',\n",
       " '测试并行循环的耗时',\n",
       " '流逝',\n",
       " '流浪地球',\n",
       " '注销',\n",
       " '注册',\n",
       " '波西米亚狂想曲',\n",
       " '沉默的证人',\n",
       " '江南',\n",
       " '比例',\n",
       " '毎日の慣れた生活空間の中に新感覚の刺激を与えてくれ',\n",
       " '武汉',\n",
       " '此段程式碼都是不會出錯的',\n",
       " '正式版本',\n",
       " '欢迎你',\n",
       " '樣品',\n",
       " '様々な素材や大きさのロールによるカスタム仕様なので',\n",
       " '様々な展開が可能です',\n",
       " '楷体',\n",
       " '格林德沃之罪',\n",
       " '栏目下拉条目列表',\n",
       " '标记_field',\n",
       " '柳烈的音乐专辑',\n",
       " '柬埔寨',\n",
       " '查找了網路資料',\n",
       " '极限逃生',\n",
       " '极限职业',\n",
       " '来读取视频文件',\n",
       " '条目标题',\n",
       " '李荣浩',\n",
       " '机密',\n",
       " '本应该到学校的时候还在睡觉',\n",
       " '未返信',\n",
       " '未確定',\n",
       " '未指定默认算法',\n",
       " '有两种方法可以初始化multitracker',\n",
       " '月曜日から金曜日まで',\n",
       " '最近30天日均销售金额',\n",
       " '最近30天日均销售订单数',\n",
       " '最近30天日均销售出库件数',\n",
       " '最近30天日均销售件数',\n",
       " '最近30天日均期末库存件数',\n",
       " '最近30天日均入库件数',\n",
       " '最近30天平均周转天数',\n",
       " '最终得分',\n",
       " '最后修改员',\n",
       " '更改负载均衡策略',\n",
       " '曜日',\n",
       " '时间',\n",
       " '日本語がわかる方は日本語で答えていただけると大変助かります',\n",
       " '日本語',\n",
       " '日期',\n",
       " '无敌破坏王2',\n",
       " '无名之辈',\n",
       " '旋转角度',\n",
       " '新建文件夹',\n",
       " '新区101车间',\n",
       " '新加坡',\n",
       " '文章',\n",
       " '文件名_field',\n",
       " '文件上传框的name',\n",
       " '数据库链接成功2',\n",
       " '数据库连接失败',\n",
       " '数字多功能光盘',\n",
       " '支出',\n",
       " '操作成功',\n",
       " '提取内容_field',\n",
       " '提交失败',\n",
       " '描述',\n",
       " '措施数量',\n",
       " '措施名称',\n",
       " '措施代码',\n",
       " '接受标志',\n",
       " '按下p键可以新添加目标',\n",
       " '指定跟踪器类型',\n",
       " '投票第１位',\n",
       " '找不到驱动程序类',\n",
       " '找不到指定的程序',\n",
       " '找不到指定的模块',\n",
       " '打印并发队列head属性的identityhashcode',\n",
       " '所有跟踪器都添加到这个多路程序中',\n",
       " '所以循环调用此函数',\n",
       " '战斗天使',\n",
       " '或修改后写',\n",
       " '或下',\n",
       " '我身体里的那个家伙',\n",
       " '我的粉丝',\n",
       " '我的程式使用的是系統權限',\n",
       " '我的收藏',\n",
       " '我的天使',\n",
       " '我的博客',\n",
       " '我的关注',\n",
       " '我也利用了execute方式',\n",
       " '您好',\n",
       " '恶人传',\n",
       " '总数',\n",
       " '心理测量者ss3',\n",
       " '心理测量者ss2',\n",
       " '当前角色的菜单',\n",
       " '当前角色对应的用户',\n",
       " '当前用户的权限',\n",
       " '张杰',\n",
       " '开始将文件复制到远程计算机',\n",
       " '建立檔案',\n",
       " '建立两个本地cpu内核的并行',\n",
       " '店铺名称',\n",
       " '并包含子项目',\n",
       " '并且是在你们的命令下',\n",
       " '平行宇宙',\n",
       " '常州',\n",
       " '布局样式',\n",
       " '巴西',\n",
       " '已完成复制文件',\n",
       " '巨鳄风暴',\n",
       " '左下',\n",
       " '左上',\n",
       " '工件的散热方式分为三个阶段',\n",
       " '展開',\n",
       " '小米',\n",
       " '小委托人',\n",
       " '将使用csrt算法作为默认值',\n",
       " '寄生虫',\n",
       " '客户端关闭socket异常',\n",
       " '客户分层',\n",
       " '定义本地地址长度',\n",
       " '定义本地地址',\n",
       " '定义服务端地址长度',\n",
       " '定义服务器地址',\n",
       " '定义操作返回值',\n",
       " '定义套接字描述符',\n",
       " '定义地址中的地址类型',\n",
       " '安娜',\n",
       " '字段描述',\n",
       " '姩鍒嗛',\n",
       " '如果檔案不存在',\n",
       " '如果无法读取视频文件就退出',\n",
       " '如果你不调用这两个方法调用之前hasnext',\n",
       " '天宁',\n",
       " '大闹互联网',\n",
       " '大侦探皮卡丘',\n",
       " '大人の美しさを際立たせました',\n",
       " '复仇者联盟4',\n",
       " '处理视频并跟踪对象',\n",
       " '增加jvm参数',\n",
       " '坡耕地',\n",
       " '坡度',\n",
       " '地久天长',\n",
       " '在過去的android',\n",
       " '在此处执行全局配置',\n",
       " '在对象上绘制边界框selectroi的默认行为是从fromcenter设置为false时从中心开始绘制框',\n",
       " '圣保罗州',\n",
       " '圣保罗',\n",
       " '土坎梯田',\n",
       " '图斑编码',\n",
       " '因此没有能找到javadoc',\n",
       " '因为无需在包运行时重新生成索引',\n",
       " '回傳一個uri後執行讀寫檔案的功能',\n",
       " '启用',\n",
       " '向服务器端发送数据',\n",
       " '名字',\n",
       " '名品城海外专营店',\n",
       " '右下',\n",
       " '右上',\n",
       " '可以从左上角开始绘制框',\n",
       " '只找到一篇saf機制也許可以提供協助',\n",
       " '口座',\n",
       " '取的字串內容bytes',\n",
       " '取出特征里面的属性集合',\n",
       " '发送block块',\n",
       " '发表',\n",
       " '发展和保持一个高素质的人力资源管理系统',\n",
       " '収入',\n",
       " '双向映射造成数据重复查询死循环问题',\n",
       " '友情以上',\n",
       " '卻出現了permission',\n",
       " '協力会社の募集',\n",
       " '华为',\n",
       " '北京',\n",
       " '包校验和失败',\n",
       " '包含子项目',\n",
       " '勤務開始希望日',\n",
       " '動と静を共有する椅子',\n",
       " '動くのに若干抵抗がある人',\n",
       " '加载驱动成功',\n",
       " '加载驱动失败',\n",
       " '加载驱动',\n",
       " '加賀屋',\n",
       " '利用现状',\n",
       " '判断是否出错',\n",
       " '初始现金',\n",
       " '初始化多跟踪器',\n",
       " '初始化multitracker',\n",
       " '创建要素模板',\n",
       " '创建文件路径',\n",
       " '创建数据库链接对象',\n",
       " '创建对象添加属性信息',\n",
       " '创建客户端套接字',\n",
       " '创建多跟踪器对象',\n",
       " '创建坐标',\n",
       " '创建video',\n",
       " '创建shape文件数据仓库根据工厂',\n",
       " '创建shape文件',\n",
       " '创建',\n",
       " '列資料',\n",
       " '分布插件',\n",
       " '凛々しさを演出し',\n",
       " '减少耻辱感和歧视',\n",
       " '再来週の月曜日',\n",
       " '再来週',\n",
       " '内部ビデオ',\n",
       " '共有',\n",
       " '六月',\n",
       " '公路',\n",
       " '全部',\n",
       " '停用',\n",
       " '個字元',\n",
       " '個位元組',\n",
       " '信息',\n",
       " '保证spring',\n",
       " '保持沉默',\n",
       " '侵入',\n",
       " '依赖的连接池类库',\n",
       " '依赖的数据库驱动类库',\n",
       " '依赖的web类库',\n",
       " '依然是ioexception',\n",
       " '例如',\n",
       " '使用跟踪算法初始化multitracker',\n",
       " '使用深度缓存',\n",
       " '使徒行者2',\n",
       " '你好',\n",
       " '你可以叫删除',\n",
       " '但還是沒有效果',\n",
       " '但是這個機制是intent機器本身的檔案總管',\n",
       " '但是最近在撰寫android',\n",
       " '但商业内幕网站是他的另外一项个人投资',\n",
       " '伪代码',\n",
       " '企画',\n",
       " '企业评分',\n",
       " '企业版',\n",
       " '企业征信信息',\n",
       " '企业名称',\n",
       " '企业信息',\n",
       " '企业下属店铺销售记录',\n",
       " '企业下属店铺销售信息',\n",
       " '企业下属店铺菜鸟仓库存信息',\n",
       " '企业下属店铺名称',\n",
       " '仲夏夜惊魂',\n",
       " '以同樣的uri給了同樣的funtion卻無法成功建立新檔案',\n",
       " '以传给check_comm_error函数',\n",
       " '以上的版本時',\n",
       " '以push的方式嘗試',\n",
       " '他瘦骨嶙峋',\n",
       " '什么时候',\n",
       " '亲密旅行',\n",
       " '也確實有宣告讀與寫的權限',\n",
       " '乐视',\n",
       " '乌兰图雅',\n",
       " '主要是用于远程教育',\n",
       " '为待发送的数据缓冲区',\n",
       " '为idea',\n",
       " '中文',\n",
       " '中央区',\n",
       " '下一页',\n",
       " '下だけ丸める',\n",
       " '上海',\n",
       " '上午',\n",
       " '上传',\n",
       " '上だけ丸める',\n",
       " '三進工業では',\n",
       " '三星',\n",
       " '三个参数分别是旋转中心',\n",
       " '䈏ţ94v',\n",
       " 'ㅠㅠ',\n",
       " 'ㄴㄴ해',\n",
       " 'ㄴname',\n",
       " 'ㄴinfo',\n",
       " 'ユーザー情報取得',\n",
       " 'ユーザー情報をセットして',\n",
       " 'ユーザロールを持つユーザだけが利用できるコンテンツ',\n",
       " 'モチーフの見た目から命名しました',\n",
       " 'メインページ',\n",
       " 'メイリオ',\n",
       " 'プロダクト',\n",
       " 'ヒラギノ角ゴシック',\n",
       " 'パートナーを募集しています',\n",
       " 'バラ',\n",
       " 'ネーミング',\n",
       " 'デザイン研究',\n",
       " 'デザインされたものが好きな人',\n",
       " 'テストトト',\n",
       " 'スタート時間',\n",
       " 'スタート',\n",
       " 'エキサイティングな感覚と少しのスリルを味わうことができます',\n",
       " 'ウンロード',\n",
       " 'もう片面は程よく弾力のある',\n",
       " 'は小文字より大文字にすることで',\n",
       " 'ついつい無駄に過ごしてしまいがちな日常',\n",
       " 'それで日常の問題を解決できたら',\n",
       " 'その無駄な時間を少しでも減らせる手助けになる商品をつくりました',\n",
       " 'そこであえて触感の悪いものを提供して',\n",
       " 'さいたま市',\n",
       " 'この触り心地を発見',\n",
       " 'おはようございます',\n",
       " 'えええおおお',\n",
       " 'いつもキレイ',\n",
       " 'あああいいいうううえええおおおダウンロード',\n",
       " 'あああい',\n",
       " '④finally',\n",
       " '③split',\n",
       " '②label',\n",
       " '①load',\n",
       " 'ẹǵġĝǧğg',\n",
       " 'ṅn',\n",
       " 'វម',\n",
       " 'រយ',\n",
       " 'រភ',\n",
       " 'មក',\n",
       " 'ផប',\n",
       " 'តល',\n",
       " 'ដល',\n",
       " 'ជន',\n",
       " 'ខភ',\n",
       " 'ᚴ2',\n",
       " 'ሰላም',\n",
       " 'ჸ൵蠀',\n",
       " 'წაღებული',\n",
       " 'ცხელი',\n",
       " 'ცივი',\n",
       " 'ტანსაცმლის',\n",
       " 'საქართველო',\n",
       " 'სასმელი',\n",
       " 'სასაჩუქრე',\n",
       " 'მობილური',\n",
       " 'მაღაზია',\n",
       " 'ლარი',\n",
       " 'კერძი',\n",
       " 'კავშირი',\n",
       " 'იან',\n",
       " 'დესერტი',\n",
       " 'გამაგრილებელი',\n",
       " 'ბარათი',\n",
       " 'ალკოჰოლური',\n",
       " 'ใบใบใบใบ',\n",
       " 'ใบแจ',\n",
       " 'ใบส',\n",
       " 'แจ',\n",
       " 'เลขท',\n",
       " 'เพ',\n",
       " 'เต',\n",
       " 'เฉพาะต',\n",
       " 'าใช',\n",
       " 'าย',\n",
       " 'าง',\n",
       " 'อไม',\n",
       " 'อหน',\n",
       " 'อว',\n",
       " 'อล',\n",
       " 'อม',\n",
       " 'อพน',\n",
       " 'อน',\n",
       " 'องการยกเล',\n",
       " 'อง',\n",
       " 'หล',\n",
       " 'หร',\n",
       " 'หน',\n",
       " 'สใบผล',\n",
       " 'สว',\n",
       " 'สล',\n",
       " 'สพน',\n",
       " 'สด',\n",
       " 'วเลข',\n",
       " 'วย',\n",
       " 'ลสำเร',\n",
       " 'ลบ',\n",
       " 'ราคารวมท',\n",
       " 'ราคารวม',\n",
       " 'ราคาต',\n",
       " 'รห',\n",
       " 'รวมท',\n",
       " 'ยอดคงเหล',\n",
       " 'มข',\n",
       " 'พน',\n",
       " 'บน',\n",
       " 'นเด',\n",
       " 'นเฉล',\n",
       " 'นท',\n",
       " 'นค',\n",
       " 'ตใช',\n",
       " 'ตรวจสอบ',\n",
       " 'ณาใส',\n",
       " 'ณากรอกรห',\n",
       " 'จำนวนเง',\n",
       " 'จำนวน',\n",
       " 'งเต',\n",
       " 'งเง',\n",
       " 'งหมดว',\n",
       " 'งหมด',\n",
       " 'งผล',\n",
       " 'งซ',\n",
       " 'คำส',\n",
       " 'ขวา',\n",
       " 'กร',\n",
       " 'กต',\n",
       " 'กงานให',\n",
       " 'กงาน',\n",
       " 'กค',\n",
       " 'กการผล',\n",
       " 'වර',\n",
       " 'වන',\n",
       " 'පළල',\n",
       " 'පමණ',\n",
       " 'ටසක',\n",
       " 'ටර',\n",
       " 'කණ',\n",
       " 'ඔබට',\n",
       " 'උස',\n",
       " 'අස',\n",
       " 'രള_ന',\n",
       " 'യമസഭ',\n",
       " 'ਰਕਤ',\n",
       " 'ਪਰਤ',\n",
       " 'ਪਰਕ',\n",
       " 'ਤਕ',\n",
       " 'ਚਰਚ',\n",
       " 'ਚਟਪਟ',\n",
       " 'ਕਰ',\n",
       " 'সময়',\n",
       " 'সব',\n",
       " 'মত',\n",
       " 'দন',\n",
       " 'থন',\n",
       " 'তর',\n",
       " 'ছব',\n",
       " 'একট',\n",
       " 'উত',\n",
       " 'ইপ',\n",
       " 'আম',\n",
       " 'আন',\n",
       " 'অর',\n",
       " '६४',\n",
       " 'हम',\n",
       " 'हज',\n",
       " 'हक',\n",
       " 'सल',\n",
       " 'सब',\n",
       " 'सडक',\n",
       " 'सच',\n",
       " 'सक',\n",
       " 'षत',\n",
       " 'वर',\n",
       " 'वक',\n",
       " 'लल',\n",
       " 'लड',\n",
       " 'रल',\n",
       " 'रय',\n",
       " 'रम',\n",
       " 'रत',\n",
       " 'रकम',\n",
       " 'रक',\n",
       " 'यस',\n",
       " 'यरत',\n",
       " 'यज',\n",
       " 'यक',\n",
       " 'मद',\n",
       " 'भन',\n",
       " 'भएम',\n",
       " 'भएक',\n",
       " 'बत',\n",
       " 'बढ',\n",
       " 'फब',\n",
       " 'पर',\n",
       " 'पय',\n",
       " 'पन',\n",
       " 'नल',\n",
       " 'नमस',\n",
       " 'नपत',\n",
       " 'थल',\n",
       " 'तरम',\n",
       " 'तर',\n",
       " 'तम',\n",
       " 'तथ',\n",
       " 'डलरसम',\n",
       " 'ञबह',\n",
       " 'जन',\n",
       " 'जद',\n",
       " 'घटन',\n",
       " 'गर',\n",
       " 'खल',\n",
       " 'कहत',\n",
       " 'कर',\n",
       " 'कम',\n",
       " 'कक',\n",
       " 'एक',\n",
       " 'एउट',\n",
       " 'उपलब',\n",
       " 'उनल',\n",
       " 'उन',\n",
       " 'उच',\n",
       " 'इत',\n",
       " 'इएक',\n",
       " 'आज',\n",
       " 'आउ',\n",
       " 'अम',\n",
       " 'अध',\n",
       " '۹۸',\n",
       " '۸۸۱۴۹۸۱۶',\n",
       " '۳۶',\n",
       " '۲۱',\n",
       " 'یکی',\n",
       " 'یک',\n",
       " 'یم',\n",
       " 'گیریم',\n",
       " 'گیرد',\n",
       " 'گوگل',\n",
       " 'گلر',\n",
       " 'گلایه',\n",
       " 'گفت',\n",
       " 'گزینه',\n",
       " 'گزارش',\n",
       " 'گروه',\n",
       " 'کیفیت',\n",
       " 'کوچی',\n",
       " 'کوردی',\n",
       " 'که',\n",
       " 'کنید',\n",
       " 'کنونی',\n",
       " 'کنم',\n",
       " 'کند',\n",
       " 'کشور',\n",
       " 'کسی',\n",
       " 'کریستی',\n",
       " 'کرمی',\n",
       " 'کرده',\n",
       " 'کردند',\n",
       " 'کردن',\n",
       " 'کرد',\n",
       " 'کد',\n",
       " 'کتاب',\n",
       " 'کالا',\n",
       " 'کارمندان',\n",
       " 'کاربری',\n",
       " 'کاربران',\n",
       " 'کار',\n",
       " 'چیست',\n",
       " 'چیز',\n",
       " 'چگونه',\n",
       " 'چه',\n",
       " 'چنین',\n",
       " 'چند',\n",
       " 'چرچ',\n",
       " 'چرا',\n",
       " 'پیوست',\n",
       " 'پیروان',\n",
       " 'پی',\n",
       " 'پول',\n",
       " 'پوشاک',\n",
       " 'پشیمان',\n",
       " 'پشتیبانی',\n",
       " 'پست',\n",
       " 'پس',\n",
       " 'پرسپولیس',\n",
       " 'پرده',\n",
       " 'پذیرفته',\n",
       " 'پاشیدیم',\n",
       " 'پاشیدید',\n",
       " 'پاشیدی',\n",
       " 'پاشیدند',\n",
       " 'پاشیدم',\n",
       " 'پاشید',\n",
       " 'پاسخ',\n",
       " '٦٠',\n",
       " '٤٦١٣٩',\n",
       " '٤٣',\n",
       " '٣٧',\n",
       " '٢٠١٩',\n",
       " '٢٠٠٠٣',\n",
       " '٠٤',\n",
       " 'يوم',\n",
       " 'يوجد',\n",
       " 'يمنين',\n",
       " 'يمني',\n",
       " 'يكون',\n",
       " 'يفتخر',\n",
       " 'يرجى',\n",
       " 'يحاول',\n",
       " 'يجب',\n",
       " 'ىلاةةيلاةلا',\n",
       " 'ویژه',\n",
       " 'ویندوزهای',\n",
       " 'ویندوز',\n",
       " 'وی',\n",
       " 'وگو',\n",
       " 'وكان',\n",
       " 'وقت',\n",
       " 'وفخر',\n",
       " 'وضعیت',\n",
       " 'وصله',\n",
       " 'وشكرا',\n",
       " 'وزیر',\n",
       " 'ورود',\n",
       " 'ورزشی',\n",
       " 'ورزش',\n",
       " 'وجود',\n",
       " 'وبينما',\n",
       " 'وب',\n",
       " 'وانتقالات',\n",
       " 'واناکرای',\n",
       " 'والمطبخ',\n",
       " 'والمسجد',\n",
       " 'والفيديو',\n",
       " 'واضحه',\n",
       " 'واشنگتن',\n",
       " 'وارد',\n",
       " 'وأساور',\n",
       " 'هوایی',\n",
       " 'هنا',\n",
       " 'همین',\n",
       " 'همه',\n",
       " 'همدان',\n",
       " 'هم',\n",
       " 'هلکانو',\n",
       " 'هلا',\n",
       " 'هـ',\n",
       " 'هستند',\n",
       " 'هر',\n",
       " 'های',\n",
       " 'ها',\n",
       " 'نیوز',\n",
       " 'نیست',\n",
       " 'نوعیت',\n",
       " 'نوشت',\n",
       " 'نور',\n",
       " 'نه',\n",
       " 'نمیتواند',\n",
       " 'نمی',\n",
       " 'نمایندگی',\n",
       " 'نمایندگان',\n",
       " 'نماینده',\n",
       " 'نمایش',\n",
       " 'نقل',\n",
       " 'نفع',\n",
       " 'نفت',\n",
       " 'نظر',\n",
       " 'نصنيفات',\n",
       " 'نشست',\n",
       " 'نسبت',\n",
       " 'نزدیکترین',\n",
       " 'نرفتن',\n",
       " 'ندارد',\n",
       " 'نخستین',\n",
       " 'نجونو',\n",
       " 'نت',\n",
       " 'نبوده',\n",
       " 'نایب',\n",
       " 'نام',\n",
       " 'ناراضی',\n",
       " 'ناامید',\n",
       " 'میلیارد',\n",
       " 'می',\n",
       " ...]"
      ]
     },
     "execution_count": 198,
     "metadata": {},
     "output_type": "execute_result"
    }
   ],
   "source": [
    "vocabulary_tree_body"
   ]
  },
  {
   "cell_type": "code",
   "execution_count": 199,
   "metadata": {},
   "outputs": [
    {
     "data": {
      "text/plain": [
       "[]"
      ]
     },
     "execution_count": 199,
     "metadata": {},
     "output_type": "execute_result"
    }
   ],
   "source": [
    "vocabulary_tree_title"
   ]
  },
  {
   "cell_type": "markdown",
   "metadata": {},
   "source": [
    "### Комментарий \n",
    "Я не знаю почему, но ни одно слово из title не попала в первый 15000 важных\n",
    "\n",
    "А еще я абсолютно беспонятия, что тут делают слова на корейском и главное почему они так важны, видимо что-то пошло не так как планировалось с RandomForest и он практически имеет нулевую информативность"
   ]
  },
  {
   "cell_type": "code",
   "execution_count": 200,
   "metadata": {},
   "outputs": [],
   "source": [
    "vectorizer = CountVectorizer(stop_words='english', min_df = 0.002)\n",
    "data_title = vectorizer.fit_transform(x_train_initial['title'])\n",
    "vocabulary_title = vectorizer.vocabulary_"
   ]
  },
  {
   "cell_type": "code",
   "execution_count": 201,
   "metadata": {},
   "outputs": [],
   "source": [
    "vectorizer = CountVectorizer(stop_words='english', vocabulary= vocabulary_tree_body)\n",
    "data_body = vectorizer.fit_transform(x_train_initial['body'])\n",
    "vocabulary_body = vectorizer.vocabulary_"
   ]
  },
  {
   "cell_type": "code",
   "execution_count": 202,
   "metadata": {},
   "outputs": [],
   "source": [
    "x_train = sp.hstack([data_title, data_body])"
   ]
  },
  {
   "cell_type": "code",
   "execution_count": 204,
   "metadata": {},
   "outputs": [],
   "source": [
    "vectorizer = CountVectorizer(vocabulary=vocabulary_title)\n",
    "data_title = vectorizer.fit_transform(x_test_initial['title'])\n",
    "vectorizer = CountVectorizer(vocabulary=vocabulary_body)\n",
    "data_body = vectorizer.fit_transform(x_test_initial['body'])\n",
    "x_test = sp.hstack([data_title, data_body])"
   ]
  },
  {
   "cell_type": "code",
   "execution_count": 206,
   "metadata": {},
   "outputs": [],
   "source": [
    "logistic = LogisticRegression(C=3.73, max_iter=10000)\n",
    "logistic.fit(x_train, y_train['label'])\n",
    "fpr_log_RF, tpr_log_RF, thresholds_log_RF = roc_curve(y_test['label'], logistic.predict_proba(x_test)[:, 1])"
   ]
  },
  {
   "cell_type": "code",
   "execution_count": null,
   "metadata": {},
   "outputs": [],
   "source": []
  },
  {
   "cell_type": "code",
   "execution_count": 207,
   "metadata": {},
   "outputs": [],
   "source": [
    "vectorizer = HashingVectorizer(stop_words='english', n_features=15000)\n",
    "data_title = vectorizer.fit_transform(x_train_initial['title'])"
   ]
  },
  {
   "cell_type": "code",
   "execution_count": 208,
   "metadata": {},
   "outputs": [],
   "source": [
    "vectorizer = HashingVectorizer(stop_words='english', n_features=15000)\n",
    "data_body = vectorizer.fit_transform(x_train_initial['body'])"
   ]
  },
  {
   "cell_type": "code",
   "execution_count": 209,
   "metadata": {},
   "outputs": [],
   "source": [
    "x_train = data_title + data_body"
   ]
  },
  {
   "cell_type": "code",
   "execution_count": 210,
   "metadata": {},
   "outputs": [],
   "source": [
    "vectorizer = HashingVectorizer(stop_words='english', n_features=15000)\n",
    "data_title = vectorizer.fit_transform(x_test_initial['title'])\n",
    "vectorizer = HashingVectorizer(stop_words='english', n_features=15000)\n",
    "data_body = vectorizer.fit_transform(x_test_initial['body'])\n",
    "x_test = data_title + data_body"
   ]
  },
  {
   "cell_type": "code",
   "execution_count": 211,
   "metadata": {},
   "outputs": [],
   "source": [
    "logistic = LogisticRegression(C=3.73, max_iter=10000)\n",
    "logistic.fit(x_train, y_train['label'])\n",
    "fpr_log_hash, tpr_log_hash, thresholds_log_hash = roc_curve(y_test['label'], logistic.predict_proba(x_test)[:, 1])"
   ]
  },
  {
   "cell_type": "code",
   "execution_count": null,
   "metadata": {},
   "outputs": [],
   "source": []
  },
  {
   "cell_type": "code",
   "execution_count": 212,
   "metadata": {},
   "outputs": [
    {
     "name": "stdout",
     "output_type": "stream",
     "text": [
      "AUC_log:  0.9126906170578928\n",
      "AUC_log_top:  0.8921114651657788\n",
      "AUC_log_RF:  0.8587378774766268\n",
      "AUC_log_hash:  0.9437116566069474\n"
     ]
    },
    {
     "data": {
      "image/png": "[encoded data removed]",
      "text/plain": [
       "<Figure size 432x288 with 1 Axes>"
      ]
     },
     "metadata": {
      "needs_background": "light"
     },
     "output_type": "display_data"
    }
   ],
   "source": [
    "line1, = plt.plot(fpr_log, tpr_log, c='blue')\n",
    "line2, = plt.plot(fpr_log_top, tpr_log_top, c='red')\n",
    "line3, = plt.plot(fpr_log_RF, tpr_log_RF, c='green')\n",
    "line4, = plt.plot(fpr_log_hash, tpr_log_hash, c='purple')\n",
    "\n",
    "plt.xlabel('FPR')\n",
    "plt.ylabel('TPR')\n",
    "plt.yticks([i / 20 for i in range(0, 21)])\n",
    "plt.grid(b=True)\n",
    "plt.legend((line1, line2, line3, line4), ('log_reg_all_words', 'log_reg_top_words', 'log_reg_RF_selected', 'log_reg_hash'))\n",
    "plt.title('ROC_Curve')\n",
    "print('AUC_log: ', auc(fpr_log, tpr_log))\n",
    "print('AUC_log_top: ', auc(fpr_log_top, tpr_log_top))\n",
    "print('AUC_log_RF: ', auc(fpr_log_RF, tpr_log_RF))\n",
    "print('AUC_log_hash: ', auc(fpr_log_hash, tpr_log_hash))"
   ]
  },
  {
   "cell_type": "code",
   "execution_count": null,
   "metadata": {},
   "outputs": [],
   "source": []
  }
 ],
 "metadata": {
  "kernelspec": {
   "display_name": "Python 3",
   "language": "python",
   "name": "python3"
  },
  "language_info": {
   "codemirror_mode": {
    "name": "ipython",
    "version": 3
   },
   "file_extension": ".py",
   "mimetype": "text/x-python",
   "name": "python",
   "nbconvert_exporter": "python",
   "pygments_lexer": "ipython3",
   "version": "3.7.3"
  }
 },
 "nbformat": 4,
 "nbformat_minor": 4
}
